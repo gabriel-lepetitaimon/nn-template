{
 "cells": [
  {
   "cell_type": "markdown",
   "metadata": {
    "collapsed": true,
    "pycharm": {
     "name": "#%% md\n"
    }
   },
   "source": [
    "<h1 style='text-align: center;'>\n",
    "    Yaml Enhancements \n",
    "</h1>\n",
    "<h3 style='opacity: 0.8; text-align: center;'> Enhanced syntax for yaml configuration files </h3>"
   ]
  },
  {
   "cell_type": "code",
   "execution_count": 1,
   "metadata": {},
   "outputs": [],
   "source": [
    "%load_ext autoreload\n",
    "%autoreload 2"
   ]
  },
  {
   "cell_type": "code",
   "execution_count": 2,
   "metadata": {
    "pycharm": {
     "name": "#%%\n"
    }
   },
   "outputs": [],
   "source": [
    "from sources import Cfg"
   ]
  },
  {
   "cell_type": "markdown",
   "metadata": {},
   "source": [
    "### References\n",
    "The value of any object define in the configuration can be \"copied\" using absolute reference:\n",
    "`` field: $absolute.path``\n",
    "\n",
    "or relative reference:\n",
    "`` field: $.relative.path``\n",
    "\n",
    "(Similarly to python relative import syntax, '``.``' allows to go up in the hierarchy.)"
   ]
  },
  {
   "cell_type": "code",
   "execution_count": 3,
   "metadata": {
    "pycharm": {
     "name": "#%%\n"
    }
   },
   "outputs": [
    {
     "name": "stdout",
     "output_type": "stream",
     "text": [
      " === RAW FILE ===\n",
      "references:\n",
      "    absolute-ref1: $foo\n",
      "    absolute-ref2: $interesting.stuff\n",
      "    relative-ref1: $..foo\n",
      "    relative-ref2: $.absolute-ref2.elem2\n",
      "    dict-ref:\n",
      "        $: interesting.stuff\n",
      "        elem2: 'not FOO 2'\n",
      "\n",
      "interesting:\n",
      "    stuff:\n",
      "        elem1: 'FOO 1'\n",
      "        elem2: 'FOO 2'\n",
      "\n",
      "interesting.word: 'cool'\n",
      "\n",
      "foo: 'foo value'\n",
      "\n",
      "\n",
      " === PARSED CFG ===\n",
      "references:\n",
      "  absolute-ref1: foo value\n",
      "  absolute-ref2:\n",
      "    elem1: FOO 1\n",
      "    elem2: FOO 2\n",
      "  relative-ref1: foo value\n",
      "  relative-ref2: FOO 2\n",
      "  dict-ref:\n",
      "    elem2: not FOO 2\n",
      "    elem1: FOO 1\n",
      "interesting:\n",
      "  stuff:\n",
      "    elem1: FOO 1\n",
      "    elem2: FOO 2\n",
      "  word: cool\n",
      "foo: foo value\n",
      "\n"
     ]
    }
   ],
   "source": [
    "cfg = Cfg.Parser('yaml-demos/references.yaml').get_config(parse_obj=False)\n",
    "\n",
    "with open('yaml-demos/references.yaml', 'r') as f:\n",
    "    raw = f.read()\n",
    "print(' === RAW FILE ===')\n",
    "print(raw)\n",
    "print('\\n === PARSED CFG ===')\n",
    "print(cfg.to_yaml())\n",
    "\n",
    "assert cfg['references.absolute-ref1'] == 'foo value'\n",
    "assert cfg['references.absolute-ref2.elem1'] == 'FOO 1'\n",
    "assert cfg['references.absolute-ref2.elem2'] == 'FOO 2'\n",
    "assert cfg['references.relative-ref1'] == 'foo value'\n",
    "assert cfg['references.relative-ref2'] == 'FOO 2'"
   ]
  },
  {
   "cell_type": "markdown",
   "metadata": {},
   "source": [
    "A referenced object can contain other reference. But cyclical definition is prohibited."
   ]
  },
  {
   "cell_type": "code",
   "execution_count": 4,
   "metadata": {
    "pycharm": {
     "name": "#%%\n"
    }
   },
   "outputs": [
    {
     "name": "stdout",
     "output_type": "stream",
     "text": [
      "ParseError raised: Redundent definition of \"foo2\".\n"
     ]
    }
   ],
   "source": [
    "try:\n",
    "    Cfg.Parser.resolve_refs(Cfg.Dict({'foo': '$foo2', 'foo2': '$foo'}))\n",
    "except Cfg.Parser.Error as e:\n",
    "    print('ParseError raised:', e)\n",
    "else:\n",
    "    raise RuntimeError('Recursive defintion detection failed!')"
   ]
  },
  {
   "cell_type": "markdown",
   "metadata": {},
   "source": [
    "### Inheritage\n",
    "Inherit another configuration file by starting the yaml with:\n",
    "```yaml\n",
    "%INHERIT file.yaml\n",
    "---\n",
    "```\n",
    "Both file are merged into a single configuration. If the two files define the same field, the new value takes precedence over the inherited one."
   ]
  },
  {
   "cell_type": "code",
   "execution_count": 5,
   "metadata": {
    "pycharm": {
     "name": "#%%\n"
    }
   },
   "outputs": [
    {
     "name": "stdout",
     "output_type": "stream",
     "text": [
      " === RAW FILE ===\n",
      "%INHERIT references.yaml\n",
      "---\n",
      "\n",
      "references:\n",
      "    inherited-ref: $interesting.word\n",
      "\n",
      "interesting:\n",
      "    stuff:\n",
      "        elem2: \"NEW FOO\"\n",
      "\n",
      "\n",
      " === PARSED CFG ===\n",
      "references:\n",
      "  absolute-ref1: foo value\n",
      "  absolute-ref2:\n",
      "    elem1: FOO 1\n",
      "    elem2: NEW FOO\n",
      "  relative-ref1: foo value\n",
      "  relative-ref2: NEW FOO\n",
      "  dict-ref:\n",
      "    elem2: not FOO 2\n",
      "    elem1: FOO 1\n",
      "  inherited-ref: cool\n",
      "interesting:\n",
      "  stuff:\n",
      "    elem1: FOO 1\n",
      "    elem2: NEW FOO\n",
      "  word: cool\n",
      "foo: foo value\n",
      "\n"
     ]
    }
   ],
   "source": [
    "cfg = Cfg.Parser('yaml-demos/inheritage.yaml').get_config(parse_obj=False)\n",
    "\n",
    "with open('yaml-demos/inheritage.yaml', 'r') as f:\n",
    "    raw = f.read()\n",
    "print(' === RAW FILE ===')\n",
    "print(raw)\n",
    "print('\\n === PARSED CFG ===')\n",
    "print(cfg.to_yaml())\n",
    "\n",
    "assert cfg['references.inherited-ref'] == 'cool'"
   ]
  },
  {
   "cell_type": "markdown",
   "metadata": {},
   "source": [
    "### Version Multiplicity\n",
    "Several version of a configuration can be described in a single yaml file either:\n",
    "\n",
    "-  by adding ``@`` at the end of any field name and defining it as the list of its value:\n",
    "```yaml\n",
    "field@: [value1, value2]\n",
    "```\n",
    "\n",
    "- by including several documents in the configuration file. The first document will be the base, each subsequent document will create new a version of the configuration: merging its values with the base.\n",
    "\n",
    "Hence:\n",
    "```yaml\n",
    "base-stuff:\n",
    "    foo: 'FOO'\n",
    "specified-field: default_value\n",
    "---\n",
    "version: '1'\n",
    "---\n",
    "version: '2'\n",
    "specified-field: other-value\n",
    "```\n",
    "\n",
    "Will produce two configurations:\n",
    "```yaml\n",
    "base-stuff:\n",
    "    foo: 'FOO'\n",
    "version: '1'\n",
    "specified-field: default_value\n",
    "```\n",
    "and \n",
    "```yaml\n",
    "base-stuff:\n",
    "    foo: 'FOO'\n",
    "version: '2'\n",
    "specified-field: other-value\n",
    "```\n",
    "\n",
    "These syntaxes can be combined. In this case, each possible combinations of versions will be created."
   ]
  },
  {
   "cell_type": "code",
   "execution_count": 6,
   "metadata": {},
   "outputs": [
    {
     "name": "stdout",
     "output_type": "stream",
     "text": [
      " === RAW FILE ===\n",
      "list@: [ele1, {ele2: 'is a dictionnary'}]\n",
      "---\n",
      "document: 1\n",
      "doc1-attr: foo\n",
      "---\n",
      "document: 2\n",
      "doc2-attr: foo\n",
      "\n",
      "\n",
      " === VERSION 1 ===\n",
      "list: ele1\n",
      "document: 1\n",
      "doc1-attr: foo\n",
      "\n",
      "\n",
      " === VERSION 2 ===\n",
      "list: ele1\n",
      "document: 2\n",
      "doc2-attr: foo\n",
      "\n",
      "\n",
      " === VERSION 3 ===\n",
      "list:\n",
      "  ele2: is a dictionnary\n",
      "document: 1\n",
      "doc1-attr: foo\n",
      "\n",
      "\n",
      " === VERSION 4 ===\n",
      "list:\n",
      "  ele2: is a dictionnary\n",
      "document: 2\n",
      "doc2-attr: foo\n",
      "\n"
     ]
    }
   ],
   "source": [
    "cfgs = Cfg.Parser('yaml-demos/versions.yaml')\n",
    "\n",
    "with open('yaml-demos/versions.yaml', 'r') as f:\n",
    "    raw = f.read()\n",
    "print(' === RAW FILE ===')\n",
    "print(raw)\n",
    "for i, cfg in enumerate(cfgs):\n",
    "    print(f'\\n === VERSION {i+1} ===')\n",
    "    print(cfg.to_yaml())\n",
    "\n",
    "\n",
    "assert cfgs[0]['document'] == 1\n",
    "assert cfgs[0]['list'] == 'ele1'\n",
    "assert cfgs[1]['document'] == 2\n",
    "assert cfgs[2]['list'] == {'ele2': 'is a dictionnary'}"
   ]
  },
  {
   "cell_type": "code",
   "execution_count": null,
   "metadata": {},
   "outputs": [],
   "source": []
  },
  {
   "cell_type": "markdown",
   "metadata": {},
   "source": [
    "cfgs = Cfg.Parser('yaml-demos/inherit-ref.yaml')\n",
    "\n",
    "with open(cfgs.path, 'r') as f:\n",
    "    raw = f.read()\n",
    "print(' === RAW FILE ===')\n",
    "print(raw)\n",
    "for i, cfg in enumerate(cfgs):\n",
    "    print(f'\\n === VERSION {i+1} ===')\n",
    "    print(cfg.to_yaml())\n"
   ]
  }
 ],
 "metadata": {
  "kernelspec": {
   "display_name": "Python 3",
   "language": "python",
   "name": "python3"
  },
  "language_info": {
   "codemirror_mode": {
    "name": "ipython",
    "version": 3
   },
   "file_extension": ".py",
   "mimetype": "text/x-python",
   "name": "python",
   "nbconvert_exporter": "python",
   "pygments_lexer": "ipython3",
   "version": "3.10.0"
  },
  "varInspector": {
   "cols": {
    "lenName": 16,
    "lenType": 16,
    "lenVar": 40
   },
   "kernels_config": {
    "python": {
     "delete_cmd_postfix": "",
     "delete_cmd_prefix": "del ",
     "library": "var_list.py",
     "varRefreshCmd": "print(var_dic_list())"
    },
    "r": {
     "delete_cmd_postfix": ") ",
     "delete_cmd_prefix": "rm(",
     "library": "var_list.r",
     "varRefreshCmd": "cat(var_dic_list()) "
    }
   },
   "types_to_exclude": [
    "module",
    "function",
    "builtin_function_or_method",
    "instance",
    "_Feature"
   ],
   "window_display": false
  }
 },
 "nbformat": 4,
 "nbformat_minor": 1
}
