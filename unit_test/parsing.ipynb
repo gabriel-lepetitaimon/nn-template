{
 "cells": [
  {
   "cell_type": "markdown",
   "metadata": {
    "collapsed": true,
    "pycharm": {
     "name": "#%% md\n"
    }
   },
   "source": [
    "# Cfg Parsing Unit Test"
   ]
  },
  {
   "cell_type": "code",
   "execution_count": 1,
   "outputs": [],
   "source": [
    "%load_ext autoreload\n",
    "%autoreload 2"
   ],
   "metadata": {
    "collapsed": false,
    "pycharm": {
     "name": "#%%\n"
    }
   }
  },
  {
   "cell_type": "code",
   "execution_count": 2,
   "outputs": [],
   "source": [
    "from sources import Cfg"
   ],
   "metadata": {
    "collapsed": false,
    "pycharm": {
     "name": "#%%\n"
    }
   }
  },
  {
   "cell_type": "code",
   "execution_count": 3,
   "outputs": [
    {
     "ename": "ParserError",
     "evalue": "Unknown reference to \"$..foo\"\nin \"demo_refs.yaml\", line 4, column 19",
     "output_type": "error",
     "traceback": [
      "\u001B[0;31m---------------------------------------------------------------------------\u001B[0m",
      "\u001B[0;31mKeyError\u001B[0m                                  Traceback (most recent call last)",
      "File \u001B[0;32m~/These/src/nn-template/lib/nn_template/config/cfg_parser.py:126\u001B[0m, in \u001B[0;36mCfgParser.resolve_refs.<locals>.search_resolve_refs\u001B[0;34m(node)\u001B[0m\n\u001B[1;32m    125\u001B[0m \u001B[38;5;28;01mtry\u001B[39;00m:\n\u001B[0;32m--> 126\u001B[0m     cursor\u001B[38;5;241m.\u001B[39mvalue \u001B[38;5;241m=\u001B[39m \u001B[43mresolve\u001B[49m\u001B[43m(\u001B[49m\u001B[43mv\u001B[49m\u001B[43m[\u001B[49m\u001B[38;5;241;43m1\u001B[39;49m\u001B[43m:\u001B[49m\u001B[43m]\u001B[49m\u001B[43m,\u001B[49m\u001B[43m \u001B[49m\u001B[43mcursor\u001B[49m\u001B[38;5;241;43m.\u001B[39;49m\u001B[43mparent\u001B[49m\u001B[43m)\u001B[49m\n\u001B[1;32m    127\u001B[0m \u001B[38;5;28;01mexcept\u001B[39;00m \u001B[38;5;167;01mKeyError\u001B[39;00m:\n",
      "File \u001B[0;32m~/These/src/nn-template/lib/nn_template/config/cfg_parser.py:94\u001B[0m, in \u001B[0;36mCfgParser.resolve_refs.<locals>.resolve\u001B[0;34m(ref, parent_node)\u001B[0m\n\u001B[1;32m     92\u001B[0m     parent_node \u001B[38;5;241m=\u001B[39m cfg_dict\n\u001B[0;32m---> 94\u001B[0m rel_path \u001B[38;5;241m=\u001B[39m \u001B[43mparent_node\u001B[49m\u001B[38;5;241;43m.\u001B[39;49m\u001B[43mabs_path\u001B[49m\u001B[43m(\u001B[49m\u001B[43mref\u001B[49m\u001B[43m)\u001B[49m\n\u001B[1;32m     95\u001B[0m abs_path \u001B[38;5;241m=\u001B[39m parent_node\u001B[38;5;241m.\u001B[39mpath() \u001B[38;5;241m+\u001B[39m rel_path\n",
      "File \u001B[0;32m~/These/src/nn-template/lib/nn_template/config/cfg_dict.py:202\u001B[0m, in \u001B[0;36mCfgDict.abs_path\u001B[0;34m(self, rel_path, root, check_exists)\u001B[0m\n\u001B[1;32m    201\u001B[0m     \u001B[38;5;28;01melse\u001B[39;00m:\n\u001B[0;32m--> 202\u001B[0m         \u001B[38;5;28;01mraise\u001B[39;00m \u001B[38;5;167;01mKeyError\u001B[39;00m(\u001B[38;5;124mf\u001B[39m\u001B[38;5;124m'\u001B[39m\u001B[38;5;124mImpossible to reach \u001B[39m\u001B[38;5;124m\"\u001B[39m\u001B[38;5;132;01m{\u001B[39;00mrel_path\u001B[38;5;132;01m}\u001B[39;00m\u001B[38;5;124m\"\u001B[39m\u001B[38;5;124m from \u001B[39m\u001B[38;5;124m\"\u001B[39m\u001B[38;5;132;01m{\u001B[39;00m\u001B[38;5;28mself\u001B[39m\u001B[38;5;241m.\u001B[39mfull_name\u001B[38;5;132;01m}\u001B[39;00m\u001B[38;5;124m\"\u001B[39m\u001B[38;5;124m:\u001B[39m\u001B[38;5;130;01m\\n\u001B[39;00m\u001B[38;5;124m'\u001B[39m\n\u001B[1;32m    203\u001B[0m                          \u001B[38;5;124mf\u001B[39m\u001B[38;5;124m'\u001B[39m\u001B[38;5;124mToo many up in the hierarchy.\u001B[39m\u001B[38;5;124m'\u001B[39m)\n\u001B[1;32m    204\u001B[0m abs_path \u001B[38;5;241m=\u001B[39m \u001B[38;5;28mtuple\u001B[39m(abs_path)\n",
      "\u001B[0;31mKeyError\u001B[0m: 'Impossible to reach \".foo\" from \"None\":\\nToo many up in the hierarchy.'",
      "\nDuring handling of the above exception, another exception occurred:\n",
      "\u001B[0;31mParserError\u001B[0m                               Traceback (most recent call last)",
      "Input \u001B[0;32mIn [3]\u001B[0m, in \u001B[0;36m<cell line: 1>\u001B[0;34m()\u001B[0m\n\u001B[0;32m----> 1\u001B[0m \u001B[43mCfg\u001B[49m\u001B[38;5;241;43m.\u001B[39;49m\u001B[43mParser\u001B[49m\u001B[43m(\u001B[49m\u001B[38;5;124;43m'\u001B[39;49m\u001B[38;5;124;43mdemo_refs.yaml\u001B[39;49m\u001B[38;5;124;43m'\u001B[39;49m\u001B[43m)\u001B[49m\u001B[38;5;241;43m.\u001B[39;49m\u001B[43mget_config\u001B[49m\u001B[43m(\u001B[49m\u001B[43m)\u001B[49m\n",
      "File \u001B[0;32m~/These/src/nn-template/lib/nn_template/config/cfg_parser.py:49\u001B[0m, in \u001B[0;36mCfgParser.get_config\u001B[0;34m(self, version, parse_obj)\u001B[0m\n\u001B[1;32m     46\u001B[0m \u001B[38;5;28;01melse\u001B[39;00m:\n\u001B[1;32m     47\u001B[0m     cfg \u001B[38;5;241m=\u001B[39m \u001B[38;5;28mself\u001B[39m\u001B[38;5;241m.\u001B[39mbase\u001B[38;5;241m.\u001B[39mmerge(\u001B[38;5;28mself\u001B[39m\u001B[38;5;241m.\u001B[39mversions[version])\n\u001B[0;32m---> 49\u001B[0m \u001B[43mCfgParser\u001B[49m\u001B[38;5;241;43m.\u001B[39;49m\u001B[43mresolve_refs\u001B[49m\u001B[43m(\u001B[49m\u001B[43mcfg\u001B[49m\u001B[43m,\u001B[49m\u001B[43m \u001B[49m\u001B[43minplace\u001B[49m\u001B[38;5;241;43m=\u001B[39;49m\u001B[38;5;28;43;01mTrue\u001B[39;49;00m\u001B[43m)\u001B[49m\n\u001B[1;32m     50\u001B[0m \u001B[38;5;28;01mif\u001B[39;00m parse_obj:\n\u001B[1;32m     51\u001B[0m     CfgParser\u001B[38;5;241m.\u001B[39mparse_registered_cfg(cfg, inplace\u001B[38;5;241m=\u001B[39m\u001B[38;5;28;01mTrue\u001B[39;00m)\n",
      "File \u001B[0;32m~/These/src/nn-template/lib/nn_template/config/cfg_parser.py:130\u001B[0m, in \u001B[0;36mCfgParser.resolve_refs\u001B[0;34m(cfg_dict, inplace)\u001B[0m\n\u001B[1;32m    127\u001B[0m             \u001B[38;5;28;01mexcept\u001B[39;00m \u001B[38;5;167;01mKeyError\u001B[39;00m:\n\u001B[1;32m    128\u001B[0m                 \u001B[38;5;28;01mraise\u001B[39;00m ParserError(\u001B[38;5;124mf\u001B[39m\u001B[38;5;124m'\u001B[39m\u001B[38;5;124mUnknown reference to \u001B[39m\u001B[38;5;124m\"\u001B[39m\u001B[38;5;132;01m{\u001B[39;00mv\u001B[38;5;132;01m}\u001B[39;00m\u001B[38;5;124m\"\u001B[39m\u001B[38;5;124m'\u001B[39m, cursor\u001B[38;5;241m.\u001B[39mmark)\n\u001B[0;32m--> 130\u001B[0m \u001B[43msearch_resolve_refs\u001B[49m\u001B[43m(\u001B[49m\u001B[43mcfg_dict\u001B[49m\u001B[43m)\u001B[49m\n\u001B[1;32m    131\u001B[0m \u001B[38;5;28;01mreturn\u001B[39;00m cfg_dict\n",
      "File \u001B[0;32m~/These/src/nn-template/lib/nn_template/config/cfg_parser.py:128\u001B[0m, in \u001B[0;36mCfgParser.resolve_refs.<locals>.search_resolve_refs\u001B[0;34m(node)\u001B[0m\n\u001B[1;32m    126\u001B[0m     cursor\u001B[38;5;241m.\u001B[39mvalue \u001B[38;5;241m=\u001B[39m resolve(v[\u001B[38;5;241m1\u001B[39m:], cursor\u001B[38;5;241m.\u001B[39mparent)\n\u001B[1;32m    127\u001B[0m \u001B[38;5;28;01mexcept\u001B[39;00m \u001B[38;5;167;01mKeyError\u001B[39;00m:\n\u001B[0;32m--> 128\u001B[0m     \u001B[38;5;28;01mraise\u001B[39;00m ParserError(\u001B[38;5;124mf\u001B[39m\u001B[38;5;124m'\u001B[39m\u001B[38;5;124mUnknown reference to \u001B[39m\u001B[38;5;124m\"\u001B[39m\u001B[38;5;132;01m{\u001B[39;00mv\u001B[38;5;132;01m}\u001B[39;00m\u001B[38;5;124m\"\u001B[39m\u001B[38;5;124m'\u001B[39m, cursor\u001B[38;5;241m.\u001B[39mmark)\n",
      "\u001B[0;31mParserError\u001B[0m: Unknown reference to \"$..foo\"\nin \"demo_refs.yaml\", line 4, column 19"
     ]
    }
   ],
   "source": [
    "Cfg.Parser('demo_refs.yaml').get_config()"
   ],
   "metadata": {
    "collapsed": false,
    "pycharm": {
     "name": "#%%\n"
    }
   }
  },
  {
   "cell_type": "code",
   "execution_count": null,
   "outputs": [],
   "source": [],
   "metadata": {
    "collapsed": false,
    "pycharm": {
     "name": "#%%\n"
    }
   }
  }
 ],
 "metadata": {
  "kernelspec": {
   "display_name": "Python 3",
   "language": "python",
   "name": "python3"
  },
  "language_info": {
   "codemirror_mode": {
    "name": "ipython",
    "version": 2
   },
   "file_extension": ".py",
   "mimetype": "text/x-python",
   "name": "python",
   "nbconvert_exporter": "python",
   "pygments_lexer": "ipython2",
   "version": "2.7.6"
  }
 },
 "nbformat": 4,
 "nbformat_minor": 0
}