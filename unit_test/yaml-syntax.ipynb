{
 "cells": [
  {
   "cell_type": "markdown",
   "metadata": {
    "pycharm": {
     "name": "#%% md\n"
    }
   },
   "source": [
    "<h1 style='text-align: center;'>\n",
    "    Yaml Enhancements \n",
    "</h1>\n",
    "<h3 style='opacity: 0.8; text-align: center;'> Enhanced syntax for yaml configuration files </h3>"
   ]
  },
  {
   "cell_type": "code",
   "execution_count": 1,
   "metadata": {},
   "outputs": [],
   "source": [
    "%load_ext autoreload\n",
    "%autoreload 2"
   ]
  },
  {
   "cell_type": "code",
   "execution_count": 2,
   "metadata": {
    "pycharm": {
     "name": "#%%\n"
    }
   },
   "outputs": [],
   "source": [
    "from sources import Cfg\n",
    "from rich.syntax import Syntax"
   ]
  },
  {
   "cell_type": "markdown",
   "metadata": {},
   "source": [
    "### References\n",
    "The value of any object define in the configuration can be \"copied\" using absolute reference:\n",
    "`` field: $absolute.path``\n",
    "\n",
    "or relative reference:\n",
    "`` field: $.relative.path``\n",
    "\n",
    "(Similarly to python relative import syntax, '``.``' allows to go up in the hierarchy.)"
   ]
  },
  {
   "cell_type": "code",
   "execution_count": 3,
   "metadata": {
    "pycharm": {
     "name": "#%%\n"
    }
   },
   "outputs": [
    {
     "name": "stdout",
     "output_type": "stream",
     "text": [
      " === RAW FILE ===\n"
     ]
    },
    {
     "data": {
      "text/html": [
       "<pre style=\"white-space:pre;overflow-x:auto;line-height:normal;font-family:Menlo,'DejaVu Sans Mono',consolas,'Courier New',monospace\"><span style=\"color: #f92672; text-decoration-color: #f92672; background-color: #272822\">references</span><span style=\"color: #f8f8f2; text-decoration-color: #f8f8f2; background-color: #272822\">:</span><span style=\"background-color: #272822\">                                                                                                        </span>\n",
       "<span style=\"color: #f8f8f2; text-decoration-color: #f8f8f2; background-color: #272822\">    </span><span style=\"color: #f92672; text-decoration-color: #f92672; background-color: #272822\">absolute-ref1</span><span style=\"color: #f8f8f2; text-decoration-color: #f8f8f2; background-color: #272822\">: </span><span style=\"background-color: #272822\">$foo                                                                                            </span>\n",
       "<span style=\"color: #f8f8f2; text-decoration-color: #f8f8f2; background-color: #272822\">    </span><span style=\"color: #f92672; text-decoration-color: #f92672; background-color: #272822\">absolute-ref2</span><span style=\"color: #f8f8f2; text-decoration-color: #f8f8f2; background-color: #272822\">: </span><span style=\"background-color: #272822\">$interesting.stuff                                                                              </span>\n",
       "<span style=\"color: #f8f8f2; text-decoration-color: #f8f8f2; background-color: #272822\">    </span><span style=\"color: #f92672; text-decoration-color: #f92672; background-color: #272822\">relative-ref1</span><span style=\"color: #f8f8f2; text-decoration-color: #f8f8f2; background-color: #272822\">: </span><span style=\"background-color: #272822\">$..foo                                                                                          </span>\n",
       "<span style=\"color: #f8f8f2; text-decoration-color: #f8f8f2; background-color: #272822\">    </span><span style=\"color: #f92672; text-decoration-color: #f92672; background-color: #272822\">relative-ref2</span><span style=\"color: #f8f8f2; text-decoration-color: #f8f8f2; background-color: #272822\">: </span><span style=\"background-color: #272822\">$.absolute-ref2.elem2                                                                           </span>\n",
       "<span style=\"color: #f8f8f2; text-decoration-color: #f8f8f2; background-color: #272822\">    </span><span style=\"color: #f92672; text-decoration-color: #f92672; background-color: #272822\">dict-ref</span><span style=\"color: #f8f8f2; text-decoration-color: #f8f8f2; background-color: #272822\">:</span><span style=\"background-color: #272822\">                                                                                                      </span>\n",
       "<span style=\"color: #f8f8f2; text-decoration-color: #f8f8f2; background-color: #272822\">        </span><span style=\"color: #f92672; text-decoration-color: #f92672; background-color: #272822\">$</span><span style=\"color: #f8f8f2; text-decoration-color: #f8f8f2; background-color: #272822\">: </span><span style=\"background-color: #272822\">interesting.stuff                                                                                       </span>\n",
       "<span style=\"color: #f8f8f2; text-decoration-color: #f8f8f2; background-color: #272822\">        </span><span style=\"color: #f92672; text-decoration-color: #f92672; background-color: #272822\">elem2</span><span style=\"color: #f8f8f2; text-decoration-color: #f8f8f2; background-color: #272822\">: </span><span style=\"color: #e6db74; text-decoration-color: #e6db74; background-color: #272822\">'not</span><span style=\"color: #f8f8f2; text-decoration-color: #f8f8f2; background-color: #272822\"> </span><span style=\"color: #e6db74; text-decoration-color: #e6db74; background-color: #272822\">FOO</span><span style=\"color: #f8f8f2; text-decoration-color: #f8f8f2; background-color: #272822\"> </span><span style=\"color: #e6db74; text-decoration-color: #e6db74; background-color: #272822\">2'</span><span style=\"background-color: #272822\">                                                                                         </span>\n",
       "<span style=\"background-color: #272822\">                                                                                                                   </span>\n",
       "<span style=\"color: #f92672; text-decoration-color: #f92672; background-color: #272822\">interesting</span><span style=\"color: #f8f8f2; text-decoration-color: #f8f8f2; background-color: #272822\">:</span><span style=\"background-color: #272822\">                                                                                                       </span>\n",
       "<span style=\"color: #f8f8f2; text-decoration-color: #f8f8f2; background-color: #272822\">    </span><span style=\"color: #f92672; text-decoration-color: #f92672; background-color: #272822\">stuff</span><span style=\"color: #f8f8f2; text-decoration-color: #f8f8f2; background-color: #272822\">:</span><span style=\"background-color: #272822\">                                                                                                         </span>\n",
       "<span style=\"color: #f8f8f2; text-decoration-color: #f8f8f2; background-color: #272822\">        </span><span style=\"color: #f92672; text-decoration-color: #f92672; background-color: #272822\">elem1</span><span style=\"color: #f8f8f2; text-decoration-color: #f8f8f2; background-color: #272822\">: </span><span style=\"color: #e6db74; text-decoration-color: #e6db74; background-color: #272822\">'FOO</span><span style=\"color: #f8f8f2; text-decoration-color: #f8f8f2; background-color: #272822\"> </span><span style=\"color: #e6db74; text-decoration-color: #e6db74; background-color: #272822\">1'</span><span style=\"background-color: #272822\">                                                                                             </span>\n",
       "<span style=\"color: #f8f8f2; text-decoration-color: #f8f8f2; background-color: #272822\">        </span><span style=\"color: #f92672; text-decoration-color: #f92672; background-color: #272822\">elem2</span><span style=\"color: #f8f8f2; text-decoration-color: #f8f8f2; background-color: #272822\">: </span><span style=\"color: #e6db74; text-decoration-color: #e6db74; background-color: #272822\">'FOO</span><span style=\"color: #f8f8f2; text-decoration-color: #f8f8f2; background-color: #272822\"> </span><span style=\"color: #e6db74; text-decoration-color: #e6db74; background-color: #272822\">2'</span><span style=\"background-color: #272822\">                                                                                             </span>\n",
       "<span style=\"background-color: #272822\">                                                                                                                   </span>\n",
       "<span style=\"color: #f92672; text-decoration-color: #f92672; background-color: #272822\">interesting.word</span><span style=\"color: #f8f8f2; text-decoration-color: #f8f8f2; background-color: #272822\">: </span><span style=\"color: #e6db74; text-decoration-color: #e6db74; background-color: #272822\">'cool'</span><span style=\"background-color: #272822\">                                                                                           </span>\n",
       "<span style=\"background-color: #272822\">                                                                                                                   </span>\n",
       "<span style=\"color: #f92672; text-decoration-color: #f92672; background-color: #272822\">foo</span><span style=\"color: #f8f8f2; text-decoration-color: #f8f8f2; background-color: #272822\">: </span><span style=\"color: #e6db74; text-decoration-color: #e6db74; background-color: #272822\">'foo</span><span style=\"color: #f8f8f2; text-decoration-color: #f8f8f2; background-color: #272822\"> </span><span style=\"color: #e6db74; text-decoration-color: #e6db74; background-color: #272822\">value'</span><span style=\"background-color: #272822\">                                                                                                   </span>\n",
       "<span style=\"background-color: #272822\">                                                                                                                   </span>\n",
       "</pre>\n"
      ],
      "text/plain": [
       "\u001b[38;2;249;38;114;48;2;39;40;34mreferences\u001b[0m\u001b[38;2;248;248;242;48;2;39;40;34m:\u001b[0m\u001b[48;2;39;40;34m                                                                                                        \u001b[0m\n",
       "\u001b[38;2;248;248;242;48;2;39;40;34m    \u001b[0m\u001b[38;2;249;38;114;48;2;39;40;34mabsolute-ref1\u001b[0m\u001b[38;2;248;248;242;48;2;39;40;34m:\u001b[0m\u001b[38;2;248;248;242;48;2;39;40;34m \u001b[0m\u001b[48;2;39;40;34m$foo\u001b[0m\u001b[48;2;39;40;34m                                                                                            \u001b[0m\n",
       "\u001b[38;2;248;248;242;48;2;39;40;34m    \u001b[0m\u001b[38;2;249;38;114;48;2;39;40;34mabsolute-ref2\u001b[0m\u001b[38;2;248;248;242;48;2;39;40;34m:\u001b[0m\u001b[38;2;248;248;242;48;2;39;40;34m \u001b[0m\u001b[48;2;39;40;34m$interesting.stuff\u001b[0m\u001b[48;2;39;40;34m                                                                              \u001b[0m\n",
       "\u001b[38;2;248;248;242;48;2;39;40;34m    \u001b[0m\u001b[38;2;249;38;114;48;2;39;40;34mrelative-ref1\u001b[0m\u001b[38;2;248;248;242;48;2;39;40;34m:\u001b[0m\u001b[38;2;248;248;242;48;2;39;40;34m \u001b[0m\u001b[48;2;39;40;34m$..foo\u001b[0m\u001b[48;2;39;40;34m                                                                                          \u001b[0m\n",
       "\u001b[38;2;248;248;242;48;2;39;40;34m    \u001b[0m\u001b[38;2;249;38;114;48;2;39;40;34mrelative-ref2\u001b[0m\u001b[38;2;248;248;242;48;2;39;40;34m:\u001b[0m\u001b[38;2;248;248;242;48;2;39;40;34m \u001b[0m\u001b[48;2;39;40;34m$.absolute-ref2.elem2\u001b[0m\u001b[48;2;39;40;34m                                                                           \u001b[0m\n",
       "\u001b[38;2;248;248;242;48;2;39;40;34m    \u001b[0m\u001b[38;2;249;38;114;48;2;39;40;34mdict-ref\u001b[0m\u001b[38;2;248;248;242;48;2;39;40;34m:\u001b[0m\u001b[48;2;39;40;34m                                                                                                      \u001b[0m\n",
       "\u001b[38;2;248;248;242;48;2;39;40;34m        \u001b[0m\u001b[38;2;249;38;114;48;2;39;40;34m$\u001b[0m\u001b[38;2;248;248;242;48;2;39;40;34m:\u001b[0m\u001b[38;2;248;248;242;48;2;39;40;34m \u001b[0m\u001b[48;2;39;40;34minteresting.stuff\u001b[0m\u001b[48;2;39;40;34m                                                                                       \u001b[0m\n",
       "\u001b[38;2;248;248;242;48;2;39;40;34m        \u001b[0m\u001b[38;2;249;38;114;48;2;39;40;34melem2\u001b[0m\u001b[38;2;248;248;242;48;2;39;40;34m:\u001b[0m\u001b[38;2;248;248;242;48;2;39;40;34m \u001b[0m\u001b[38;2;230;219;116;48;2;39;40;34m'\u001b[0m\u001b[38;2;230;219;116;48;2;39;40;34mnot\u001b[0m\u001b[38;2;248;248;242;48;2;39;40;34m \u001b[0m\u001b[38;2;230;219;116;48;2;39;40;34mFOO\u001b[0m\u001b[38;2;248;248;242;48;2;39;40;34m \u001b[0m\u001b[38;2;230;219;116;48;2;39;40;34m2\u001b[0m\u001b[38;2;230;219;116;48;2;39;40;34m'\u001b[0m\u001b[48;2;39;40;34m                                                                                         \u001b[0m\n",
       "\u001b[48;2;39;40;34m                                                                                                                   \u001b[0m\n",
       "\u001b[38;2;249;38;114;48;2;39;40;34minteresting\u001b[0m\u001b[38;2;248;248;242;48;2;39;40;34m:\u001b[0m\u001b[48;2;39;40;34m                                                                                                       \u001b[0m\n",
       "\u001b[38;2;248;248;242;48;2;39;40;34m    \u001b[0m\u001b[38;2;249;38;114;48;2;39;40;34mstuff\u001b[0m\u001b[38;2;248;248;242;48;2;39;40;34m:\u001b[0m\u001b[48;2;39;40;34m                                                                                                         \u001b[0m\n",
       "\u001b[38;2;248;248;242;48;2;39;40;34m        \u001b[0m\u001b[38;2;249;38;114;48;2;39;40;34melem1\u001b[0m\u001b[38;2;248;248;242;48;2;39;40;34m:\u001b[0m\u001b[38;2;248;248;242;48;2;39;40;34m \u001b[0m\u001b[38;2;230;219;116;48;2;39;40;34m'\u001b[0m\u001b[38;2;230;219;116;48;2;39;40;34mFOO\u001b[0m\u001b[38;2;248;248;242;48;2;39;40;34m \u001b[0m\u001b[38;2;230;219;116;48;2;39;40;34m1\u001b[0m\u001b[38;2;230;219;116;48;2;39;40;34m'\u001b[0m\u001b[48;2;39;40;34m                                                                                             \u001b[0m\n",
       "\u001b[38;2;248;248;242;48;2;39;40;34m        \u001b[0m\u001b[38;2;249;38;114;48;2;39;40;34melem2\u001b[0m\u001b[38;2;248;248;242;48;2;39;40;34m:\u001b[0m\u001b[38;2;248;248;242;48;2;39;40;34m \u001b[0m\u001b[38;2;230;219;116;48;2;39;40;34m'\u001b[0m\u001b[38;2;230;219;116;48;2;39;40;34mFOO\u001b[0m\u001b[38;2;248;248;242;48;2;39;40;34m \u001b[0m\u001b[38;2;230;219;116;48;2;39;40;34m2\u001b[0m\u001b[38;2;230;219;116;48;2;39;40;34m'\u001b[0m\u001b[48;2;39;40;34m                                                                                             \u001b[0m\n",
       "\u001b[48;2;39;40;34m                                                                                                                   \u001b[0m\n",
       "\u001b[38;2;249;38;114;48;2;39;40;34minteresting.word\u001b[0m\u001b[38;2;248;248;242;48;2;39;40;34m:\u001b[0m\u001b[38;2;248;248;242;48;2;39;40;34m \u001b[0m\u001b[38;2;230;219;116;48;2;39;40;34m'\u001b[0m\u001b[38;2;230;219;116;48;2;39;40;34mcool\u001b[0m\u001b[38;2;230;219;116;48;2;39;40;34m'\u001b[0m\u001b[48;2;39;40;34m                                                                                           \u001b[0m\n",
       "\u001b[48;2;39;40;34m                                                                                                                   \u001b[0m\n",
       "\u001b[38;2;249;38;114;48;2;39;40;34mfoo\u001b[0m\u001b[38;2;248;248;242;48;2;39;40;34m:\u001b[0m\u001b[38;2;248;248;242;48;2;39;40;34m \u001b[0m\u001b[38;2;230;219;116;48;2;39;40;34m'\u001b[0m\u001b[38;2;230;219;116;48;2;39;40;34mfoo\u001b[0m\u001b[38;2;248;248;242;48;2;39;40;34m \u001b[0m\u001b[38;2;230;219;116;48;2;39;40;34mvalue\u001b[0m\u001b[38;2;230;219;116;48;2;39;40;34m'\u001b[0m\u001b[48;2;39;40;34m                                                                                                   \u001b[0m\n",
       "\u001b[48;2;39;40;34m                                                                                                                   \u001b[0m\n"
      ]
     },
     "metadata": {},
     "output_type": "display_data"
    },
    {
     "name": "stdout",
     "output_type": "stream",
     "text": [
      "\n",
      " === PARSED CFG ===\n"
     ]
    },
    {
     "data": {
      "text/html": [
       "<pre style=\"white-space:pre;overflow-x:auto;line-height:normal;font-family:Menlo,'DejaVu Sans Mono',consolas,'Courier New',monospace\"><span style=\"color: #f92672; text-decoration-color: #f92672; background-color: #272822\">references</span><span style=\"color: #f8f8f2; text-decoration-color: #f8f8f2; background-color: #272822\">:</span><span style=\"background-color: #272822\">                                                                                                        </span>\n",
       "<span style=\"color: #f8f8f2; text-decoration-color: #f8f8f2; background-color: #272822\">  </span><span style=\"color: #f92672; text-decoration-color: #f92672; background-color: #272822\">absolute-ref1</span><span style=\"color: #f8f8f2; text-decoration-color: #f8f8f2; background-color: #272822\">: </span><span style=\"background-color: #272822\">foo value                                                                                         </span>\n",
       "<span style=\"color: #f8f8f2; text-decoration-color: #f8f8f2; background-color: #272822\">  </span><span style=\"color: #f92672; text-decoration-color: #f92672; background-color: #272822\">absolute-ref2</span><span style=\"color: #f8f8f2; text-decoration-color: #f8f8f2; background-color: #272822\">:</span><span style=\"background-color: #272822\">                                                                                                   </span>\n",
       "<span style=\"color: #f8f8f2; text-decoration-color: #f8f8f2; background-color: #272822\">    </span><span style=\"color: #f92672; text-decoration-color: #f92672; background-color: #272822\">elem1</span><span style=\"color: #f8f8f2; text-decoration-color: #f8f8f2; background-color: #272822\">: </span><span style=\"background-color: #272822\">FOO 1                                                                                                   </span>\n",
       "<span style=\"color: #f8f8f2; text-decoration-color: #f8f8f2; background-color: #272822\">    </span><span style=\"color: #f92672; text-decoration-color: #f92672; background-color: #272822\">elem2</span><span style=\"color: #f8f8f2; text-decoration-color: #f8f8f2; background-color: #272822\">: </span><span style=\"background-color: #272822\">FOO 2                                                                                                   </span>\n",
       "<span style=\"color: #f8f8f2; text-decoration-color: #f8f8f2; background-color: #272822\">  </span><span style=\"color: #f92672; text-decoration-color: #f92672; background-color: #272822\">relative-ref1</span><span style=\"color: #f8f8f2; text-decoration-color: #f8f8f2; background-color: #272822\">: </span><span style=\"background-color: #272822\">foo value                                                                                         </span>\n",
       "<span style=\"color: #f8f8f2; text-decoration-color: #f8f8f2; background-color: #272822\">  </span><span style=\"color: #f92672; text-decoration-color: #f92672; background-color: #272822\">relative-ref2</span><span style=\"color: #f8f8f2; text-decoration-color: #f8f8f2; background-color: #272822\">: </span><span style=\"background-color: #272822\">FOO 2                                                                                             </span>\n",
       "<span style=\"color: #f8f8f2; text-decoration-color: #f8f8f2; background-color: #272822\">  </span><span style=\"color: #f92672; text-decoration-color: #f92672; background-color: #272822\">dict-ref</span><span style=\"color: #f8f8f2; text-decoration-color: #f8f8f2; background-color: #272822\">:</span><span style=\"background-color: #272822\">                                                                                                        </span>\n",
       "<span style=\"color: #f8f8f2; text-decoration-color: #f8f8f2; background-color: #272822\">    </span><span style=\"color: #f92672; text-decoration-color: #f92672; background-color: #272822\">elem2</span><span style=\"color: #f8f8f2; text-decoration-color: #f8f8f2; background-color: #272822\">: </span><span style=\"background-color: #272822\">not FOO 2                                                                                               </span>\n",
       "<span style=\"color: #f8f8f2; text-decoration-color: #f8f8f2; background-color: #272822\">    </span><span style=\"color: #f92672; text-decoration-color: #f92672; background-color: #272822\">elem1</span><span style=\"color: #f8f8f2; text-decoration-color: #f8f8f2; background-color: #272822\">: </span><span style=\"background-color: #272822\">FOO 1                                                                                                   </span>\n",
       "<span style=\"color: #f92672; text-decoration-color: #f92672; background-color: #272822\">interesting</span><span style=\"color: #f8f8f2; text-decoration-color: #f8f8f2; background-color: #272822\">:</span><span style=\"background-color: #272822\">                                                                                                       </span>\n",
       "<span style=\"color: #f8f8f2; text-decoration-color: #f8f8f2; background-color: #272822\">  </span><span style=\"color: #f92672; text-decoration-color: #f92672; background-color: #272822\">stuff</span><span style=\"color: #f8f8f2; text-decoration-color: #f8f8f2; background-color: #272822\">:</span><span style=\"background-color: #272822\">                                                                                                           </span>\n",
       "<span style=\"color: #f8f8f2; text-decoration-color: #f8f8f2; background-color: #272822\">    </span><span style=\"color: #f92672; text-decoration-color: #f92672; background-color: #272822\">elem1</span><span style=\"color: #f8f8f2; text-decoration-color: #f8f8f2; background-color: #272822\">: </span><span style=\"background-color: #272822\">FOO 1                                                                                                   </span>\n",
       "<span style=\"color: #f8f8f2; text-decoration-color: #f8f8f2; background-color: #272822\">    </span><span style=\"color: #f92672; text-decoration-color: #f92672; background-color: #272822\">elem2</span><span style=\"color: #f8f8f2; text-decoration-color: #f8f8f2; background-color: #272822\">: </span><span style=\"background-color: #272822\">FOO 2                                                                                                   </span>\n",
       "<span style=\"color: #f8f8f2; text-decoration-color: #f8f8f2; background-color: #272822\">  </span><span style=\"color: #f92672; text-decoration-color: #f92672; background-color: #272822\">word</span><span style=\"color: #f8f8f2; text-decoration-color: #f8f8f2; background-color: #272822\">: </span><span style=\"background-color: #272822\">cool                                                                                                       </span>\n",
       "<span style=\"color: #f92672; text-decoration-color: #f92672; background-color: #272822\">foo</span><span style=\"color: #f8f8f2; text-decoration-color: #f8f8f2; background-color: #272822\">: </span><span style=\"background-color: #272822\">foo value                                                                                                     </span>\n",
       "<span style=\"background-color: #272822\">                                                                                                                   </span>\n",
       "</pre>\n"
      ],
      "text/plain": [
       "\u001b[38;2;249;38;114;48;2;39;40;34mreferences\u001b[0m\u001b[38;2;248;248;242;48;2;39;40;34m:\u001b[0m\u001b[48;2;39;40;34m                                                                                                        \u001b[0m\n",
       "\u001b[38;2;248;248;242;48;2;39;40;34m  \u001b[0m\u001b[38;2;249;38;114;48;2;39;40;34mabsolute-ref1\u001b[0m\u001b[38;2;248;248;242;48;2;39;40;34m:\u001b[0m\u001b[38;2;248;248;242;48;2;39;40;34m \u001b[0m\u001b[48;2;39;40;34mfoo\u001b[0m\u001b[48;2;39;40;34m \u001b[0m\u001b[48;2;39;40;34mvalue\u001b[0m\u001b[48;2;39;40;34m                                                                                         \u001b[0m\n",
       "\u001b[38;2;248;248;242;48;2;39;40;34m  \u001b[0m\u001b[38;2;249;38;114;48;2;39;40;34mabsolute-ref2\u001b[0m\u001b[38;2;248;248;242;48;2;39;40;34m:\u001b[0m\u001b[48;2;39;40;34m                                                                                                   \u001b[0m\n",
       "\u001b[38;2;248;248;242;48;2;39;40;34m    \u001b[0m\u001b[38;2;249;38;114;48;2;39;40;34melem1\u001b[0m\u001b[38;2;248;248;242;48;2;39;40;34m:\u001b[0m\u001b[38;2;248;248;242;48;2;39;40;34m \u001b[0m\u001b[48;2;39;40;34mFOO\u001b[0m\u001b[48;2;39;40;34m \u001b[0m\u001b[48;2;39;40;34m1\u001b[0m\u001b[48;2;39;40;34m                                                                                                   \u001b[0m\n",
       "\u001b[38;2;248;248;242;48;2;39;40;34m    \u001b[0m\u001b[38;2;249;38;114;48;2;39;40;34melem2\u001b[0m\u001b[38;2;248;248;242;48;2;39;40;34m:\u001b[0m\u001b[38;2;248;248;242;48;2;39;40;34m \u001b[0m\u001b[48;2;39;40;34mFOO\u001b[0m\u001b[48;2;39;40;34m \u001b[0m\u001b[48;2;39;40;34m2\u001b[0m\u001b[48;2;39;40;34m                                                                                                   \u001b[0m\n",
       "\u001b[38;2;248;248;242;48;2;39;40;34m  \u001b[0m\u001b[38;2;249;38;114;48;2;39;40;34mrelative-ref1\u001b[0m\u001b[38;2;248;248;242;48;2;39;40;34m:\u001b[0m\u001b[38;2;248;248;242;48;2;39;40;34m \u001b[0m\u001b[48;2;39;40;34mfoo\u001b[0m\u001b[48;2;39;40;34m \u001b[0m\u001b[48;2;39;40;34mvalue\u001b[0m\u001b[48;2;39;40;34m                                                                                         \u001b[0m\n",
       "\u001b[38;2;248;248;242;48;2;39;40;34m  \u001b[0m\u001b[38;2;249;38;114;48;2;39;40;34mrelative-ref2\u001b[0m\u001b[38;2;248;248;242;48;2;39;40;34m:\u001b[0m\u001b[38;2;248;248;242;48;2;39;40;34m \u001b[0m\u001b[48;2;39;40;34mFOO\u001b[0m\u001b[48;2;39;40;34m \u001b[0m\u001b[48;2;39;40;34m2\u001b[0m\u001b[48;2;39;40;34m                                                                                             \u001b[0m\n",
       "\u001b[38;2;248;248;242;48;2;39;40;34m  \u001b[0m\u001b[38;2;249;38;114;48;2;39;40;34mdict-ref\u001b[0m\u001b[38;2;248;248;242;48;2;39;40;34m:\u001b[0m\u001b[48;2;39;40;34m                                                                                                        \u001b[0m\n",
       "\u001b[38;2;248;248;242;48;2;39;40;34m    \u001b[0m\u001b[38;2;249;38;114;48;2;39;40;34melem2\u001b[0m\u001b[38;2;248;248;242;48;2;39;40;34m:\u001b[0m\u001b[38;2;248;248;242;48;2;39;40;34m \u001b[0m\u001b[48;2;39;40;34mnot\u001b[0m\u001b[48;2;39;40;34m \u001b[0m\u001b[48;2;39;40;34mFOO\u001b[0m\u001b[48;2;39;40;34m \u001b[0m\u001b[48;2;39;40;34m2\u001b[0m\u001b[48;2;39;40;34m                                                                                               \u001b[0m\n",
       "\u001b[38;2;248;248;242;48;2;39;40;34m    \u001b[0m\u001b[38;2;249;38;114;48;2;39;40;34melem1\u001b[0m\u001b[38;2;248;248;242;48;2;39;40;34m:\u001b[0m\u001b[38;2;248;248;242;48;2;39;40;34m \u001b[0m\u001b[48;2;39;40;34mFOO\u001b[0m\u001b[48;2;39;40;34m \u001b[0m\u001b[48;2;39;40;34m1\u001b[0m\u001b[48;2;39;40;34m                                                                                                   \u001b[0m\n",
       "\u001b[38;2;249;38;114;48;2;39;40;34minteresting\u001b[0m\u001b[38;2;248;248;242;48;2;39;40;34m:\u001b[0m\u001b[48;2;39;40;34m                                                                                                       \u001b[0m\n",
       "\u001b[38;2;248;248;242;48;2;39;40;34m  \u001b[0m\u001b[38;2;249;38;114;48;2;39;40;34mstuff\u001b[0m\u001b[38;2;248;248;242;48;2;39;40;34m:\u001b[0m\u001b[48;2;39;40;34m                                                                                                           \u001b[0m\n",
       "\u001b[38;2;248;248;242;48;2;39;40;34m    \u001b[0m\u001b[38;2;249;38;114;48;2;39;40;34melem1\u001b[0m\u001b[38;2;248;248;242;48;2;39;40;34m:\u001b[0m\u001b[38;2;248;248;242;48;2;39;40;34m \u001b[0m\u001b[48;2;39;40;34mFOO\u001b[0m\u001b[48;2;39;40;34m \u001b[0m\u001b[48;2;39;40;34m1\u001b[0m\u001b[48;2;39;40;34m                                                                                                   \u001b[0m\n",
       "\u001b[38;2;248;248;242;48;2;39;40;34m    \u001b[0m\u001b[38;2;249;38;114;48;2;39;40;34melem2\u001b[0m\u001b[38;2;248;248;242;48;2;39;40;34m:\u001b[0m\u001b[38;2;248;248;242;48;2;39;40;34m \u001b[0m\u001b[48;2;39;40;34mFOO\u001b[0m\u001b[48;2;39;40;34m \u001b[0m\u001b[48;2;39;40;34m2\u001b[0m\u001b[48;2;39;40;34m                                                                                                   \u001b[0m\n",
       "\u001b[38;2;248;248;242;48;2;39;40;34m  \u001b[0m\u001b[38;2;249;38;114;48;2;39;40;34mword\u001b[0m\u001b[38;2;248;248;242;48;2;39;40;34m:\u001b[0m\u001b[38;2;248;248;242;48;2;39;40;34m \u001b[0m\u001b[48;2;39;40;34mcool\u001b[0m\u001b[48;2;39;40;34m                                                                                                       \u001b[0m\n",
       "\u001b[38;2;249;38;114;48;2;39;40;34mfoo\u001b[0m\u001b[38;2;248;248;242;48;2;39;40;34m:\u001b[0m\u001b[38;2;248;248;242;48;2;39;40;34m \u001b[0m\u001b[48;2;39;40;34mfoo\u001b[0m\u001b[48;2;39;40;34m \u001b[0m\u001b[48;2;39;40;34mvalue\u001b[0m\u001b[48;2;39;40;34m                                                                                                     \u001b[0m\n",
       "\u001b[48;2;39;40;34m                                                                                                                   \u001b[0m\n"
      ]
     },
     "metadata": {},
     "output_type": "display_data"
    }
   ],
   "source": [
    "cfg = Cfg.Parser('yaml-demos/references.yaml').get_config(parse_obj=False)\n",
    "\n",
    "with open('yaml-demos/references.yaml', 'r') as f:\n",
    "    raw = f.read()\n",
    "print(' === RAW FILE ===')\n",
    "display(Syntax(raw, 'yaml'))\n",
    "print('\\n === PARSED CFG ===')\n",
    "display(Syntax(cfg.to_yaml(), 'yaml'))\n",
    "\n",
    "assert cfg['references.absolute-ref1'] == 'foo value'\n",
    "assert cfg['references.absolute-ref2.elem1'] == 'FOO 1'\n",
    "assert cfg['references.absolute-ref2.elem2'] == 'FOO 2'\n",
    "assert cfg['references.relative-ref1'] == 'foo value'\n",
    "assert cfg['references.relative-ref2'] == 'FOO 2'"
   ]
  },
  {
   "cell_type": "markdown",
   "metadata": {},
   "source": [
    "A referenced object can contain other reference. But cyclical definition is prohibited."
   ]
  },
  {
   "cell_type": "code",
   "execution_count": 4,
   "metadata": {
    "pycharm": {
     "name": "#%%\n"
    }
   },
   "outputs": [
    {
     "name": "stdout",
     "output_type": "stream",
     "text": [
      "ParseError raised: \n",
      "  \n"
     ]
    }
   ],
   "source": [
    "try:\n",
    "    Cfg.Parser.resolve_refs(Cfg.Dict({'foo': '$foo2', 'foo2': '$foo'}))\n",
    "except Cfg.Parser.Error as e:\n",
    "    print('ParseError raised:', e)\n",
    "else:\n",
    "    raise RuntimeError('Recursive defintion detection failed!')"
   ]
  },
  {
   "cell_type": "markdown",
   "metadata": {},
   "source": [
    "### Inheritage\n",
    "Inherit another configuration file by starting the yaml with:\n",
    "```yaml\n",
    "%INHERIT file.yaml\n",
    "---\n",
    "```\n",
    "Both file are merged into a single configuration. If the two files define the same field, the new value takes precedence over the inherited one."
   ]
  },
  {
   "cell_type": "code",
   "execution_count": 5,
   "metadata": {
    "pycharm": {
     "name": "#%%\n"
    }
   },
   "outputs": [
    {
     "name": "stdout",
     "output_type": "stream",
     "text": [
      " === RAW FILE ===\n"
     ]
    },
    {
     "data": {
      "text/html": [
       "<pre style=\"white-space:pre;overflow-x:auto;line-height:normal;font-family:Menlo,'DejaVu Sans Mono',consolas,'Courier New',monospace\"><span style=\"color: #960050; text-decoration-color: #960050; background-color: #1e0010\">%</span><span style=\"background-color: #272822\">INHERIT references.yaml                                                                                           </span>\n",
       "<span style=\"color: #f8f8f2; text-decoration-color: #f8f8f2; background-color: #272822\">---</span><span style=\"background-color: #272822\">                                                                                                                </span>\n",
       "<span style=\"background-color: #272822\">                                                                                                                   </span>\n",
       "<span style=\"color: #f92672; text-decoration-color: #f92672; background-color: #272822\">references</span><span style=\"color: #f8f8f2; text-decoration-color: #f8f8f2; background-color: #272822\">:</span><span style=\"background-color: #272822\">                                                                                                        </span>\n",
       "<span style=\"color: #f8f8f2; text-decoration-color: #f8f8f2; background-color: #272822\">    </span><span style=\"color: #f92672; text-decoration-color: #f92672; background-color: #272822\">inherited-ref</span><span style=\"color: #f8f8f2; text-decoration-color: #f8f8f2; background-color: #272822\">: </span><span style=\"background-color: #272822\">$interesting.word                                                                               </span>\n",
       "<span style=\"background-color: #272822\">                                                                                                                   </span>\n",
       "<span style=\"color: #f92672; text-decoration-color: #f92672; background-color: #272822\">interesting</span><span style=\"color: #f8f8f2; text-decoration-color: #f8f8f2; background-color: #272822\">:</span><span style=\"background-color: #272822\">                                                                                                       </span>\n",
       "<span style=\"color: #f8f8f2; text-decoration-color: #f8f8f2; background-color: #272822\">    </span><span style=\"color: #f92672; text-decoration-color: #f92672; background-color: #272822\">stuff</span><span style=\"color: #f8f8f2; text-decoration-color: #f8f8f2; background-color: #272822\">:</span><span style=\"background-color: #272822\">                                                                                                         </span>\n",
       "<span style=\"color: #f8f8f2; text-decoration-color: #f8f8f2; background-color: #272822\">        </span><span style=\"color: #f92672; text-decoration-color: #f92672; background-color: #272822\">elem2</span><span style=\"color: #f8f8f2; text-decoration-color: #f8f8f2; background-color: #272822\">: </span><span style=\"color: #e6db74; text-decoration-color: #e6db74; background-color: #272822\">\"NEW</span><span style=\"color: #f8f8f2; text-decoration-color: #f8f8f2; background-color: #272822\"> </span><span style=\"color: #e6db74; text-decoration-color: #e6db74; background-color: #272822\">FOO\"</span><span style=\"background-color: #272822\">                                                                                           </span>\n",
       "<span style=\"background-color: #272822\">                                                                                                                   </span>\n",
       "</pre>\n"
      ],
      "text/plain": [
       "\u001b[38;2;150;0;80;48;2;30;0;16m%\u001b[0m\u001b[48;2;39;40;34mINHERIT\u001b[0m\u001b[48;2;39;40;34m \u001b[0m\u001b[48;2;39;40;34mreferences.yaml\u001b[0m\u001b[48;2;39;40;34m                                                                                           \u001b[0m\n",
       "\u001b[38;2;248;248;242;48;2;39;40;34m---\u001b[0m\u001b[48;2;39;40;34m                                                                                                                \u001b[0m\n",
       "\u001b[48;2;39;40;34m                                                                                                                   \u001b[0m\n",
       "\u001b[38;2;249;38;114;48;2;39;40;34mreferences\u001b[0m\u001b[38;2;248;248;242;48;2;39;40;34m:\u001b[0m\u001b[48;2;39;40;34m                                                                                                        \u001b[0m\n",
       "\u001b[38;2;248;248;242;48;2;39;40;34m    \u001b[0m\u001b[38;2;249;38;114;48;2;39;40;34minherited-ref\u001b[0m\u001b[38;2;248;248;242;48;2;39;40;34m:\u001b[0m\u001b[38;2;248;248;242;48;2;39;40;34m \u001b[0m\u001b[48;2;39;40;34m$interesting.word\u001b[0m\u001b[48;2;39;40;34m                                                                               \u001b[0m\n",
       "\u001b[48;2;39;40;34m                                                                                                                   \u001b[0m\n",
       "\u001b[38;2;249;38;114;48;2;39;40;34minteresting\u001b[0m\u001b[38;2;248;248;242;48;2;39;40;34m:\u001b[0m\u001b[48;2;39;40;34m                                                                                                       \u001b[0m\n",
       "\u001b[38;2;248;248;242;48;2;39;40;34m    \u001b[0m\u001b[38;2;249;38;114;48;2;39;40;34mstuff\u001b[0m\u001b[38;2;248;248;242;48;2;39;40;34m:\u001b[0m\u001b[48;2;39;40;34m                                                                                                         \u001b[0m\n",
       "\u001b[38;2;248;248;242;48;2;39;40;34m        \u001b[0m\u001b[38;2;249;38;114;48;2;39;40;34melem2\u001b[0m\u001b[38;2;248;248;242;48;2;39;40;34m:\u001b[0m\u001b[38;2;248;248;242;48;2;39;40;34m \u001b[0m\u001b[38;2;230;219;116;48;2;39;40;34m\"\u001b[0m\u001b[38;2;230;219;116;48;2;39;40;34mNEW\u001b[0m\u001b[38;2;248;248;242;48;2;39;40;34m \u001b[0m\u001b[38;2;230;219;116;48;2;39;40;34mFOO\u001b[0m\u001b[38;2;230;219;116;48;2;39;40;34m\"\u001b[0m\u001b[48;2;39;40;34m                                                                                           \u001b[0m\n",
       "\u001b[48;2;39;40;34m                                                                                                                   \u001b[0m\n"
      ]
     },
     "metadata": {},
     "output_type": "display_data"
    },
    {
     "name": "stdout",
     "output_type": "stream",
     "text": [
      "\n",
      " === PARSED CFG ===\n"
     ]
    },
    {
     "data": {
      "text/html": [
       "<pre style=\"white-space:pre;overflow-x:auto;line-height:normal;font-family:Menlo,'DejaVu Sans Mono',consolas,'Courier New',monospace\"><span style=\"color: #f92672; text-decoration-color: #f92672; background-color: #272822\">references</span><span style=\"color: #f8f8f2; text-decoration-color: #f8f8f2; background-color: #272822\">:</span><span style=\"background-color: #272822\">                                                                                                        </span>\n",
       "<span style=\"color: #f8f8f2; text-decoration-color: #f8f8f2; background-color: #272822\">  </span><span style=\"color: #f92672; text-decoration-color: #f92672; background-color: #272822\">absolute-ref1</span><span style=\"color: #f8f8f2; text-decoration-color: #f8f8f2; background-color: #272822\">: </span><span style=\"background-color: #272822\">foo value                                                                                         </span>\n",
       "<span style=\"color: #f8f8f2; text-decoration-color: #f8f8f2; background-color: #272822\">  </span><span style=\"color: #f92672; text-decoration-color: #f92672; background-color: #272822\">absolute-ref2</span><span style=\"color: #f8f8f2; text-decoration-color: #f8f8f2; background-color: #272822\">:</span><span style=\"background-color: #272822\">                                                                                                   </span>\n",
       "<span style=\"color: #f8f8f2; text-decoration-color: #f8f8f2; background-color: #272822\">    </span><span style=\"color: #f92672; text-decoration-color: #f92672; background-color: #272822\">elem1</span><span style=\"color: #f8f8f2; text-decoration-color: #f8f8f2; background-color: #272822\">: </span><span style=\"background-color: #272822\">FOO 1                                                                                                   </span>\n",
       "<span style=\"color: #f8f8f2; text-decoration-color: #f8f8f2; background-color: #272822\">    </span><span style=\"color: #f92672; text-decoration-color: #f92672; background-color: #272822\">elem2</span><span style=\"color: #f8f8f2; text-decoration-color: #f8f8f2; background-color: #272822\">: </span><span style=\"background-color: #272822\">NEW FOO                                                                                                 </span>\n",
       "<span style=\"color: #f8f8f2; text-decoration-color: #f8f8f2; background-color: #272822\">  </span><span style=\"color: #f92672; text-decoration-color: #f92672; background-color: #272822\">relative-ref1</span><span style=\"color: #f8f8f2; text-decoration-color: #f8f8f2; background-color: #272822\">: </span><span style=\"background-color: #272822\">foo value                                                                                         </span>\n",
       "<span style=\"color: #f8f8f2; text-decoration-color: #f8f8f2; background-color: #272822\">  </span><span style=\"color: #f92672; text-decoration-color: #f92672; background-color: #272822\">relative-ref2</span><span style=\"color: #f8f8f2; text-decoration-color: #f8f8f2; background-color: #272822\">: </span><span style=\"background-color: #272822\">NEW FOO                                                                                           </span>\n",
       "<span style=\"color: #f8f8f2; text-decoration-color: #f8f8f2; background-color: #272822\">  </span><span style=\"color: #f92672; text-decoration-color: #f92672; background-color: #272822\">dict-ref</span><span style=\"color: #f8f8f2; text-decoration-color: #f8f8f2; background-color: #272822\">:</span><span style=\"background-color: #272822\">                                                                                                        </span>\n",
       "<span style=\"color: #f8f8f2; text-decoration-color: #f8f8f2; background-color: #272822\">    </span><span style=\"color: #f92672; text-decoration-color: #f92672; background-color: #272822\">elem2</span><span style=\"color: #f8f8f2; text-decoration-color: #f8f8f2; background-color: #272822\">: </span><span style=\"background-color: #272822\">not FOO 2                                                                                               </span>\n",
       "<span style=\"color: #f8f8f2; text-decoration-color: #f8f8f2; background-color: #272822\">    </span><span style=\"color: #f92672; text-decoration-color: #f92672; background-color: #272822\">elem1</span><span style=\"color: #f8f8f2; text-decoration-color: #f8f8f2; background-color: #272822\">: </span><span style=\"background-color: #272822\">FOO 1                                                                                                   </span>\n",
       "<span style=\"color: #f8f8f2; text-decoration-color: #f8f8f2; background-color: #272822\">  </span><span style=\"color: #f92672; text-decoration-color: #f92672; background-color: #272822\">inherited-ref</span><span style=\"color: #f8f8f2; text-decoration-color: #f8f8f2; background-color: #272822\">: </span><span style=\"background-color: #272822\">cool                                                                                              </span>\n",
       "<span style=\"color: #f92672; text-decoration-color: #f92672; background-color: #272822\">interesting</span><span style=\"color: #f8f8f2; text-decoration-color: #f8f8f2; background-color: #272822\">:</span><span style=\"background-color: #272822\">                                                                                                       </span>\n",
       "<span style=\"color: #f8f8f2; text-decoration-color: #f8f8f2; background-color: #272822\">  </span><span style=\"color: #f92672; text-decoration-color: #f92672; background-color: #272822\">stuff</span><span style=\"color: #f8f8f2; text-decoration-color: #f8f8f2; background-color: #272822\">:</span><span style=\"background-color: #272822\">                                                                                                           </span>\n",
       "<span style=\"color: #f8f8f2; text-decoration-color: #f8f8f2; background-color: #272822\">    </span><span style=\"color: #f92672; text-decoration-color: #f92672; background-color: #272822\">elem1</span><span style=\"color: #f8f8f2; text-decoration-color: #f8f8f2; background-color: #272822\">: </span><span style=\"background-color: #272822\">FOO 1                                                                                                   </span>\n",
       "<span style=\"color: #f8f8f2; text-decoration-color: #f8f8f2; background-color: #272822\">    </span><span style=\"color: #f92672; text-decoration-color: #f92672; background-color: #272822\">elem2</span><span style=\"color: #f8f8f2; text-decoration-color: #f8f8f2; background-color: #272822\">: </span><span style=\"background-color: #272822\">NEW FOO                                                                                                 </span>\n",
       "<span style=\"color: #f8f8f2; text-decoration-color: #f8f8f2; background-color: #272822\">  </span><span style=\"color: #f92672; text-decoration-color: #f92672; background-color: #272822\">word</span><span style=\"color: #f8f8f2; text-decoration-color: #f8f8f2; background-color: #272822\">: </span><span style=\"background-color: #272822\">cool                                                                                                       </span>\n",
       "<span style=\"color: #f92672; text-decoration-color: #f92672; background-color: #272822\">foo</span><span style=\"color: #f8f8f2; text-decoration-color: #f8f8f2; background-color: #272822\">: </span><span style=\"background-color: #272822\">foo value                                                                                                     </span>\n",
       "<span style=\"background-color: #272822\">                                                                                                                   </span>\n",
       "</pre>\n"
      ],
      "text/plain": [
       "\u001b[38;2;249;38;114;48;2;39;40;34mreferences\u001b[0m\u001b[38;2;248;248;242;48;2;39;40;34m:\u001b[0m\u001b[48;2;39;40;34m                                                                                                        \u001b[0m\n",
       "\u001b[38;2;248;248;242;48;2;39;40;34m  \u001b[0m\u001b[38;2;249;38;114;48;2;39;40;34mabsolute-ref1\u001b[0m\u001b[38;2;248;248;242;48;2;39;40;34m:\u001b[0m\u001b[38;2;248;248;242;48;2;39;40;34m \u001b[0m\u001b[48;2;39;40;34mfoo\u001b[0m\u001b[48;2;39;40;34m \u001b[0m\u001b[48;2;39;40;34mvalue\u001b[0m\u001b[48;2;39;40;34m                                                                                         \u001b[0m\n",
       "\u001b[38;2;248;248;242;48;2;39;40;34m  \u001b[0m\u001b[38;2;249;38;114;48;2;39;40;34mabsolute-ref2\u001b[0m\u001b[38;2;248;248;242;48;2;39;40;34m:\u001b[0m\u001b[48;2;39;40;34m                                                                                                   \u001b[0m\n",
       "\u001b[38;2;248;248;242;48;2;39;40;34m    \u001b[0m\u001b[38;2;249;38;114;48;2;39;40;34melem1\u001b[0m\u001b[38;2;248;248;242;48;2;39;40;34m:\u001b[0m\u001b[38;2;248;248;242;48;2;39;40;34m \u001b[0m\u001b[48;2;39;40;34mFOO\u001b[0m\u001b[48;2;39;40;34m \u001b[0m\u001b[48;2;39;40;34m1\u001b[0m\u001b[48;2;39;40;34m                                                                                                   \u001b[0m\n",
       "\u001b[38;2;248;248;242;48;2;39;40;34m    \u001b[0m\u001b[38;2;249;38;114;48;2;39;40;34melem2\u001b[0m\u001b[38;2;248;248;242;48;2;39;40;34m:\u001b[0m\u001b[38;2;248;248;242;48;2;39;40;34m \u001b[0m\u001b[48;2;39;40;34mNEW\u001b[0m\u001b[48;2;39;40;34m \u001b[0m\u001b[48;2;39;40;34mFOO\u001b[0m\u001b[48;2;39;40;34m                                                                                                 \u001b[0m\n",
       "\u001b[38;2;248;248;242;48;2;39;40;34m  \u001b[0m\u001b[38;2;249;38;114;48;2;39;40;34mrelative-ref1\u001b[0m\u001b[38;2;248;248;242;48;2;39;40;34m:\u001b[0m\u001b[38;2;248;248;242;48;2;39;40;34m \u001b[0m\u001b[48;2;39;40;34mfoo\u001b[0m\u001b[48;2;39;40;34m \u001b[0m\u001b[48;2;39;40;34mvalue\u001b[0m\u001b[48;2;39;40;34m                                                                                         \u001b[0m\n",
       "\u001b[38;2;248;248;242;48;2;39;40;34m  \u001b[0m\u001b[38;2;249;38;114;48;2;39;40;34mrelative-ref2\u001b[0m\u001b[38;2;248;248;242;48;2;39;40;34m:\u001b[0m\u001b[38;2;248;248;242;48;2;39;40;34m \u001b[0m\u001b[48;2;39;40;34mNEW\u001b[0m\u001b[48;2;39;40;34m \u001b[0m\u001b[48;2;39;40;34mFOO\u001b[0m\u001b[48;2;39;40;34m                                                                                           \u001b[0m\n",
       "\u001b[38;2;248;248;242;48;2;39;40;34m  \u001b[0m\u001b[38;2;249;38;114;48;2;39;40;34mdict-ref\u001b[0m\u001b[38;2;248;248;242;48;2;39;40;34m:\u001b[0m\u001b[48;2;39;40;34m                                                                                                        \u001b[0m\n",
       "\u001b[38;2;248;248;242;48;2;39;40;34m    \u001b[0m\u001b[38;2;249;38;114;48;2;39;40;34melem2\u001b[0m\u001b[38;2;248;248;242;48;2;39;40;34m:\u001b[0m\u001b[38;2;248;248;242;48;2;39;40;34m \u001b[0m\u001b[48;2;39;40;34mnot\u001b[0m\u001b[48;2;39;40;34m \u001b[0m\u001b[48;2;39;40;34mFOO\u001b[0m\u001b[48;2;39;40;34m \u001b[0m\u001b[48;2;39;40;34m2\u001b[0m\u001b[48;2;39;40;34m                                                                                               \u001b[0m\n",
       "\u001b[38;2;248;248;242;48;2;39;40;34m    \u001b[0m\u001b[38;2;249;38;114;48;2;39;40;34melem1\u001b[0m\u001b[38;2;248;248;242;48;2;39;40;34m:\u001b[0m\u001b[38;2;248;248;242;48;2;39;40;34m \u001b[0m\u001b[48;2;39;40;34mFOO\u001b[0m\u001b[48;2;39;40;34m \u001b[0m\u001b[48;2;39;40;34m1\u001b[0m\u001b[48;2;39;40;34m                                                                                                   \u001b[0m\n",
       "\u001b[38;2;248;248;242;48;2;39;40;34m  \u001b[0m\u001b[38;2;249;38;114;48;2;39;40;34minherited-ref\u001b[0m\u001b[38;2;248;248;242;48;2;39;40;34m:\u001b[0m\u001b[38;2;248;248;242;48;2;39;40;34m \u001b[0m\u001b[48;2;39;40;34mcool\u001b[0m\u001b[48;2;39;40;34m                                                                                              \u001b[0m\n",
       "\u001b[38;2;249;38;114;48;2;39;40;34minteresting\u001b[0m\u001b[38;2;248;248;242;48;2;39;40;34m:\u001b[0m\u001b[48;2;39;40;34m                                                                                                       \u001b[0m\n",
       "\u001b[38;2;248;248;242;48;2;39;40;34m  \u001b[0m\u001b[38;2;249;38;114;48;2;39;40;34mstuff\u001b[0m\u001b[38;2;248;248;242;48;2;39;40;34m:\u001b[0m\u001b[48;2;39;40;34m                                                                                                           \u001b[0m\n",
       "\u001b[38;2;248;248;242;48;2;39;40;34m    \u001b[0m\u001b[38;2;249;38;114;48;2;39;40;34melem1\u001b[0m\u001b[38;2;248;248;242;48;2;39;40;34m:\u001b[0m\u001b[38;2;248;248;242;48;2;39;40;34m \u001b[0m\u001b[48;2;39;40;34mFOO\u001b[0m\u001b[48;2;39;40;34m \u001b[0m\u001b[48;2;39;40;34m1\u001b[0m\u001b[48;2;39;40;34m                                                                                                   \u001b[0m\n",
       "\u001b[38;2;248;248;242;48;2;39;40;34m    \u001b[0m\u001b[38;2;249;38;114;48;2;39;40;34melem2\u001b[0m\u001b[38;2;248;248;242;48;2;39;40;34m:\u001b[0m\u001b[38;2;248;248;242;48;2;39;40;34m \u001b[0m\u001b[48;2;39;40;34mNEW\u001b[0m\u001b[48;2;39;40;34m \u001b[0m\u001b[48;2;39;40;34mFOO\u001b[0m\u001b[48;2;39;40;34m                                                                                                 \u001b[0m\n",
       "\u001b[38;2;248;248;242;48;2;39;40;34m  \u001b[0m\u001b[38;2;249;38;114;48;2;39;40;34mword\u001b[0m\u001b[38;2;248;248;242;48;2;39;40;34m:\u001b[0m\u001b[38;2;248;248;242;48;2;39;40;34m \u001b[0m\u001b[48;2;39;40;34mcool\u001b[0m\u001b[48;2;39;40;34m                                                                                                       \u001b[0m\n",
       "\u001b[38;2;249;38;114;48;2;39;40;34mfoo\u001b[0m\u001b[38;2;248;248;242;48;2;39;40;34m:\u001b[0m\u001b[38;2;248;248;242;48;2;39;40;34m \u001b[0m\u001b[48;2;39;40;34mfoo\u001b[0m\u001b[48;2;39;40;34m \u001b[0m\u001b[48;2;39;40;34mvalue\u001b[0m\u001b[48;2;39;40;34m                                                                                                     \u001b[0m\n",
       "\u001b[48;2;39;40;34m                                                                                                                   \u001b[0m\n"
      ]
     },
     "metadata": {},
     "output_type": "display_data"
    }
   ],
   "source": [
    "cfg = Cfg.Parser('yaml-demos/inheritage.yaml').get_config(parse_obj=False)\n",
    "\n",
    "with open('yaml-demos/inheritage.yaml', 'r') as f:\n",
    "    raw = f.read()\n",
    "print(' === RAW FILE ===')\n",
    "display(Syntax(raw, 'yaml'))\n",
    "print('\\n === PARSED CFG ===')\n",
    "display(Syntax(cfg.to_yaml(), 'yaml'))\n",
    "\n",
    "assert cfg['references.inherited-ref'] == 'cool'"
   ]
  },
  {
   "cell_type": "markdown",
   "metadata": {},
   "source": [
    "### Version Multiplicity\n",
    "Several version of a configuration can be described in a single yaml file either:\n",
    "\n",
    "-  by adding ``@`` at the end of any field name and defining it as the list of its value:\n",
    "```yaml\n",
    "field@: [value1, value2]\n",
    "```\n",
    "\n",
    "- by including several documents in the configuration file. The first document will be the base, each subsequent document will create new a version of the configuration: merging its values with the base.\n",
    "\n",
    "Hence:\n",
    "```yaml\n",
    "base-stuff:\n",
    "    foo: 'FOO'\n",
    "specified-field: default_value\n",
    "---\n",
    "version: '1'\n",
    "---\n",
    "version: '2'\n",
    "specified-field: other-value\n",
    "```\n",
    "\n",
    "Will produce two configurations:\n",
    "```yaml\n",
    "base-stuff:\n",
    "    foo: 'FOO'\n",
    "version: '1'\n",
    "specified-field: default_value\n",
    "```\n",
    "and \n",
    "```yaml\n",
    "base-stuff:\n",
    "    foo: 'FOO'\n",
    "version: '2'\n",
    "specified-field: other-value\n",
    "```\n",
    "\n",
    "These syntaxes can be combined. In this case, each possible combinations of versions will be created."
   ]
  },
  {
   "cell_type": "code",
   "execution_count": 6,
   "metadata": {},
   "outputs": [
    {
     "name": "stdout",
     "output_type": "stream",
     "text": [
      " === RAW FILE ===\n"
     ]
    },
    {
     "data": {
      "text/html": [
       "<pre style=\"white-space:pre;overflow-x:auto;line-height:normal;font-family:Menlo,'DejaVu Sans Mono',consolas,'Courier New',monospace\"><span style=\"color: #f92672; text-decoration-color: #f92672; background-color: #272822\">list@</span><span style=\"color: #f8f8f2; text-decoration-color: #f8f8f2; background-color: #272822\">: </span><span style=\"background-color: #272822\">[</span><span style=\"color: #f8f8f2; text-decoration-color: #f8f8f2; background-color: #272822\">ele1</span><span style=\"background-color: #272822\">,</span><span style=\"color: #f8f8f2; text-decoration-color: #f8f8f2; background-color: #272822\"> </span><span style=\"background-color: #272822\">{</span><span style=\"color: #f92672; text-decoration-color: #f92672; background-color: #272822\">ele2</span><span style=\"color: #f8f8f2; text-decoration-color: #f8f8f2; background-color: #272822\">: </span><span style=\"color: #e6db74; text-decoration-color: #e6db74; background-color: #272822\">'is</span><span style=\"color: #f8f8f2; text-decoration-color: #f8f8f2; background-color: #272822\"> </span><span style=\"color: #e6db74; text-decoration-color: #e6db74; background-color: #272822\">a</span><span style=\"color: #f8f8f2; text-decoration-color: #f8f8f2; background-color: #272822\"> </span><span style=\"color: #e6db74; text-decoration-color: #e6db74; background-color: #272822\">dictionnary'</span><span style=\"background-color: #272822\">}]                                                                          </span>\n",
       "<span style=\"color: #f8f8f2; text-decoration-color: #f8f8f2; background-color: #272822\">---</span><span style=\"background-color: #272822\">                                                                                                                </span>\n",
       "<span style=\"color: #f92672; text-decoration-color: #f92672; background-color: #272822\">document</span><span style=\"color: #f8f8f2; text-decoration-color: #f8f8f2; background-color: #272822\">: </span><span style=\"background-color: #272822\">1                                                                                                        </span>\n",
       "<span style=\"color: #f92672; text-decoration-color: #f92672; background-color: #272822\">doc1-attr</span><span style=\"color: #f8f8f2; text-decoration-color: #f8f8f2; background-color: #272822\">: </span><span style=\"background-color: #272822\">foo                                                                                                     </span>\n",
       "<span style=\"color: #f8f8f2; text-decoration-color: #f8f8f2; background-color: #272822\">---</span><span style=\"background-color: #272822\">                                                                                                                </span>\n",
       "<span style=\"color: #f92672; text-decoration-color: #f92672; background-color: #272822\">document</span><span style=\"color: #f8f8f2; text-decoration-color: #f8f8f2; background-color: #272822\">: </span><span style=\"background-color: #272822\">2                                                                                                        </span>\n",
       "<span style=\"color: #f92672; text-decoration-color: #f92672; background-color: #272822\">doc2-attr</span><span style=\"color: #f8f8f2; text-decoration-color: #f8f8f2; background-color: #272822\">: </span><span style=\"background-color: #272822\">foo                                                                                                     </span>\n",
       "<span style=\"background-color: #272822\">                                                                                                                   </span>\n",
       "</pre>\n"
      ],
      "text/plain": [
       "\u001b[38;2;249;38;114;48;2;39;40;34mlist@\u001b[0m\u001b[38;2;248;248;242;48;2;39;40;34m:\u001b[0m\u001b[38;2;248;248;242;48;2;39;40;34m \u001b[0m\u001b[48;2;39;40;34m[\u001b[0m\u001b[38;2;248;248;242;48;2;39;40;34mele1\u001b[0m\u001b[48;2;39;40;34m,\u001b[0m\u001b[38;2;248;248;242;48;2;39;40;34m \u001b[0m\u001b[48;2;39;40;34m{\u001b[0m\u001b[38;2;249;38;114;48;2;39;40;34mele2\u001b[0m\u001b[38;2;248;248;242;48;2;39;40;34m:\u001b[0m\u001b[38;2;248;248;242;48;2;39;40;34m \u001b[0m\u001b[38;2;230;219;116;48;2;39;40;34m'\u001b[0m\u001b[38;2;230;219;116;48;2;39;40;34mis\u001b[0m\u001b[38;2;248;248;242;48;2;39;40;34m \u001b[0m\u001b[38;2;230;219;116;48;2;39;40;34ma\u001b[0m\u001b[38;2;248;248;242;48;2;39;40;34m \u001b[0m\u001b[38;2;230;219;116;48;2;39;40;34mdictionnary\u001b[0m\u001b[38;2;230;219;116;48;2;39;40;34m'\u001b[0m\u001b[48;2;39;40;34m}\u001b[0m\u001b[48;2;39;40;34m]\u001b[0m\u001b[48;2;39;40;34m                                                                          \u001b[0m\n",
       "\u001b[38;2;248;248;242;48;2;39;40;34m---\u001b[0m\u001b[48;2;39;40;34m                                                                                                                \u001b[0m\n",
       "\u001b[38;2;249;38;114;48;2;39;40;34mdocument\u001b[0m\u001b[38;2;248;248;242;48;2;39;40;34m:\u001b[0m\u001b[38;2;248;248;242;48;2;39;40;34m \u001b[0m\u001b[48;2;39;40;34m1\u001b[0m\u001b[48;2;39;40;34m                                                                                                        \u001b[0m\n",
       "\u001b[38;2;249;38;114;48;2;39;40;34mdoc1-attr\u001b[0m\u001b[38;2;248;248;242;48;2;39;40;34m:\u001b[0m\u001b[38;2;248;248;242;48;2;39;40;34m \u001b[0m\u001b[48;2;39;40;34mfoo\u001b[0m\u001b[48;2;39;40;34m                                                                                                     \u001b[0m\n",
       "\u001b[38;2;248;248;242;48;2;39;40;34m---\u001b[0m\u001b[48;2;39;40;34m                                                                                                                \u001b[0m\n",
       "\u001b[38;2;249;38;114;48;2;39;40;34mdocument\u001b[0m\u001b[38;2;248;248;242;48;2;39;40;34m:\u001b[0m\u001b[38;2;248;248;242;48;2;39;40;34m \u001b[0m\u001b[48;2;39;40;34m2\u001b[0m\u001b[48;2;39;40;34m                                                                                                        \u001b[0m\n",
       "\u001b[38;2;249;38;114;48;2;39;40;34mdoc2-attr\u001b[0m\u001b[38;2;248;248;242;48;2;39;40;34m:\u001b[0m\u001b[38;2;248;248;242;48;2;39;40;34m \u001b[0m\u001b[48;2;39;40;34mfoo\u001b[0m\u001b[48;2;39;40;34m                                                                                                     \u001b[0m\n",
       "\u001b[48;2;39;40;34m                                                                                                                   \u001b[0m\n"
      ]
     },
     "metadata": {},
     "output_type": "display_data"
    },
    {
     "ename": "AttributeError",
     "evalue": "'list' object has no attribute 'walk_cursor'",
     "output_type": "error",
     "traceback": [
      "\u001b[0;31m---------------------------------------------------------------------------\u001b[0m",
      "\u001b[0;31mAttributeError\u001b[0m                            Traceback (most recent call last)",
      "Cell \u001b[0;32mIn [6], line 7\u001b[0m\n\u001b[1;32m      5\u001b[0m \u001b[38;5;28mprint\u001b[39m(\u001b[38;5;124m'\u001b[39m\u001b[38;5;124m === RAW FILE ===\u001b[39m\u001b[38;5;124m'\u001b[39m)\n\u001b[1;32m      6\u001b[0m display(Syntax(raw, \u001b[38;5;124m'\u001b[39m\u001b[38;5;124myaml\u001b[39m\u001b[38;5;124m'\u001b[39m))\n\u001b[0;32m----> 7\u001b[0m \u001b[38;5;28;01mfor\u001b[39;00m i, cfg \u001b[38;5;129;01min\u001b[39;00m \u001b[38;5;28menumerate\u001b[39m(cfgs):\n\u001b[1;32m      8\u001b[0m     \u001b[38;5;28mprint\u001b[39m(\u001b[38;5;124mf\u001b[39m\u001b[38;5;124m'\u001b[39m\u001b[38;5;130;01m\\n\u001b[39;00m\u001b[38;5;124m === VERSION \u001b[39m\u001b[38;5;132;01m{\u001b[39;00mi\u001b[38;5;241m+\u001b[39m\u001b[38;5;241m1\u001b[39m\u001b[38;5;132;01m}\u001b[39;00m\u001b[38;5;124m ===\u001b[39m\u001b[38;5;124m'\u001b[39m)\n\u001b[1;32m      9\u001b[0m     display(Syntax(cfg\u001b[38;5;241m.\u001b[39mto_yaml(), \u001b[38;5;124m'\u001b[39m\u001b[38;5;124myaml\u001b[39m\u001b[38;5;124m'\u001b[39m))\n",
      "File \u001b[0;32m~/These/src/nn-template/lib/nn_template/config/cfg_parser.py:90\u001b[0m, in \u001b[0;36mCfgParser.__getitem__\u001b[0;34m(self, item)\u001b[0m\n\u001b[1;32m     89\u001b[0m \u001b[38;5;28;01mdef\u001b[39;00m \u001b[38;5;21m__getitem__\u001b[39m(\u001b[38;5;28mself\u001b[39m, item):\n\u001b[0;32m---> 90\u001b[0m     \u001b[38;5;28;01mreturn\u001b[39;00m \u001b[38;5;28;43mself\u001b[39;49m\u001b[38;5;241;43m.\u001b[39;49m\u001b[43mget_config\u001b[49m\u001b[43m(\u001b[49m\u001b[43mitem\u001b[49m\u001b[43m)\u001b[49m\n",
      "File \u001b[0;32m~/These/src/nn-template/lib/nn_template/config/cfg_parser.py:98\u001b[0m, in \u001b[0;36mCfgParser.get_config\u001b[0;34m(self, version, parse_obj)\u001b[0m\n\u001b[1;32m     96\u001b[0m \u001b[38;5;28;01mdef\u001b[39;00m \u001b[38;5;21mget_config\u001b[39m(\u001b[38;5;28mself\u001b[39m, version\u001b[38;5;241m=\u001b[39m\u001b[38;5;241m0\u001b[39m, parse_obj\u001b[38;5;241m=\u001b[39m\u001b[38;5;28;01mTrue\u001b[39;00m):\n\u001b[1;32m     97\u001b[0m     \u001b[38;5;28;01mif\u001b[39;00m \u001b[38;5;28mself\u001b[39m\u001b[38;5;241m.\u001b[39mbase \u001b[38;5;129;01mis\u001b[39;00m \u001b[38;5;28;01mNone\u001b[39;00m:\n\u001b[0;32m---> 98\u001b[0m         \u001b[38;5;28;43mself\u001b[39;49m\u001b[38;5;241;43m.\u001b[39;49m\u001b[43mparse\u001b[49m\u001b[43m(\u001b[49m\u001b[43m)\u001b[49m\n\u001b[1;32m     99\u001b[0m     \u001b[38;5;28;01mif\u001b[39;00m \u001b[38;5;129;01mnot\u001b[39;00m \u001b[38;5;28mself\u001b[39m\u001b[38;5;241m.\u001b[39mversions:\n\u001b[1;32m    100\u001b[0m         cfg \u001b[38;5;241m=\u001b[39m \u001b[38;5;28mself\u001b[39m\u001b[38;5;241m.\u001b[39mbase\u001b[38;5;241m.\u001b[39mcopy()\n",
      "File \u001b[0;32m~/These/src/nn-template/lib/nn_template/config/cfg_parser.py:124\u001b[0m, in \u001b[0;36mCfgParser.parse\u001b[0;34m(self)\u001b[0m\n\u001b[1;32m    123\u001b[0m \u001b[38;5;28;01mdef\u001b[39;00m \u001b[38;5;21mparse\u001b[39m(\u001b[38;5;28mself\u001b[39m):\n\u001b[0;32m--> 124\u001b[0m     \u001b[38;5;28;43mself\u001b[39;49m\u001b[38;5;241;43m.\u001b[39;49m\u001b[43m_parse_files\u001b[49m\u001b[43m(\u001b[49m\u001b[43m)\u001b[49m\n\u001b[1;32m    125\u001b[0m     \u001b[38;5;28mself\u001b[39m\u001b[38;5;241m.\u001b[39m_merge_files()\n\u001b[1;32m    126\u001b[0m     \u001b[38;5;28;01mreturn\u001b[39;00m \u001b[38;5;28mself\u001b[39m\n",
      "File \u001b[0;32m~/These/src/nn-template/lib/nn_template/config/cfg_parser.py:129\u001b[0m, in \u001b[0;36mCfgParser._parse_files\u001b[0;34m(self)\u001b[0m\n\u001b[1;32m    128\u001b[0m \u001b[38;5;28;01mdef\u001b[39;00m \u001b[38;5;21m_parse_files\u001b[39m(\u001b[38;5;28mself\u001b[39m):\n\u001b[0;32m--> 129\u001b[0m     f \u001b[38;5;241m=\u001b[39m \u001b[43mCfgFile\u001b[49m\u001b[43m(\u001b[49m\u001b[38;5;28;43mself\u001b[39;49m\u001b[38;5;241;43m.\u001b[39;49m\u001b[43mpath\u001b[49m\u001b[43m,\u001b[49m\u001b[43m \u001b[49m\u001b[38;5;28;43mself\u001b[39;49m\u001b[43m)\u001b[49m\u001b[38;5;241;43m.\u001b[39;49m\u001b[43mparse\u001b[49m\u001b[43m(\u001b[49m\u001b[43m)\u001b[49m\n\u001b[1;32m    130\u001b[0m     \u001b[38;5;28mself\u001b[39m\u001b[38;5;241m.\u001b[39mfiles \u001b[38;5;241m=\u001b[39m [f]\n\u001b[1;32m    131\u001b[0m     dependencies \u001b[38;5;241m=\u001b[39m \u001b[38;5;28mlist\u001b[39m(f\u001b[38;5;241m.\u001b[39minherit)\n",
      "File \u001b[0;32m~/These/src/nn-template/lib/nn_template/config/cfg_parser.py:311\u001b[0m, in \u001b[0;36mCfgFile.parse\u001b[0;34m(self)\u001b[0m\n\u001b[1;32m    309\u001b[0m             \u001b[38;5;28;01mraise\u001b[39;00m ParseError(\u001b[38;5;124mf\u001b[39m\u001b[38;5;124m'\u001b[39m\u001b[38;5;124mAttribute \u001b[39m\u001b[38;5;132;01m{\u001b[39;00mc\u001b[38;5;241m.\u001b[39mcfg_path\u001b[38;5;132;01m}\u001b[39;00m\u001b[38;5;124m is already defined\u001b[39m\u001b[38;5;124m'\u001b[39m, c\u001b[38;5;241m.\u001b[39mmark)\n\u001b[1;32m    310\u001b[0m versions \u001b[38;5;241m+\u001b[39m\u001b[38;5;241m=\u001b[39m [[CfgDict({k: _}) \u001b[38;5;28;01mfor\u001b[39;00m _ \u001b[38;5;129;01min\u001b[39;00m l] \u001b[38;5;28;01mfor\u001b[39;00m k, l \u001b[38;5;129;01min\u001b[39;00m seq_versions\u001b[38;5;241m.\u001b[39mitems()]\n\u001b[0;32m--> 311\u001b[0m versions \u001b[38;5;241m=\u001b[39m [\u001b[38;5;28mself\u001b[39m\u001b[38;5;241m.\u001b[39mmark_attributes_with_versions(v, CfgVersion(i, versions)) \u001b[38;5;28;01mfor\u001b[39;00m i, v \u001b[38;5;129;01min\u001b[39;00m \u001b[38;5;28menumerate\u001b[39m(versions)]\n\u001b[1;32m    312\u001b[0m \u001b[38;5;28mself\u001b[39m\u001b[38;5;241m.\u001b[39mversions, \u001b[38;5;28mself\u001b[39m\u001b[38;5;241m.\u001b[39mbase \u001b[38;5;241m=\u001b[39m curate_versions_base(versions, base)\n\u001b[1;32m    314\u001b[0m \u001b[38;5;28;01mreturn\u001b[39;00m \u001b[38;5;28mself\u001b[39m\n",
      "File \u001b[0;32m~/These/src/nn-template/lib/nn_template/config/cfg_parser.py:311\u001b[0m, in \u001b[0;36m<listcomp>\u001b[0;34m(.0)\u001b[0m\n\u001b[1;32m    309\u001b[0m             \u001b[38;5;28;01mraise\u001b[39;00m ParseError(\u001b[38;5;124mf\u001b[39m\u001b[38;5;124m'\u001b[39m\u001b[38;5;124mAttribute \u001b[39m\u001b[38;5;132;01m{\u001b[39;00mc\u001b[38;5;241m.\u001b[39mcfg_path\u001b[38;5;132;01m}\u001b[39;00m\u001b[38;5;124m is already defined\u001b[39m\u001b[38;5;124m'\u001b[39m, c\u001b[38;5;241m.\u001b[39mmark)\n\u001b[1;32m    310\u001b[0m versions \u001b[38;5;241m+\u001b[39m\u001b[38;5;241m=\u001b[39m [[CfgDict({k: _}) \u001b[38;5;28;01mfor\u001b[39;00m _ \u001b[38;5;129;01min\u001b[39;00m l] \u001b[38;5;28;01mfor\u001b[39;00m k, l \u001b[38;5;129;01min\u001b[39;00m seq_versions\u001b[38;5;241m.\u001b[39mitems()]\n\u001b[0;32m--> 311\u001b[0m versions \u001b[38;5;241m=\u001b[39m [\u001b[38;5;28;43mself\u001b[39;49m\u001b[38;5;241;43m.\u001b[39;49m\u001b[43mmark_attributes_with_versions\u001b[49m\u001b[43m(\u001b[49m\u001b[43mv\u001b[49m\u001b[43m,\u001b[49m\u001b[43m \u001b[49m\u001b[43mCfgVersion\u001b[49m\u001b[43m(\u001b[49m\u001b[43mi\u001b[49m\u001b[43m,\u001b[49m\u001b[43m \u001b[49m\u001b[43mversions\u001b[49m\u001b[43m)\u001b[49m\u001b[43m)\u001b[49m \u001b[38;5;28;01mfor\u001b[39;00m i, v \u001b[38;5;129;01min\u001b[39;00m \u001b[38;5;28menumerate\u001b[39m(versions)]\n\u001b[1;32m    312\u001b[0m \u001b[38;5;28mself\u001b[39m\u001b[38;5;241m.\u001b[39mversions, \u001b[38;5;28mself\u001b[39m\u001b[38;5;241m.\u001b[39mbase \u001b[38;5;241m=\u001b[39m curate_versions_base(versions, base)\n\u001b[1;32m    314\u001b[0m \u001b[38;5;28;01mreturn\u001b[39;00m \u001b[38;5;28mself\u001b[39m\n",
      "File \u001b[0;32m~/These/src/nn-template/lib/nn_template/config/cfg_parser.py:330\u001b[0m, in \u001b[0;36mCfgFile.mark_attributes_with_versions\u001b[0;34m(cfg_dict, version)\u001b[0m\n\u001b[1;32m    328\u001b[0m \u001b[38;5;129m@staticmethod\u001b[39m\n\u001b[1;32m    329\u001b[0m \u001b[38;5;28;01mdef\u001b[39;00m \u001b[38;5;21mmark_attributes_with_versions\u001b[39m(cfg_dict: CfgDict, version):\n\u001b[0;32m--> 330\u001b[0m     \u001b[38;5;28;01mfor\u001b[39;00m cursor \u001b[38;5;129;01min\u001b[39;00m \u001b[43mcfg_dict\u001b[49m\u001b[38;5;241;43m.\u001b[39;49m\u001b[43mwalk_cursor\u001b[49m(only_leaf\u001b[38;5;241m=\u001b[39m\u001b[38;5;28;01mTrue\u001b[39;00m):\n\u001b[1;32m    331\u001b[0m         cursor\u001b[38;5;241m.\u001b[39mmark\u001b[38;5;241m.\u001b[39mversion \u001b[38;5;241m=\u001b[39m version\n\u001b[1;32m    332\u001b[0m     \u001b[38;5;28;01mreturn\u001b[39;00m cfg_dict\n",
      "\u001b[0;31mAttributeError\u001b[0m: 'list' object has no attribute 'walk_cursor'"
     ]
    }
   ],
   "source": [
    "cfgs = Cfg.Parser('yaml-demos/versions.yaml')\n",
    "\n",
    "with open('yaml-demos/versions.yaml', 'r') as f:\n",
    "    raw = f.read()\n",
    "print(' === RAW FILE ===')\n",
    "display(Syntax(raw, 'yaml'))\n",
    "for i, cfg in enumerate(cfgs):\n",
    "    print(f'\\n === VERSION {i+1} ===')\n",
    "    display(Syntax(cfg.to_yaml(), 'yaml'))\n",
    "\n",
    "\n",
    "assert cfgs[0]['document'] == 1\n",
    "assert cfgs[0]['list'] == 'ele1'\n",
    "assert cfgs[1]['document'] == 2\n",
    "assert cfgs[2]['list'] == {'ele2': 'is a dictionnary'}"
   ]
  },
  {
   "cell_type": "markdown",
   "metadata": {},
   "source": [
    "### Version Multiplicity and Inheritance\n",
    "Versions inherited from a configuration file are imported as long as the values of their attributes doesn't conflict with the current configuration file. "
   ]
  },
  {
   "cell_type": "code",
   "execution_count": null,
   "metadata": {},
   "outputs": [],
   "source": [
    "cfgs = Cfg.Parser('yaml-demos/inherit-ref.yaml')\n",
    "\n",
    "with open(cfgs.path, 'r') as f:\n",
    "    raw = f.read()\n",
    "print(' === RAW FILE ===')\n",
    "display(Syntax(raw, 'yaml'))\n",
    "for i, cfg in enumerate(cfgs):\n",
    "    print(f'\\n === VERSION {i+1} ===')\n",
    "    display(Syntax(cfg.to_yaml(), 'yaml'))\n"
   ]
  },
  {
   "cell_type": "code",
   "execution_count": null,
   "metadata": {},
   "outputs": [],
   "source": []
  }
 ],
 "metadata": {
  "kernelspec": {
   "display_name": "Python 3 (ipykernel)",
   "language": "python",
   "name": "python3"
  },
  "language_info": {
   "codemirror_mode": {
    "name": "ipython",
    "version": 3
   },
   "file_extension": ".py",
   "mimetype": "text/x-python",
   "name": "python",
   "nbconvert_exporter": "python",
   "pygments_lexer": "ipython3",
   "version": "3.10.6"
  },
  "varInspector": {
   "cols": {
    "lenName": 16,
    "lenType": 16,
    "lenVar": 40
   },
   "kernels_config": {
    "python": {
     "delete_cmd_postfix": "",
     "delete_cmd_prefix": "del ",
     "library": "var_list.py",
     "varRefreshCmd": "print(var_dic_list())"
    },
    "r": {
     "delete_cmd_postfix": ") ",
     "delete_cmd_prefix": "rm(",
     "library": "var_list.r",
     "varRefreshCmd": "cat(var_dic_list()) "
    }
   },
   "types_to_exclude": [
    "module",
    "function",
    "builtin_function_or_method",
    "instance",
    "_Feature"
   ],
   "window_display": false
  }
 },
 "nbformat": 4,
 "nbformat_minor": 4
}
