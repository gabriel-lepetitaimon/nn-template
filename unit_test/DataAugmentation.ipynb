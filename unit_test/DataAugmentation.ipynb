{
 "cells": [
  {
   "cell_type": "markdown",
   "id": "42f72abd-fe05-476f-a023-3a7307e70d98",
   "metadata": {},
   "source": [
    "##### import"
   ]
  },
  {
   "cell_type": "code",
   "execution_count": 1,
   "id": "05194572-accd-4331-abad-e73bbca7168c",
   "metadata": {},
   "outputs": [],
   "source": [
    "%load_ext autoreload\n",
    "%autoreload 2"
   ]
  },
  {
   "cell_type": "code",
   "execution_count": 2,
   "id": "5442132b-ca66-4bd8-af89-b0f3775d97ca",
   "metadata": {},
   "outputs": [],
   "source": [
    "from sources import Cfg\n",
    "import nn_template.data_augmentation\n",
    "import nn_template.model\n",
    "import nn_template.datasets\n",
    "from nn_template.model import Model\n",
    "import nn_template.optuna"
   ]
  },
  {
   "cell_type": "markdown",
   "id": "f2975224-09ba-49d8-a2a8-b0ffa18b28bc",
   "metadata": {},
   "source": [
    "### Load Dataset"
   ]
  },
  {
   "cell_type": "code",
   "execution_count": 3,
   "id": "5305011e-f669-46a2-89b7-78425565844a",
   "metadata": {},
   "outputs": [],
   "source": [
    "cfg = Cfg.Parser('yaml-demos/demo.yaml').get_config()"
   ]
  },
  {
   "cell_type": "code",
   "execution_count": 4,
   "id": "900b891e-e1bb-43cb-842e-d461a918a285",
   "metadata": {},
   "outputs": [
    {
     "name": "stdout",
     "output_type": "stream",
     "text": [
      "['ID'] ['ID']\n"
     ]
    },
    {
     "ename": "ValueError",
     "evalue": "shape is not optional to call method: <function DataAugment.crop at 0x7f37e4866e60>.",
     "output_type": "error",
     "traceback": [
      "\u001b[0;31m---------------------------------------------------------------------------\u001b[0m",
      "\u001b[0;31mValueError\u001b[0m                                Traceback (most recent call last)",
      "Input \u001b[0;32mIn [4]\u001b[0m, in \u001b[0;36m<cell line: 1>\u001b[0;34m()\u001b[0m\n\u001b[0;32m----> 1\u001b[0m \u001b[43mcfg\u001b[49m\u001b[43m[\u001b[49m\u001b[38;5;124;43m'\u001b[39;49m\u001b[38;5;124;43mdatasets\u001b[39;49m\u001b[38;5;124;43m'\u001b[39;49m\u001b[43m]\u001b[49m\u001b[38;5;241;43m.\u001b[39;49m\u001b[43mtrain\u001b[49m\u001b[38;5;241;43m.\u001b[39;49m\u001b[43mdataset\u001b[49m\u001b[43m(\u001b[49m\u001b[43m)\u001b[49m\n",
      "File \u001b[0;32m~/These/src/nn-template/lib/nn_template/datasets/dataset.py:117\u001b[0m, in \u001b[0;36mDatasetCfg.dataset\u001b[0;34m(self)\u001b[0m\n\u001b[1;32m    116\u001b[0m \u001b[38;5;28;01mdef\u001b[39;00m \u001b[38;5;21mdataset\u001b[39m(\u001b[38;5;28mself\u001b[39m):\n\u001b[0;32m--> 117\u001b[0m     \u001b[38;5;28;01mreturn\u001b[39;00m \u001b[43mDataset\u001b[49m\u001b[43m(\u001b[49m\u001b[38;5;28;43mself\u001b[39;49m\u001b[43m,\u001b[49m\u001b[43m \u001b[49m\u001b[43mfields\u001b[49m\u001b[38;5;241;43m=\u001b[39;49m\u001b[38;5;28;43mself\u001b[39;49m\u001b[38;5;241;43m.\u001b[39;49m\u001b[43mroot\u001b[49m\u001b[43m(\u001b[49m\u001b[43m)\u001b[49m\u001b[43m[\u001b[49m\u001b[38;5;124;43m'\u001b[39;49m\u001b[38;5;124;43mdatasets.fields\u001b[39;49m\u001b[38;5;124;43m'\u001b[39;49m\u001b[43m]\u001b[49m\u001b[43m)\u001b[49m\n",
      "File \u001b[0;32m~/These/src/nn-template/lib/nn_template/datasets/dataset.py:145\u001b[0m, in \u001b[0;36mDataset.__init__\u001b[0;34m(self, dataset_cfg, fields)\u001b[0m\n\u001b[1;32m    139\u001b[0m kwargs \u001b[38;5;241m=\u001b[39m \u001b[38;5;28mdict\u001b[39m(images\u001b[38;5;241m=\u001b[39mdataset_cfg\u001b[38;5;241m.\u001b[39maugment\u001b[38;5;241m.\u001b[39mimages,\n\u001b[1;32m    140\u001b[0m               labels\u001b[38;5;241m=\u001b[39mdataset_cfg\u001b[38;5;241m.\u001b[39maugment\u001b[38;5;241m.\u001b[39mlabels,\n\u001b[1;32m    141\u001b[0m               angles\u001b[38;5;241m=\u001b[39mdataset_cfg\u001b[38;5;241m.\u001b[39maugment\u001b[38;5;241m.\u001b[39mangles,\n\u001b[1;32m    142\u001b[0m               vectors\u001b[38;5;241m=\u001b[39mdataset_cfg\u001b[38;5;241m.\u001b[39maugment\u001b[38;5;241m.\u001b[39mvectors,\n\u001b[1;32m    143\u001b[0m               to_torch\u001b[38;5;241m=\u001b[39m\u001b[38;5;28;01mTrue\u001b[39;00m, transpose_input\u001b[38;5;241m=\u001b[39m\u001b[38;5;28;01mFalse\u001b[39;00m)\n\u001b[1;32m    144\u001b[0m \u001b[38;5;28;01mif\u001b[39;00m \u001b[38;5;28mself\u001b[39m\u001b[38;5;241m.\u001b[39mdataset_cfg\u001b[38;5;241m.\u001b[39maugment \u001b[38;5;129;01mis\u001b[39;00m \u001b[38;5;129;01mnot\u001b[39;00m \u001b[38;5;28;01mNone\u001b[39;00m:\n\u001b[0;32m--> 145\u001b[0m     \u001b[38;5;28mself\u001b[39m\u001b[38;5;241m.\u001b[39m_augment \u001b[38;5;241m=\u001b[39m \u001b[38;5;28;43mself\u001b[39;49m\u001b[38;5;241;43m.\u001b[39;49m\u001b[43mdataset_cfg\u001b[49m\u001b[38;5;241;43m.\u001b[39;49m\u001b[43maugment\u001b[49m\u001b[38;5;241;43m.\u001b[39;49m\u001b[43maugmentation\u001b[49m\u001b[38;5;241;43m.\u001b[39;49m\u001b[43mdata_augment\u001b[49m\u001b[38;5;241;43m.\u001b[39;49m\u001b[43mcompile\u001b[49m\u001b[43m(\u001b[49m\u001b[38;5;241;43m*\u001b[39;49m\u001b[38;5;241;43m*\u001b[39;49m\u001b[43mkwargs\u001b[49m\u001b[43m)\u001b[49m\n\u001b[1;32m    146\u001b[0m \u001b[38;5;28;01melse\u001b[39;00m:\n\u001b[1;32m    147\u001b[0m     \u001b[38;5;28mself\u001b[39m\u001b[38;5;241m.\u001b[39m_augment \u001b[38;5;241m=\u001b[39m DataAugment()\u001b[38;5;241m.\u001b[39mcompile(\u001b[38;5;241m*\u001b[39m\u001b[38;5;241m*\u001b[39mkwargs)\n",
      "File \u001b[0;32m~/These/src/nn-template/lib/nn_template/data_augmentation/data_augment.py:160\u001b[0m, in \u001b[0;36mDataAugment.compile\u001b[0;34m(self, images, labels, angles, vectors, to_torch, transpose_input, rng)\u001b[0m\n\u001b[1;32m    158\u001b[0m rng_states_def \u001b[38;5;241m=\u001b[39m []\n\u001b[1;32m    159\u001b[0m \u001b[38;5;28;01mif\u001b[39;00m images:\n\u001b[0;32m--> 160\u001b[0m     images_f \u001b[38;5;241m=\u001b[39m \u001b[38;5;28;43mself\u001b[39;49m\u001b[38;5;241;43m.\u001b[39;49m\u001b[43mcompile_stack\u001b[49m\u001b[43m(\u001b[49m\u001b[43mrng_states\u001b[49m\u001b[38;5;241;43m=\u001b[39;49m\u001b[43mrng_states_def\u001b[49m\u001b[43m)\u001b[49m\n\u001b[1;32m    161\u001b[0m \u001b[38;5;28;01mif\u001b[39;00m labels:\n\u001b[1;32m    162\u001b[0m     labels_f \u001b[38;5;241m=\u001b[39m \u001b[38;5;28mself\u001b[39m\u001b[38;5;241m.\u001b[39mcompile_stack(rng_states\u001b[38;5;241m=\u001b[39mrng_states_def,\n\u001b[1;32m    163\u001b[0m                                   interpolation\u001b[38;5;241m=\u001b[39mcv2\u001b[38;5;241m.\u001b[39mINTER_NEAREST, except_type\u001b[38;5;241m=\u001b[39m{\u001b[38;5;124m'\u001b[39m\u001b[38;5;124mcolor\u001b[39m\u001b[38;5;124m'\u001b[39m})\n",
      "File \u001b[0;32m~/These/src/nn-template/lib/nn_template/data_augmentation/data_augment.py:238\u001b[0m, in \u001b[0;36mDataAugment.compile_stack\u001b[0;34m(self, rng_states, only_type, except_type, **kwargs)\u001b[0m\n\u001b[1;32m    236\u001b[0m params \u001b[38;5;241m=\u001b[39m bind_args_partial(f, kwargs\u001b[38;5;241m=\u001b[39mkwargs)\n\u001b[1;32m    237\u001b[0m f_params\u001b[38;5;241m.\u001b[39mupdate(params)\n\u001b[0;32m--> 238\u001b[0m f_augment, \u001b[38;5;241m*\u001b[39mrng_params \u001b[38;5;241m=\u001b[39m \u001b[43mmatch_params\u001b[49m\u001b[43m(\u001b[49m\u001b[43mf\u001b[49m\u001b[43m,\u001b[49m\u001b[43m \u001b[49m\u001b[38;5;28;43mself\u001b[39;49m\u001b[38;5;241;43m=\u001b[39;49m\u001b[38;5;28;43mself\u001b[39;49m\u001b[43m,\u001b[49m\u001b[43m \u001b[49m\u001b[38;5;241;43m*\u001b[39;49m\u001b[38;5;241;43m*\u001b[39;49m\u001b[43mparams\u001b[49m\u001b[43m)\u001b[49m\n\u001b[1;32m    240\u001b[0m \u001b[38;5;28;01mif\u001b[39;00m \u001b[38;5;28misinstance\u001b[39m(f_augment, \u001b[38;5;28mdict\u001b[39m):\n\u001b[1;32m    241\u001b[0m     f_pre \u001b[38;5;241m=\u001b[39m f_augment\u001b[38;5;241m.\u001b[39mget(\u001b[38;5;124m'\u001b[39m\u001b[38;5;124mpre\u001b[39m\u001b[38;5;124m'\u001b[39m, \u001b[38;5;28;01mNone\u001b[39;00m)\n",
      "File \u001b[0;32m~/These/src/nn-template/lib/nn_template/data_augmentation/data_augment.py:522\u001b[0m, in \u001b[0;36mmatch_params\u001b[0;34m(method, args, **kwargs)\u001b[0m\n\u001b[1;32m    520\u001b[0m             i_args \u001b[38;5;241m+\u001b[39m\u001b[38;5;241m=\u001b[39m \u001b[38;5;241m1\u001b[39m\n\u001b[1;32m    521\u001b[0m         \u001b[38;5;28;01melse\u001b[39;00m:\n\u001b[0;32m--> 522\u001b[0m             \u001b[38;5;28;01mraise\u001b[39;00m \u001b[38;5;167;01mValueError\u001b[39;00m(\u001b[38;5;124m'\u001b[39m\u001b[38;5;132;01m%s\u001b[39;00m\u001b[38;5;124m is not optional to call method: \u001b[39m\u001b[38;5;132;01m%s\u001b[39;00m\u001b[38;5;124m.\u001b[39m\u001b[38;5;124m'\u001b[39m \u001b[38;5;241m%\u001b[39m (not_opt, method))\n\u001b[1;32m    524\u001b[0m \u001b[38;5;28;01mreturn\u001b[39;00m method(\u001b[38;5;241m*\u001b[39m\u001b[38;5;241m*\u001b[39mmethod_params)\n",
      "\u001b[0;31mValueError\u001b[0m: shape is not optional to call method: <function DataAugment.crop at 0x7f37e4866e60>."
     ]
    }
   ],
   "source": [
    "cfg['datasets'].train.dataset()"
   ]
  }
 ],
 "metadata": {
  "kernelspec": {
   "display_name": "Python 3 (ipykernel)",
   "language": "python",
   "name": "python3"
  },
  "language_info": {
   "codemirror_mode": {
    "name": "ipython",
    "version": 3
   },
   "file_extension": ".py",
   "mimetype": "text/x-python",
   "name": "python",
   "nbconvert_exporter": "python",
   "pygments_lexer": "ipython3",
   "version": "3.10.0"
  }
 },
 "nbformat": 4,
 "nbformat_minor": 5
}
