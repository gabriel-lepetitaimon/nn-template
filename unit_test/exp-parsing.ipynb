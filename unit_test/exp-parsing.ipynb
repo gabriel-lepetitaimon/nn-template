{
 "cells": [
  {
   "cell_type": "markdown",
   "id": "ultimate-shoot",
   "metadata": {},
   "source": [
    "<h1 style='text-align: center;'>\n",
    "    Experiment Cfg Parsing\n",
    "</h1>\n",
    "<h3 style='opacity: 0.8; text-align: center;'> Enhanced syntax for yaml configuration files </h3>"
   ]
  },
  {
   "cell_type": "markdown",
   "id": "appointed-jungle",
   "metadata": {},
   "source": [
    "#### import"
   ]
  },
  {
   "cell_type": "code",
   "execution_count": 1,
   "id": "decent-causing",
   "metadata": {},
   "outputs": [],
   "source": [
    "%load_ext autoreload\n",
    "%autoreload 2"
   ]
  },
  {
   "cell_type": "code",
   "execution_count": 2,
   "id": "lined-compression",
   "metadata": {},
   "outputs": [],
   "source": [
    "from sources import Cfg\n",
    "import nn_template.data_augmentation\n",
    "import nn_template.model\n",
    "import nn_template.datasets\n",
    "import nn_template.training\n",
    "import nn_template.task.segmentation2D\n",
    "from nn_template.model import SMPModel\n",
    "import nn_template.hyperparameters_tuning.optuna"
   ]
  },
  {
   "cell_type": "code",
   "execution_count": null,
   "id": "f0be3f57-a2aa-475f-a138-3d44f9dc3cb3",
   "metadata": {},
   "outputs": [],
   "source": []
  },
  {
   "cell_type": "markdown",
   "id": "expensive-college",
   "metadata": {},
   "source": [
    "## Parse"
   ]
  },
  {
   "cell_type": "code",
   "execution_count": 3,
   "id": "loaded-numbers",
   "metadata": {},
   "outputs": [],
   "source": [
    "cfg = Cfg.Parser('yaml-demos/demo.yaml').get_config()"
   ]
  },
  {
   "cell_type": "code",
   "execution_count": 4,
   "id": "steady-plant",
   "metadata": {},
   "outputs": [
    {
     "data": {
      "text/plain": [
       "segmentation_models_pytorch.decoders.unet.model.Unet"
      ]
     },
     "execution_count": 4,
     "metadata": {},
     "output_type": "execute_result"
    }
   ],
   "source": [
    "cfg['model'].architecture"
   ]
  },
  {
   "cell_type": "code",
   "execution_count": 5,
   "id": "analyzed-stock",
   "metadata": {
    "collapsed": false,
    "jupyter": {
     "outputs_hidden": false
    }
   },
   "outputs": [
    {
     "data": {
      "text/plain": [
       "<nn_template.data_augmentation.data_augment.DataAugment at 0x7f6d0766e4a0>"
      ]
     },
     "execution_count": 5,
     "metadata": {},
     "output_type": "execute_result"
    }
   ],
   "source": [
    "cfg['datasets.train.augment'].augmentation.data_augment"
   ]
  },
  {
   "cell_type": "code",
   "execution_count": 6,
   "id": "e8749841-5f0f-44af-975d-e99f6c3380aa",
   "metadata": {},
   "outputs": [
    {
     "data": {
      "text/markdown": [
       "**DRIVE-train-val** _DataSource_:\n",
       "\n",
       "- dir_prefix: /home/gaby/These/Data/Fundus/Vessels/DRIVE/train/\n",
       "- data: CfgDict[data]:\n",
       "raw:\n",
       "  type: Image\n",
       "  directory: 0-images\n",
       "  path: '{ID:n}_training.png'\n",
       "gt:\n",
       "  type: Label2D\n",
       "  directory: 2-label_AV\n",
       "  labelize:\n",
       "    '1': r + g > 125\n",
       "    '2': b > 125\n",
       "  path: '{ID:n}_training.png'\n",
       "mask:\n",
       "  type: Mask2D\n",
       "  path: mask.png\n"
      ],
      "text/plain": [
       "{'dir-prefix': '/home/gaby/These/Data/Fundus/Vessels/DRIVE/train/',\n",
       " 'data': {'raw': {'type': 'Image',\n",
       "   'directory': '0-images',\n",
       "   'path': '{ID:n}_training.png'},\n",
       "  'gt': {'type': 'Label2D',\n",
       "   'directory': '2-label_AV',\n",
       "   'labelize': {'1': 'r + g > 125', '2': 'b > 125'},\n",
       "   'path': '{ID:n}_training.png'},\n",
       "  'mask': {'type': 'Mask2D', 'path': 'mask.png'}}}"
      ]
     },
     "execution_count": 6,
     "metadata": {},
     "output_type": "execute_result"
    }
   ],
   "source": [
    "source = list(cfg['datasets.train'].source)[0].source\n",
    "source"
   ]
  },
  {
   "cell_type": "code",
   "execution_count": 7,
   "id": "262aeec6-dcc6-442c-a667-cb8ff9e33447",
   "metadata": {},
   "outputs": [
    {
     "data": {
      "text/plain": [
       "(0, 0)"
      ]
     },
     "execution_count": 7,
     "metadata": {},
     "output_type": "execute_result"
    }
   ],
   "source": [
    "cfg['data-augmentation.default'].random_crop.padding"
   ]
  },
  {
   "cell_type": "code",
   "execution_count": 8,
   "id": "ee7cc595-1095-425e-af0a-6a5a92e5a56a",
   "metadata": {},
   "outputs": [
    {
     "ename": "IndexError",
     "evalue": "list index out of range",
     "output_type": "error",
     "traceback": [
      "\u001b[0;31m---------------------------------------------------------------------------\u001b[0m",
      "\u001b[0;31mIndexError\u001b[0m                                Traceback (most recent call last)",
      "Cell \u001b[0;32mIn [8], line 1\u001b[0m\n\u001b[0;32m----> 1\u001b[0m \u001b[43mcfg\u001b[49m\u001b[43m[\u001b[49m\u001b[38;5;124;43m'\u001b[39;49m\u001b[38;5;124;43mdatasets.train\u001b[39;49m\u001b[38;5;124;43m'\u001b[39;49m\u001b[43m]\u001b[49m\u001b[38;5;241;43m.\u001b[39;49m\u001b[43mdataset\u001b[49m\u001b[43m(\u001b[49m\u001b[43m)\u001b[49m[\u001b[38;5;241m0\u001b[39m][\u001b[38;5;124m'\u001b[39m\u001b[38;5;124mx\u001b[39m\u001b[38;5;124m'\u001b[39m]\n",
      "File \u001b[0;32m~/These/src/nn-template/lib/nn_template/datasets/dataset.py:121\u001b[0m, in \u001b[0;36mDatasetCfg.dataset\u001b[0;34m(self)\u001b[0m\n\u001b[1;32m    120\u001b[0m \u001b[38;5;28;01mdef\u001b[39;00m \u001b[38;5;21mdataset\u001b[39m(\u001b[38;5;28mself\u001b[39m):\n\u001b[0;32m--> 121\u001b[0m     \u001b[38;5;28;01mreturn\u001b[39;00m \u001b[43mDataset\u001b[49m\u001b[43m(\u001b[49m\u001b[38;5;28;43mself\u001b[39;49m\u001b[43m,\u001b[49m\u001b[43m \u001b[49m\u001b[43mfields\u001b[49m\u001b[38;5;241;43m=\u001b[39;49m\u001b[38;5;28;43mself\u001b[39;49m\u001b[38;5;241;43m.\u001b[39;49m\u001b[43mroot\u001b[49m\u001b[43m(\u001b[49m\u001b[43m)\u001b[49m\u001b[43m[\u001b[49m\u001b[38;5;124;43m'\u001b[39;49m\u001b[38;5;124;43mdatasets.fields\u001b[39;49m\u001b[38;5;124;43m'\u001b[39;49m\u001b[43m]\u001b[49m\u001b[43m)\u001b[49m\n",
      "File \u001b[0;32m~/These/src/nn-template/lib/nn_template/datasets/dataset.py:181\u001b[0m, in \u001b[0;36mDataset.__init__\u001b[0;34m(self, dataset_cfg, fields)\u001b[0m\n\u001b[1;32m    178\u001b[0m \u001b[38;5;28mself\u001b[39m\u001b[38;5;241m.\u001b[39mdataset_cfg \u001b[38;5;241m=\u001b[39m dataset_cfg\n\u001b[1;32m    179\u001b[0m \u001b[38;5;28mself\u001b[39m\u001b[38;5;241m.\u001b[39mfields \u001b[38;5;241m=\u001b[39m fields\n\u001b[0;32m--> 181\u001b[0m \u001b[38;5;28mself\u001b[39m\u001b[38;5;241m.\u001b[39m_idxs \u001b[38;5;241m=\u001b[39m \u001b[38;5;28;43mself\u001b[39;49m\u001b[38;5;241;43m.\u001b[39;49m\u001b[43mdataset_cfg\u001b[49m\u001b[38;5;241;43m.\u001b[39;49m\u001b[43mget_indexes\u001b[49m\u001b[43m(\u001b[49m\u001b[43m)\u001b[49m\n\u001b[1;32m    182\u001b[0m \u001b[38;5;28mself\u001b[39m\u001b[38;5;241m.\u001b[39m_srcs \u001b[38;5;241m=\u001b[39m [_\u001b[38;5;241m.\u001b[39msource \u001b[38;5;28;01mfor\u001b[39;00m _ \u001b[38;5;129;01min\u001b[39;00m \u001b[38;5;28mself\u001b[39m\u001b[38;5;241m.\u001b[39mdataset_cfg\u001b[38;5;241m.\u001b[39msource\u001b[38;5;241m.\u001b[39mlist()]\n\u001b[1;32m    184\u001b[0m kwargs \u001b[38;5;241m=\u001b[39m \u001b[38;5;28mdict\u001b[39m(images\u001b[38;5;241m=\u001b[39mfields\u001b[38;5;241m.\u001b[39mimages_keys,\n\u001b[1;32m    185\u001b[0m               labels\u001b[38;5;241m=\u001b[39mfields\u001b[38;5;241m.\u001b[39mlabels_keys,\n\u001b[1;32m    186\u001b[0m               angles\u001b[38;5;241m=\u001b[39mfields\u001b[38;5;241m.\u001b[39mangles_keys,\n\u001b[1;32m    187\u001b[0m               vectors\u001b[38;5;241m=\u001b[39mfields\u001b[38;5;241m.\u001b[39mvectors_keys,\n\u001b[1;32m    188\u001b[0m               to_torch\u001b[38;5;241m=\u001b[39m\u001b[38;5;28;01mTrue\u001b[39;00m, transpose_input\u001b[38;5;241m=\u001b[39m\u001b[38;5;28;01mFalse\u001b[39;00m)\n",
      "File \u001b[0;32m~/These/src/nn-template/lib/nn_template/datasets/dataset.py:110\u001b[0m, in \u001b[0;36mDatasetCfg.get_indexes\u001b[0;34m(self)\u001b[0m\n\u001b[1;32m    108\u001b[0m \u001b[38;5;28;01mfor\u001b[39;00m sourceRef \u001b[38;5;129;01min\u001b[39;00m \u001b[38;5;28mself\u001b[39m\u001b[38;5;241m.\u001b[39msource:\n\u001b[1;32m    109\u001b[0m     source: DataSource \u001b[38;5;241m=\u001b[39m sourceRef\u001b[38;5;241m.\u001b[39msource\n\u001b[0;32m--> 110\u001b[0m     src_len \u001b[38;5;241m=\u001b[39m \u001b[38;5;28mlen\u001b[39m(\u001b[43msource\u001b[49m\u001b[38;5;241;43m.\u001b[39;49m\u001b[43mindexes\u001b[49m)\n\u001b[1;32m    111\u001b[0m     interval \u001b[38;5;241m=\u001b[39m sourceRef\u001b[38;5;241m.\u001b[39minterpret_range(src_len)\n\u001b[1;32m    112\u001b[0m     idx \u001b[38;5;241m=\u001b[39m np\u001b[38;5;241m.\u001b[39marange(interval\u001b[38;5;241m.\u001b[39mstart, interval\u001b[38;5;241m.\u001b[39mstop, interval\u001b[38;5;241m.\u001b[39mstep, dtype\u001b[38;5;241m=\u001b[39mnp\u001b[38;5;241m.\u001b[39muint32)\n",
      "File \u001b[0;32m~/These/src/nn-template/lib/nn_template/datasets/dataset.py:34\u001b[0m, in \u001b[0;36mDataSource.indexes\u001b[0;34m(self)\u001b[0m\n\u001b[1;32m     32\u001b[0m idx \u001b[38;5;241m=\u001b[39m \u001b[38;5;28mgetattr\u001b[39m(\u001b[38;5;28mself\u001b[39m, \u001b[38;5;124m'\u001b[39m\u001b[38;5;124m_indexes\u001b[39m\u001b[38;5;124m'\u001b[39m, \u001b[38;5;28;01mNone\u001b[39;00m)\n\u001b[1;32m     33\u001b[0m \u001b[38;5;28;01mif\u001b[39;00m idx \u001b[38;5;129;01mis\u001b[39;00m \u001b[38;5;28;01mNone\u001b[39;00m:\n\u001b[0;32m---> 34\u001b[0m     idx \u001b[38;5;241m=\u001b[39m \u001b[38;5;28;43mself\u001b[39;49m\u001b[38;5;241;43m.\u001b[39;49m\u001b[43mfetch_indexes\u001b[49m\u001b[43m(\u001b[49m\u001b[43m)\u001b[49m\n\u001b[1;32m     35\u001b[0m     \u001b[38;5;28mself\u001b[39m\u001b[38;5;241m.\u001b[39m_indexes \u001b[38;5;241m=\u001b[39m idx\n\u001b[1;32m     36\u001b[0m \u001b[38;5;28;01mreturn\u001b[39;00m idx\n",
      "File \u001b[0;32m~/These/src/nn-template/lib/nn_template/datasets/dataset.py:43\u001b[0m, in \u001b[0;36mDataSource.fetch_indexes\u001b[0;34m(self)\u001b[0m\n\u001b[1;32m     42\u001b[0m \u001b[38;5;28;01mdef\u001b[39;00m \u001b[38;5;21mfetch_indexes\u001b[39m(\u001b[38;5;28mself\u001b[39m):\n\u001b[0;32m---> 43\u001b[0m     indexes \u001b[38;5;241m=\u001b[39m {name: src\u001b[38;5;241m.\u001b[39mfetch_indexes() \u001b[38;5;28;01mfor\u001b[39;00m name, src \u001b[38;5;129;01min\u001b[39;00m \u001b[38;5;28mself\u001b[39m\u001b[38;5;241m.\u001b[39mdata\u001b[38;5;241m.\u001b[39mitems()}\n\u001b[1;32m     44\u001b[0m     \u001b[38;5;28;01mif\u001b[39;00m \u001b[38;5;28mlen\u001b[39m(indexes) \u001b[38;5;241m==\u001b[39m \u001b[38;5;241m1\u001b[39m:\n\u001b[1;32m     45\u001b[0m         \u001b[38;5;28;01mreturn\u001b[39;00m pd\u001b[38;5;241m.\u001b[39mDataFrame(indexes)\n",
      "File \u001b[0;32m~/These/src/nn-template/lib/nn_template/datasets/dataset.py:43\u001b[0m, in \u001b[0;36m<dictcomp>\u001b[0;34m(.0)\u001b[0m\n\u001b[1;32m     42\u001b[0m \u001b[38;5;28;01mdef\u001b[39;00m \u001b[38;5;21mfetch_indexes\u001b[39m(\u001b[38;5;28mself\u001b[39m):\n\u001b[0;32m---> 43\u001b[0m     indexes \u001b[38;5;241m=\u001b[39m {name: \u001b[43msrc\u001b[49m\u001b[38;5;241;43m.\u001b[39;49m\u001b[43mfetch_indexes\u001b[49m\u001b[43m(\u001b[49m\u001b[43m)\u001b[49m \u001b[38;5;28;01mfor\u001b[39;00m name, src \u001b[38;5;129;01min\u001b[39;00m \u001b[38;5;28mself\u001b[39m\u001b[38;5;241m.\u001b[39mdata\u001b[38;5;241m.\u001b[39mitems()}\n\u001b[1;32m     44\u001b[0m     \u001b[38;5;28;01mif\u001b[39;00m \u001b[38;5;28mlen\u001b[39m(indexes) \u001b[38;5;241m==\u001b[39m \u001b[38;5;241m1\u001b[39m:\n\u001b[1;32m     45\u001b[0m         \u001b[38;5;28;01mreturn\u001b[39;00m pd\u001b[38;5;241m.\u001b[39mDataFrame(indexes)\n",
      "File \u001b[0;32m~/These/src/nn-template/lib/nn_template/datasets/data_sources.py:58\u001b[0m, in \u001b[0;36mFilesPathLoader.fetch_indexes\u001b[0;34m(self)\u001b[0m\n\u001b[1;32m     56\u001b[0m \u001b[38;5;28;01mdef\u001b[39;00m \u001b[38;5;21mfetch_indexes\u001b[39m(\u001b[38;5;28mself\u001b[39m):\n\u001b[1;32m     57\u001b[0m     \u001b[38;5;28;01mfrom\u001b[39;00m \u001b[38;5;21;01m.\u001b[39;00m\u001b[38;5;21;01mpath_utils\u001b[39;00m \u001b[38;5;28;01mimport\u001b[39;00m PathTemplate\n\u001b[0;32m---> 58\u001b[0m     \u001b[38;5;28;01mreturn\u001b[39;00m \u001b[43mPathTemplate\u001b[49m\u001b[43m(\u001b[49m\u001b[38;5;28;43mself\u001b[39;49m\u001b[38;5;241;43m.\u001b[39;49m\u001b[43mpath\u001b[49m\u001b[43m,\u001b[49m\u001b[43m \u001b[49m\u001b[43mformat_output\u001b[49m\u001b[38;5;241;43m=\u001b[39;49m\u001b[38;5;124;43m'\u001b[39;49m\u001b[38;5;124;43mpandas\u001b[39;49m\u001b[38;5;124;43m'\u001b[39;49m\u001b[43m)\u001b[49m\u001b[43m \u001b[49m\u001b[43m\\\u001b[49m\n\u001b[1;32m     59\u001b[0m \u001b[43m        \u001b[49m\u001b[38;5;241;43m.\u001b[39;49m\u001b[43mparse_dir\u001b[49m\u001b[43m(\u001b[49m\u001b[38;5;28;43mself\u001b[39;49m\u001b[38;5;241;43m.\u001b[39;49m\u001b[43mdir\u001b[49m\u001b[43m,\u001b[49m\u001b[43m \u001b[49m\u001b[43mrecursive\u001b[49m\u001b[38;5;241;43m=\u001b[39;49m\u001b[38;5;28;43mself\u001b[39;49m\u001b[38;5;241;43m.\u001b[39;49m\u001b[43msearch_recursive\u001b[49m\u001b[43m)\u001b[49m\n",
      "File \u001b[0;32m~/These/src/nn-template/lib/nn_template/datasets/path_utils.py:138\u001b[0m, in \u001b[0;36mPathTemplate.parse_dir\u001b[0;34m(self, dir, mode, recursive)\u001b[0m\n\u001b[1;32m    135\u001b[0m     \u001b[38;5;28;01mcase\u001b[39;00m \u001b[38;5;28;01m_\u001b[39;00m: path \u001b[38;5;241m=\u001b[39m f\n\u001b[1;32m    137\u001b[0m \u001b[38;5;28;01mtry\u001b[39;00m:\n\u001b[0;32m--> 138\u001b[0m     var \u001b[38;5;241m=\u001b[39m \u001b[38;5;28;43mself\u001b[39;49m\u001b[38;5;241;43m.\u001b[39;49m\u001b[43mparse_filename\u001b[49m\u001b[43m(\u001b[49m\u001b[43mpath\u001b[49m\u001b[43m)\u001b[49m\n\u001b[1;32m    139\u001b[0m \u001b[38;5;28;01mexcept\u001b[39;00m \u001b[38;5;167;01mValueError\u001b[39;00m:\n\u001b[1;32m    140\u001b[0m     \u001b[38;5;28;01mcontinue\u001b[39;00m\n",
      "File \u001b[0;32m~/These/src/nn-template/lib/nn_template/datasets/path_utils.py:80\u001b[0m, in \u001b[0;36mPathTemplate.parse_filename\u001b[0;34m(self, path)\u001b[0m\n\u001b[1;32m     77\u001b[0m     temp \u001b[38;5;241m=\u001b[39m template\u001b[38;5;241m.\u001b[39mpop(\u001b[38;5;241m0\u001b[39m)\n\u001b[1;32m     78\u001b[0m     path \u001b[38;5;241m=\u001b[39m path[\u001b[38;5;28mlen\u001b[39m(temp):]\n\u001b[0;32m---> 80\u001b[0m \u001b[38;5;28;01mif\u001b[39;00m \u001b[38;5;28misinstance\u001b[39m(\u001b[43mtemplate\u001b[49m\u001b[43m[\u001b[49m\u001b[38;5;241;43m-\u001b[39;49m\u001b[38;5;241;43m1\u001b[39;49m\u001b[43m]\u001b[49m, PathToken):\n\u001b[1;32m     81\u001b[0m     \u001b[38;5;28;01mif\u001b[39;00m \u001b[38;5;129;01mnot\u001b[39;00m path\u001b[38;5;241m.\u001b[39mendswith(template[\u001b[38;5;241m-\u001b[39m\u001b[38;5;241m1\u001b[39m]):\n\u001b[1;32m     82\u001b[0m         \u001b[38;5;28;01mraise\u001b[39;00m error\n",
      "\u001b[0;31mIndexError\u001b[0m: list index out of range"
     ]
    }
   ],
   "source": [
    "cfg['datasets.train'].dataset()[0]['x']"
   ]
  },
  {
   "cell_type": "code",
   "execution_count": null,
   "id": "26fb5d7f-b475-43f5-bb03-7e56f9ae20fc",
   "metadata": {},
   "outputs": [],
   "source": [
    "cfg['task.optimizer.lr']"
   ]
  },
  {
   "cell_type": "code",
   "execution_count": null,
   "id": "e38ec40d-969c-4009-851c-4b2ff8a6f66c",
   "metadata": {},
   "outputs": [],
   "source": [
    "cfg['optuna'].engine.apply_suggestion()"
   ]
  },
  {
   "cell_type": "code",
   "execution_count": null,
   "id": "d59b78a3-e800-4dc9-a9af-7cf76b6058d9",
   "metadata": {},
   "outputs": [],
   "source": [
    "cfg['optuna'].engine.hyper_parameters['task.optimizer.lr'].suggested_value"
   ]
  },
  {
   "cell_type": "code",
   "execution_count": null,
   "id": "dd804d80-4be3-449b-bd0c-a7cd6b942869",
   "metadata": {},
   "outputs": [],
   "source": [
    "optuna = cfg['optuna'].ask()"
   ]
  },
  {
   "cell_type": "code",
   "execution_count": null,
   "id": "fa1b6a17-ce42-4000-b89b-e3d30e34bcc4",
   "metadata": {},
   "outputs": [],
   "source": [
    "cfg['optuna'].trial"
   ]
  },
  {
   "cell_type": "code",
   "execution_count": null,
   "id": "b97e043f-5a74-4536-b735-18d60db2592a",
   "metadata": {},
   "outputs": [],
   "source": [
    "cfg['optuna'].trial.number"
   ]
  },
  {
   "cell_type": "code",
   "execution_count": null,
   "id": "3c50075f-5e34-4193-bd9f-688f049e3f13",
   "metadata": {},
   "outputs": [],
   "source": [
    "cfg.root().get('task.metrics')"
   ]
  },
  {
   "cell_type": "code",
   "execution_count": null,
   "id": "2f652782-66f3-43b0-9a3f-8ee2a3166a3a",
   "metadata": {},
   "outputs": [],
   "source": []
  }
 ],
 "metadata": {
  "kernelspec": {
   "display_name": "Python 3 (ipykernel)",
   "language": "python",
   "name": "python3"
  },
  "language_info": {
   "codemirror_mode": {
    "name": "ipython",
    "version": 3
   },
   "file_extension": ".py",
   "mimetype": "text/x-python",
   "name": "python",
   "nbconvert_exporter": "python",
   "pygments_lexer": "ipython3",
   "version": "3.10.6"
  },
  "varInspector": {
   "cols": {
    "lenName": 16,
    "lenType": 16,
    "lenVar": 40
   },
   "kernels_config": {
    "python": {
     "delete_cmd_postfix": "",
     "delete_cmd_prefix": "del ",
     "library": "var_list.py",
     "varRefreshCmd": "print(var_dic_list())"
    },
    "r": {
     "delete_cmd_postfix": ") ",
     "delete_cmd_prefix": "rm(",
     "library": "var_list.r",
     "varRefreshCmd": "cat(var_dic_list()) "
    }
   },
   "types_to_exclude": [
    "module",
    "function",
    "builtin_function_or_method",
    "instance",
    "_Feature"
   ],
   "window_display": false
  }
 },
 "nbformat": 4,
 "nbformat_minor": 5
}
