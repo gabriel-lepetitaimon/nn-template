{
 "cells": [
  {
   "cell_type": "markdown",
   "id": "ultimate-shoot",
   "metadata": {},
   "source": [
    "<h1 style='text-align: center;'>\n",
    "    Experiment Cfg Parsing\n",
    "</h1>\n",
    "<h3 style='opacity: 0.8; text-align: center;'> Enhanced syntax for yaml configuration files </h3>"
   ]
  },
  {
   "cell_type": "markdown",
   "id": "appointed-jungle",
   "metadata": {},
   "source": [
    "#### import"
   ]
  },
  {
   "cell_type": "code",
   "execution_count": 1,
   "id": "decent-causing",
   "metadata": {},
   "outputs": [],
   "source": [
    "%load_ext autoreload\n",
    "%autoreload 2"
   ]
  },
  {
   "cell_type": "code",
   "execution_count": 2,
   "id": "lined-compression",
   "metadata": {},
   "outputs": [],
   "source": [
    "from sources import Cfg\n",
    "import nn_template.data_augmentation\n",
    "import nn_template.model\n",
    "import nn_template.datasets\n",
    "import nn_template.training\n",
    "import nn_template.task.segmentation2D\n",
    "from nn_template.model import SMPModel\n",
    "import nn_template.hyperparameters_tuning.optuna"
   ]
  },
  {
   "cell_type": "code",
   "execution_count": null,
   "id": "f0be3f57-a2aa-475f-a138-3d44f9dc3cb3",
   "metadata": {},
   "outputs": [],
   "source": []
  },
  {
   "cell_type": "markdown",
   "id": "expensive-college",
   "metadata": {},
   "source": [
    "## Parse"
   ]
  },
  {
   "cell_type": "code",
   "execution_count": 3,
   "id": "loaded-numbers",
   "metadata": {},
   "outputs": [],
   "source": [
    "cfg = Cfg.Parser('yaml-demos/demo.yaml').get_config()"
   ]
  },
  {
   "cell_type": "code",
   "execution_count": 4,
   "id": "steady-plant",
   "metadata": {},
   "outputs": [
    {
     "data": {
      "text/plain": [
       "segmentation_models_pytorch.decoders.unet.model.Unet"
      ]
     },
     "execution_count": 4,
     "metadata": {},
     "output_type": "execute_result"
    }
   ],
   "source": [
    "cfg['model'].architecture"
   ]
  },
  {
   "cell_type": "code",
   "execution_count": 5,
   "id": "analyzed-stock",
   "metadata": {
    "collapsed": false,
    "jupyter": {
     "outputs_hidden": false
    }
   },
   "outputs": [
    {
     "data": {
      "text/plain": [
       "<nn_template.data_augmentation.data_augment.DataAugment at 0x7f3e527d5ba0>"
      ]
     },
     "execution_count": 5,
     "metadata": {},
     "output_type": "execute_result"
    }
   ],
   "source": [
    "cfg['datasets.train.augment'].augmentation.data_augment"
   ]
  },
  {
   "cell_type": "code",
   "execution_count": 6,
   "id": "e8749841-5f0f-44af-975d-e99f6c3380aa",
   "metadata": {},
   "outputs": [
    {
     "data": {
      "text/markdown": [
       "**DRIVE-train-val** _DataSource_:\n",
       "\n",
       "- dir_prefix: /home/gaby/These/Data/Fundus/Vessels/DRIVE/train/\n",
       "- data: CfgDict[data]:\n",
       "raw:\n",
       "  type: ColorMap\n",
       "  directory: 0-images\n",
       "  path: '{ID:n}_training.png'\n",
       "gt:\n",
       "  type: LabelMap\n",
       "  directory: 2-label_AV\n",
       "  labelize:\n",
       "    '1': r + g > 125\n",
       "    '2': b > 125\n",
       "  path: '{ID:n}_training.png'\n"
      ],
      "text/plain": [
       "{'dir-prefix': '/home/gaby/These/Data/Fundus/Vessels/DRIVE/train/',\n",
       " 'data': {'raw': {'type': 'ColorMap',\n",
       "   'directory': '0-images',\n",
       "   'path': '{ID:n}_training.png'},\n",
       "  'gt': {'type': 'LabelMap',\n",
       "   'directory': '2-label_AV',\n",
       "   'labelize': {'1': 'r + g > 125', '2': 'b > 125'},\n",
       "   'path': '{ID:n}_training.png'}}}"
      ]
     },
     "execution_count": 6,
     "metadata": {},
     "output_type": "execute_result"
    }
   ],
   "source": [
    "source = list(cfg['datasets.train'].source)[0].source\n",
    "source"
   ]
  },
  {
   "cell_type": "code",
   "execution_count": 7,
   "id": "262aeec6-dcc6-442c-a667-cb8ff9e33447",
   "metadata": {},
   "outputs": [
    {
     "data": {
      "text/plain": [
       "(0, 0)"
      ]
     },
     "execution_count": 7,
     "metadata": {},
     "output_type": "execute_result"
    }
   ],
   "source": [
    "cfg['data-augmentation.default'].random_crop.padding"
   ]
  },
  {
   "cell_type": "code",
   "execution_count": 8,
   "id": "ee7cc595-1095-425e-af0a-6a5a92e5a56a",
   "metadata": {},
   "outputs": [
    {
     "data": {
      "text/plain": [
       "tensor([[[0.5875, 0.5809, 0.5673,  ..., 0.5844, 0.5879, 0.5912],\n",
       "         [0.5846, 0.5817, 0.5697,  ..., 0.5807, 0.5837, 0.5872],\n",
       "         [0.5810, 0.5793, 0.5713,  ..., 0.5774, 0.5818, 0.5864],\n",
       "         ...,\n",
       "         [0.5417, 0.5472, 0.5523,  ..., 0.5810, 0.5854, 0.5903],\n",
       "         [0.5430, 0.5489, 0.5532,  ..., 0.5769, 0.5787, 0.5832],\n",
       "         [0.5455, 0.5517, 0.5560,  ..., 0.5751, 0.5743, 0.5768]],\n",
       "\n",
       "        [[0.7293, 0.7270, 0.7231,  ..., 0.7113, 0.7140, 0.7167],\n",
       "         [0.7269, 0.7257, 0.7221,  ..., 0.7082, 0.7107, 0.7132],\n",
       "         [0.7240, 0.7229, 0.7203,  ..., 0.7053, 0.7070, 0.7089],\n",
       "         ...,\n",
       "         [0.6614, 0.6658, 0.6698,  ..., 0.6926, 0.6905, 0.6887],\n",
       "         [0.6624, 0.6672, 0.6706,  ..., 0.6912, 0.6887, 0.6851],\n",
       "         [0.6645, 0.6694, 0.6728,  ..., 0.6906, 0.6881, 0.6829]],\n",
       "\n",
       "        [[0.8135, 0.8111, 0.8043,  ..., 0.7828, 0.7852, 0.7876],\n",
       "         [0.8104, 0.8109, 0.8049,  ..., 0.7801, 0.7823, 0.7846],\n",
       "         [0.8067, 0.8082, 0.8048,  ..., 0.7777, 0.7801, 0.7826],\n",
       "         ...,\n",
       "         [0.7225, 0.7264, 0.7300,  ..., 0.7475, 0.7460, 0.7444],\n",
       "         [0.7234, 0.7276, 0.7306,  ..., 0.7453, 0.7442, 0.7417],\n",
       "         [0.7252, 0.7296, 0.7326,  ..., 0.7448, 0.7428, 0.7380]]])"
      ]
     },
     "execution_count": 8,
     "metadata": {},
     "output_type": "execute_result"
    }
   ],
   "source": [
    "cfg['datasets.train'].dataset()[0]['x']"
   ]
  },
  {
   "cell_type": "code",
   "execution_count": 9,
   "id": "26fb5d7f-b475-43f5-bb03-7e56f9ae20fc",
   "metadata": {},
   "outputs": [
    {
     "data": {
      "text/plain": [
       "~optuna.float(1e-5,1e-2)"
      ]
     },
     "execution_count": 9,
     "metadata": {},
     "output_type": "execute_result"
    }
   ],
   "source": [
    "cfg['task.optimizer.lr']"
   ]
  },
  {
   "cell_type": "code",
   "execution_count": 10,
   "id": "e38ec40d-969c-4009-851c-4b2ff8a6f66c",
   "metadata": {},
   "outputs": [],
   "source": [
    "cfg['optuna'].engine.apply_suggestion()"
   ]
  },
  {
   "cell_type": "code",
   "execution_count": 11,
   "id": "d59b78a3-e800-4dc9-a9af-7cf76b6058d9",
   "metadata": {},
   "outputs": [
    {
     "data": {
      "text/plain": [
       "'__undefined__'"
      ]
     },
     "execution_count": 11,
     "metadata": {},
     "output_type": "execute_result"
    }
   ],
   "source": [
    "cfg['optuna'].engine.hyper_parameters['task.optimizer.lr'].suggested_value"
   ]
  },
  {
   "cell_type": "code",
   "execution_count": 12,
   "id": "dd804d80-4be3-449b-bd0c-a7cd6b942869",
   "metadata": {},
   "outputs": [
    {
     "name": "stderr",
     "output_type": "stream",
     "text": [
      "\u001b[32m[I 2023-02-15 14:56:33,775]\u001b[0m A new study created in memory with name: test--59c824d884c3d64e134d6e7a4dd0ef72\u001b[0m\n"
     ]
    }
   ],
   "source": [
    "optuna = cfg['optuna'].ask()"
   ]
  },
  {
   "cell_type": "code",
   "execution_count": 13,
   "id": "fa1b6a17-ce42-4000-b89b-e3d30e34bcc4",
   "metadata": {},
   "outputs": [
    {
     "data": {
      "text/plain": [
       "<optuna.trial._trial.Trial at 0x7f3e4dd90100>"
      ]
     },
     "execution_count": 13,
     "metadata": {},
     "output_type": "execute_result"
    }
   ],
   "source": [
    "cfg['optuna'].trial"
   ]
  },
  {
   "cell_type": "code",
   "execution_count": 14,
   "id": "b97e043f-5a74-4536-b735-18d60db2592a",
   "metadata": {},
   "outputs": [
    {
     "data": {
      "text/plain": [
       "0"
      ]
     },
     "execution_count": 14,
     "metadata": {},
     "output_type": "execute_result"
    }
   ],
   "source": [
    "cfg['optuna'].trial.number"
   ]
  },
  {
   "cell_type": "code",
   "execution_count": 15,
   "id": "3c50075f-5e34-4193-bd9f-688f049e3f13",
   "metadata": {},
   "outputs": [
    {
     "data": {
      "text/plain": [
       "'kappa, acc, confmat, iou, auroc'"
      ]
     },
     "execution_count": 15,
     "metadata": {},
     "output_type": "execute_result"
    }
   ],
   "source": [
    "cfg.root().get('task.metrics')"
   ]
  },
  {
   "cell_type": "code",
   "execution_count": null,
   "id": "2f652782-66f3-43b0-9a3f-8ee2a3166a3a",
   "metadata": {},
   "outputs": [],
   "source": []
  }
 ],
 "metadata": {
  "kernelspec": {
   "display_name": "Python 3 (ipykernel)",
   "language": "python",
   "name": "python3"
  },
  "language_info": {
   "codemirror_mode": {
    "name": "ipython",
    "version": 3
   },
   "file_extension": ".py",
   "mimetype": "text/x-python",
   "name": "python",
   "nbconvert_exporter": "python",
   "pygments_lexer": "ipython3",
   "version": "3.10.6"
  },
  "varInspector": {
   "cols": {
    "lenName": 16,
    "lenType": 16,
    "lenVar": 40
   },
   "kernels_config": {
    "python": {
     "delete_cmd_postfix": "",
     "delete_cmd_prefix": "del ",
     "library": "var_list.py",
     "varRefreshCmd": "print(var_dic_list())"
    },
    "r": {
     "delete_cmd_postfix": ") ",
     "delete_cmd_prefix": "rm(",
     "library": "var_list.r",
     "varRefreshCmd": "cat(var_dic_list()) "
    }
   },
   "types_to_exclude": [
    "module",
    "function",
    "builtin_function_or_method",
    "instance",
    "_Feature"
   ],
   "window_display": false
  }
 },
 "nbformat": 4,
 "nbformat_minor": 5
}
