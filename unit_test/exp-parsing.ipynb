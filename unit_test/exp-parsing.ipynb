{
 "cells": [
  {
   "cell_type": "markdown",
   "id": "ultimate-shoot",
   "metadata": {},
   "source": [
    "<h1 style='text-align: center;'>\n",
    "    Experiment Cfg Parsing\n",
    "</h1>\n",
    "<h3 style='opacity: 0.8; text-align: center;'> Enhanced syntax for yaml configuration files </h3>"
   ]
  },
  {
   "cell_type": "markdown",
   "id": "appointed-jungle",
   "metadata": {},
   "source": [
    "#### import"
   ]
  },
  {
   "cell_type": "code",
   "execution_count": 1,
   "id": "decent-causing",
   "metadata": {},
   "outputs": [],
   "source": [
    "%load_ext autoreload\n",
    "%autoreload 2"
   ]
  },
  {
   "cell_type": "code",
   "execution_count": 2,
   "id": "lined-compression",
   "metadata": {},
   "outputs": [],
   "source": [
    "from sources import Cfg\n",
    "import nn_template.data_augmentation\n",
    "import nn_template.datasets\n",
    "import nn_template.model\n",
    "\n",
    "from nn_template.model import Model"
   ]
  },
  {
   "cell_type": "markdown",
   "id": "expensive-college",
   "metadata": {},
   "source": [
    "## Parse"
   ]
  },
  {
   "cell_type": "code",
   "execution_count": 3,
   "id": "loaded-numbers",
   "metadata": {},
   "outputs": [],
   "source": [
    "cfg = Cfg.Parser('yaml-demos/demo.yaml').get_config()"
   ]
  },
  {
   "cell_type": "code",
   "execution_count": 4,
   "id": "steady-plant",
   "metadata": {},
   "outputs": [
    {
     "data": {
      "text/plain": [
       "segmentation_models_pytorch.decoders.unet.model.Unet"
      ]
     },
     "execution_count": 4,
     "metadata": {},
     "output_type": "execute_result"
    }
   ],
   "source": [
    "cfg['model'].architecture"
   ]
  },
  {
   "cell_type": "code",
   "execution_count": null,
   "id": "analyzed-stock",
   "metadata": {
    "collapsed": false,
    "jupyter": {
     "outputs_hidden": false
    }
   },
   "outputs": [],
   "source": []
  },
  {
   "cell_type": "code",
   "execution_count": 5,
   "id": "e8749841-5f0f-44af-975d-e99f6c3380aa",
   "metadata": {},
   "outputs": [
    {
     "data": {
      "text/plain": [
       "ID\n",
       "38    /home/gaby/These/Data/Fundus/DRIVE/train/2-lab...\n",
       "28    /home/gaby/These/Data/Fundus/DRIVE/train/2-lab...\n",
       "32    /home/gaby/These/Data/Fundus/DRIVE/train/2-lab...\n",
       "27    /home/gaby/These/Data/Fundus/DRIVE/train/2-lab...\n",
       "34    /home/gaby/These/Data/Fundus/DRIVE/train/2-lab...\n",
       "40    /home/gaby/These/Data/Fundus/DRIVE/train/2-lab...\n",
       "24    /home/gaby/These/Data/Fundus/DRIVE/train/2-lab...\n",
       "29    /home/gaby/These/Data/Fundus/DRIVE/train/2-lab...\n",
       "25    /home/gaby/These/Data/Fundus/DRIVE/train/2-lab...\n",
       "22    /home/gaby/These/Data/Fundus/DRIVE/train/2-lab...\n",
       "21    /home/gaby/These/Data/Fundus/DRIVE/train/2-lab...\n",
       "30    /home/gaby/These/Data/Fundus/DRIVE/train/2-lab...\n",
       "26    /home/gaby/These/Data/Fundus/DRIVE/train/2-lab...\n",
       "23    /home/gaby/These/Data/Fundus/DRIVE/train/2-lab...\n",
       "39    /home/gaby/These/Data/Fundus/DRIVE/train/2-lab...\n",
       "36    /home/gaby/These/Data/Fundus/DRIVE/train/2-lab...\n",
       "37    /home/gaby/These/Data/Fundus/DRIVE/train/2-lab...\n",
       "35    /home/gaby/These/Data/Fundus/DRIVE/train/2-lab...\n",
       "31    /home/gaby/These/Data/Fundus/DRIVE/train/2-lab...\n",
       "33    /home/gaby/These/Data/Fundus/DRIVE/train/2-lab...\n",
       "Name: fullpath, dtype: object"
      ]
     },
     "execution_count": 5,
     "metadata": {},
     "output_type": "execute_result"
    }
   ],
   "source": [
    "cfg['datasets.sources.MESSIDOR-train'].data['gt'].fetch_indexes()"
   ]
  }
 ],
 "metadata": {
  "kernelspec": {
   "display_name": "Python 3 (ipykernel)",
   "language": "python",
   "name": "python3"
  },
  "language_info": {
   "codemirror_mode": {
    "name": "ipython",
    "version": 3
   },
   "file_extension": ".py",
   "mimetype": "text/x-python",
   "name": "python",
   "nbconvert_exporter": "python",
   "pygments_lexer": "ipython3",
   "version": "3.10.0"
  },
  "varInspector": {
   "cols": {
    "lenName": 16,
    "lenType": 16,
    "lenVar": 40
   },
   "kernels_config": {
    "python": {
     "delete_cmd_postfix": "",
     "delete_cmd_prefix": "del ",
     "library": "var_list.py",
     "varRefreshCmd": "print(var_dic_list())"
    },
    "r": {
     "delete_cmd_postfix": ") ",
     "delete_cmd_prefix": "rm(",
     "library": "var_list.r",
     "varRefreshCmd": "cat(var_dic_list()) "
    }
   },
   "types_to_exclude": [
    "module",
    "function",
    "builtin_function_or_method",
    "instance",
    "_Feature"
   ],
   "window_display": false
  }
 },
 "nbformat": 4,
 "nbformat_minor": 5
}
