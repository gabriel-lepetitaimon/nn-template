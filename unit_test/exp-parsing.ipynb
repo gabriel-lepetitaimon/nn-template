{
 "cells": [
  {
   "cell_type": "markdown",
   "id": "9c436db9-59b3-441f-b712-586518e3a0a8",
   "metadata": {},
   "source": [
    "<h1 style='text-align: center;'>\n",
    "    Experiment Cfg Parsing\n",
    "</h1>\n",
    "<h3 style='opacity: 0.8; text-align: center;'> Enhanced syntax for yaml configuration files </h3>"
   ]
  },
  {
   "cell_type": "markdown",
   "id": "11727862-64d5-4ff6-af21-1cacbcf98827",
   "metadata": {},
   "source": [
    "#### import"
   ]
  },
  {
   "cell_type": "code",
   "execution_count": 1,
   "id": "704dae00-945d-40b6-8f81-150ae297d1db",
   "metadata": {},
   "outputs": [],
   "source": [
    "%load_ext autoreload\n",
    "%autoreload 2"
   ]
  },
  {
   "cell_type": "code",
   "execution_count": 2,
   "id": "60f337f6-436e-4cbe-b900-02d655b752ff",
   "metadata": {},
   "outputs": [],
   "source": [
    "from sources import Cfg\n",
    "import nn_template.data_augmentation\n",
    "import nn_template.model"
   ]
  },
  {
   "cell_type": "markdown",
   "id": "b41425cd-81c7-411e-9a47-b7db49bd8702",
   "metadata": {},
   "source": [
    "## Parse"
   ]
  },
  {
   "cell_type": "code",
   "execution_count": 3,
   "id": "29211358-c14d-4b5f-9864-f15977aae22d",
   "metadata": {},
   "outputs": [],
   "source": [
    "cfg = Cfg.Parser('yaml-demos/demo.yaml').get_config()"
   ]
  },
  {
   "cell_type": "code",
   "execution_count": 6,
   "id": "f659a14d-63ff-4c16-857d-afac0067a5fc",
   "metadata": {},
   "outputs": [
    {
     "name": "stdout",
     "output_type": "stream",
     "text": [
      "fields:\n",
      "  x: raw\n",
      "  y: '{{y}} > 1'\n",
      "  mask: '{{y}} > 0'\n",
      "train:\n",
      "  MESSIDOR_train:\n",
      "    augment: default\n",
      "    augment-factor: 2\n",
      "validate:\n",
      "- MESSIDOR_val\n",
      "test:\n",
      "- MESSIDOR_test\n",
      "sources:\n",
      "  MESSIDOR_train:\n",
      "    type: ImageFolders\n",
      "    path-prefix: PATH/train\n",
      "    paths:\n",
      "      x: raw/{{name}}.png\n",
      "      y: gt/{{name}}.png\n",
      "  MESSIDOR_val:\n",
      "    path-prefix: PATH/val\n",
      "    type: ImageFolders\n",
      "    paths:\n",
      "      x: raw/{{name}}.png\n",
      "      y: gt/{{name}}.png\n",
      "  MESSIDOR_test:\n",
      "    path-prefix: PATH/test\n",
      "    type: ImageFolders\n",
      "    paths:\n",
      "      x: raw/{{name}}.png\n",
      "      y: gt/{{name}}.png\n",
      "\n"
     ]
    }
   ],
   "source": [
    "print(cfg['datasets'].to_yaml())"
   ]
  }
 ],
 "metadata": {
  "kernelspec": {
   "display_name": "Python 3 (ipykernel)",
   "language": "python",
   "name": "python3"
  },
  "language_info": {
   "codemirror_mode": {
    "name": "ipython",
    "version": 3
   },
   "file_extension": ".py",
   "mimetype": "text/x-python",
   "name": "python",
   "nbconvert_exporter": "python",
   "pygments_lexer": "ipython3",
   "version": "3.10.0"
  }
 },
 "nbformat": 4,
 "nbformat_minor": 5
}
