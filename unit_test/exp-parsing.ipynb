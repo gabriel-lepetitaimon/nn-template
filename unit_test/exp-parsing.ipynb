{
 "cells": [
  {
   "cell_type": "markdown",
   "id": "9c436db9-59b3-441f-b712-586518e3a0a8",
   "metadata": {},
   "source": [
    "<h1 style='text-align: center;'>\n",
    "    Experiment Cfg Parsing\n",
    "</h1>\n",
    "<h3 style='opacity: 0.8; text-align: center;'> Enhanced syntax for yaml configuration files </h3>"
   ]
  },
  {
   "cell_type": "markdown",
   "id": "11727862-64d5-4ff6-af21-1cacbcf98827",
   "metadata": {},
   "source": [
    "#### import"
   ]
  },
  {
   "cell_type": "code",
   "execution_count": 1,
   "id": "704dae00-945d-40b6-8f81-150ae297d1db",
   "metadata": {},
   "outputs": [],
   "source": [
    "%load_ext autoreload\n",
    "%autoreload 2"
   ]
  },
  {
   "cell_type": "code",
   "execution_count": 2,
   "id": "60f337f6-436e-4cbe-b900-02d655b752ff",
   "metadata": {},
   "outputs": [],
   "source": [
    "from sources import Cfg\n",
    "import nn_template.data_augmentation\n",
    "import nn_template.model"
   ]
  },
  {
   "cell_type": "markdown",
   "id": "b41425cd-81c7-411e-9a47-b7db49bd8702",
   "metadata": {},
   "source": [
    "## Parse"
   ]
  },
  {
   "cell_type": "code",
   "execution_count": 3,
   "id": "29211358-c14d-4b5f-9864-f15977aae22d",
   "metadata": {},
   "outputs": [],
   "source": [
    "cfg = Cfg.Parser('yaml-demos/demo.yaml').get_config()"
   ]
  },
  {
   "cell_type": "code",
   "execution_count": 6,
   "id": "f659a14d-63ff-4c16-857d-afac0067a5fc",
   "metadata": {},
   "outputs": [
    {
     "name": "stdout",
     "output_type": "stream",
     "text": [
      "fields:\n",
      "  x: raw\n",
      "  y: '{{gt}} > 1'\n",
      "  mask: '{{gt}} > 0'\n",
      "train:\n",
      "  source: MESSIDOR-train\n",
      "  augment:\n",
      "    augmentation: default\n",
      "    factor: 2\n",
      "validate:\n",
      "  source: MESSIDOR-val\n",
      "  cache: true\n",
      "test:\n",
      "  test:\n",
      "    source: MESSIDOR-test\n",
      "    cache: true\n",
      "sources:\n",
      "  MESSIDOR-train:\n",
      "    type: DataFiles\n",
      "    path-prefix: PATH/train\n",
      "    data:\n",
      "      raw:\n",
      "        path: raw\n",
      "        resize: 1500\n",
      "      gt:\n",
      "        type: label\n",
      "        path: gt\n",
      "        resize: 1500\n",
      "  MESSIDOR-val:\n",
      "    path-prefix: PATH/val\n",
      "    type: DataFiles\n",
      "    data:\n",
      "      raw:\n",
      "        path: raw\n",
      "        resize: 1500\n",
      "      gt:\n",
      "        type: label\n",
      "        path: gt\n",
      "        resize: 1500\n",
      "  MESSIDOR-test:\n",
      "    path-prefix: PATH/test\n",
      "    type: DataFiles\n",
      "    data:\n",
      "      raw:\n",
      "        path: raw\n",
      "        resize: 1500\n",
      "      gt:\n",
      "        type: label\n",
      "        path: gt\n",
      "        resize: 1500\n",
      "\n"
     ]
    }
   ],
   "source": [
    "print(cfg['datasets'].to_yaml())"
   ]
  },
  {
   "cell_type": "code",
   "execution_count": 18,
   "outputs": [
    {
     "data": {
      "text/plain": "{'augmentation': 'default', 'factor': 2}"
     },
     "execution_count": 18,
     "metadata": {},
     "output_type": "execute_result"
    }
   ],
   "source": [
    "cfg['datasets.train.augment']"
   ],
   "metadata": {
    "collapsed": false
   }
  }
 ],
 "metadata": {
  "kernelspec": {
   "display_name": "Python 3",
   "language": "python",
   "name": "python3"
  },
  "language_info": {
   "codemirror_mode": {
    "name": "ipython",
    "version": 3
   },
   "file_extension": ".py",
   "mimetype": "text/x-python",
   "name": "python",
   "nbconvert_exporter": "python",
   "pygments_lexer": "ipython3",
   "version": "3.10.0"
  },
  "varInspector": {
   "cols": {
    "lenName": 16,
    "lenType": 16,
    "lenVar": 40
   },
   "kernels_config": {
    "python": {
     "delete_cmd_postfix": "",
     "delete_cmd_prefix": "del ",
     "library": "var_list.py",
     "varRefreshCmd": "print(var_dic_list())"
    },
    "r": {
     "delete_cmd_postfix": ") ",
     "delete_cmd_prefix": "rm(",
     "library": "var_list.r",
     "varRefreshCmd": "cat(var_dic_list()) "
    }
   },
   "types_to_exclude": [
    "module",
    "function",
    "builtin_function_or_method",
    "instance",
    "_Feature"
   ],
   "window_display": false
  }
 },
 "nbformat": 4,
 "nbformat_minor": 5
}
