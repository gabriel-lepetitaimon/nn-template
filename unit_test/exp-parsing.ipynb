{
 "cells": [
  {
   "cell_type": "markdown",
   "id": "ultimate-shoot",
   "metadata": {},
   "source": [
    "<h1 style='text-align: center;'>\n",
    "    Experiment Cfg Parsing\n",
    "</h1>\n",
    "<h3 style='opacity: 0.8; text-align: center;'> Enhanced syntax for yaml configuration files </h3>"
   ]
  },
  {
   "cell_type": "markdown",
   "id": "appointed-jungle",
   "metadata": {},
   "source": [
    "#### import"
   ]
  },
  {
   "cell_type": "code",
   "execution_count": 1,
   "id": "decent-causing",
   "metadata": {},
   "outputs": [],
   "source": [
    "%load_ext autoreload\n",
    "%autoreload 2"
   ]
  },
  {
   "cell_type": "code",
   "execution_count": 2,
   "id": "lined-compression",
   "metadata": {},
   "outputs": [],
   "source": [
    "from sources import Cfg\n",
    "import nn_template.data_augmentation\n",
    "import nn_template.model\n",
    "import nn_template.datasets\n",
    "from nn_template.model import Model\n",
    "import nn_template.optuna"
   ]
  },
  {
   "cell_type": "code",
   "execution_count": null,
   "id": "f0be3f57-a2aa-475f-a138-3d44f9dc3cb3",
   "metadata": {},
   "outputs": [],
   "source": []
  },
  {
   "cell_type": "markdown",
   "id": "expensive-college",
   "metadata": {},
   "source": [
    "## Parse"
   ]
  },
  {
   "cell_type": "code",
   "execution_count": 3,
   "id": "loaded-numbers",
   "metadata": {},
   "outputs": [],
   "source": [
    "cfg = Cfg.Parser('yaml-demos/demo.yaml').get_config()"
   ]
  },
  {
   "cell_type": "code",
   "execution_count": 4,
   "id": "steady-plant",
   "metadata": {},
   "outputs": [
    {
     "data": {
      "text/plain": [
       "segmentation_models_pytorch.decoders.unet.model.Unet"
      ]
     },
     "execution_count": 4,
     "metadata": {},
     "output_type": "execute_result"
    }
   ],
   "source": [
    "cfg['model'].architecture"
   ]
  },
  {
   "cell_type": "code",
   "execution_count": 5,
   "id": "analyzed-stock",
   "metadata": {
    "collapsed": false,
    "jupyter": {
     "outputs_hidden": false
    }
   },
   "outputs": [
    {
     "data": {
      "text/plain": [
       "<nn_template.data_augmentation.data_augment.DataAugment at 0x7f1216d00310>"
      ]
     },
     "execution_count": 5,
     "metadata": {},
     "output_type": "execute_result"
    }
   ],
   "source": [
    "cfg['datasets.train.augment'].augmentation.data_augment"
   ]
  },
  {
   "cell_type": "code",
   "execution_count": 6,
   "id": "e8749841-5f0f-44af-975d-e99f6c3380aa",
   "metadata": {},
   "outputs": [
    {
     "data": {
      "text/markdown": [
       "**MESSIDOR-train** _DataSource_:\n",
       "\n",
       "- dir_prefix: /home/gaby/These/Data/Fundus/DRIVE/train/\n",
       "- data: CfgDict[data]:\n",
       "raw:\n",
       "  type: ColorMap\n",
       "  directory: 0-images\n",
       "  path: '{ID:n}_training.png'\n",
       "  resize: 1500\n",
       "gt:\n",
       "  type: LabelMap\n",
       "  directory: 2-label_AV\n",
       "  path: '{ID:n}_training.png'\n",
       "  resize: 1500\n"
      ],
      "text/plain": [
       "{'dir-prefix': '/home/gaby/These/Data/Fundus/DRIVE/train/',\n",
       " 'data': {'raw': {'type': 'ColorMap',\n",
       "   'directory': '0-images',\n",
       "   'path': '{ID:n}_training.png',\n",
       "   'resize': 1500},\n",
       "  'gt': {'type': 'LabelMap',\n",
       "   'directory': '2-label_AV',\n",
       "   'path': '{ID:n}_training.png',\n",
       "   'resize': 1500}}}"
      ]
     },
     "execution_count": 6,
     "metadata": {},
     "output_type": "execute_result"
    }
   ],
   "source": [
    "list(cfg['datasets.train'].source)[0].source"
   ]
  },
  {
   "cell_type": "code",
   "execution_count": null,
   "id": "ee7cc595-1095-425e-af0a-6a5a92e5a56a",
   "metadata": {},
   "outputs": [],
   "source": []
  },
  {
   "cell_type": "code",
   "execution_count": null,
   "id": "26fb5d7f-b475-43f5-bb03-7e56f9ae20fc",
   "metadata": {},
   "outputs": [],
   "source": []
  },
  {
   "cell_type": "code",
   "execution_count": null,
   "id": "e38ec40d-969c-4009-851c-4b2ff8a6f66c",
   "metadata": {},
   "outputs": [],
   "source": []
  }
 ],
 "metadata": {
  "kernelspec": {
   "display_name": "Python 3 (ipykernel)",
   "language": "python",
   "name": "python3"
  },
  "language_info": {
   "codemirror_mode": {
    "name": "ipython",
    "version": 3
   },
   "file_extension": ".py",
   "mimetype": "text/x-python",
   "name": "python",
   "nbconvert_exporter": "python",
   "pygments_lexer": "ipython3",
   "version": "3.10.0"
  },
  "varInspector": {
   "cols": {
    "lenName": 16,
    "lenType": 16,
    "lenVar": 40
   },
   "kernels_config": {
    "python": {
     "delete_cmd_postfix": "",
     "delete_cmd_prefix": "del ",
     "library": "var_list.py",
     "varRefreshCmd": "print(var_dic_list())"
    },
    "r": {
     "delete_cmd_postfix": ") ",
     "delete_cmd_prefix": "rm(",
     "library": "var_list.r",
     "varRefreshCmd": "cat(var_dic_list()) "
    }
   },
   "types_to_exclude": [
    "module",
    "function",
    "builtin_function_or_method",
    "instance",
    "_Feature"
   ],
   "window_display": false
  }
 },
 "nbformat": 4,
 "nbformat_minor": 5
}
