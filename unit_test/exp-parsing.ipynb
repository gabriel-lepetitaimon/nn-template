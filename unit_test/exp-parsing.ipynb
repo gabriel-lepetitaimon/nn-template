{
 "cells": [
  {
   "cell_type": "markdown",
   "id": "ultimate-shoot",
   "metadata": {},
   "source": [
    "<h1 style='text-align: center;'>\n",
    "    Experiment Cfg Parsing\n",
    "</h1>\n",
    "<h3 style='opacity: 0.8; text-align: center;'> Enhanced syntax for yaml configuration files </h3>"
   ]
  },
  {
   "cell_type": "markdown",
   "id": "appointed-jungle",
   "metadata": {},
   "source": [
    "#### import"
   ]
  },
  {
   "cell_type": "code",
   "execution_count": 1,
   "id": "decent-causing",
   "metadata": {},
   "outputs": [],
   "source": [
    "%load_ext autoreload\n",
    "%autoreload 2"
   ]
  },
  {
   "cell_type": "code",
   "execution_count": 2,
   "id": "lined-compression",
   "metadata": {},
   "outputs": [],
   "source": [
    "from sources import Cfg\n",
    "import nn_template.data_augmentation\n",
    "import nn_template.datasets\n",
    "import nn_template.model\n",
    "from nn_template.model import Model"
   ]
  },
  {
   "cell_type": "markdown",
   "id": "expensive-college",
   "metadata": {},
   "source": [
    "## Parse"
   ]
  },
  {
   "cell_type": "code",
   "execution_count": 3,
   "id": "loaded-numbers",
   "metadata": {},
   "outputs": [
    {
     "ename": "AssertionError",
     "evalue": "CfgCollection Invalid obj_types: should be dict when type_key is provided.",
     "output_type": "error",
     "traceback": [
      "\u001b[0;31m---------------------------------------------------------------------------\u001b[0m",
      "\u001b[0;31mAssertionError\u001b[0m                            Traceback (most recent call last)",
      "Input \u001b[0;32mIn [3]\u001b[0m, in \u001b[0;36m<cell line: 1>\u001b[0;34m()\u001b[0m\n\u001b[0;32m----> 1\u001b[0m cfg \u001b[38;5;241m=\u001b[39m \u001b[43mCfg\u001b[49m\u001b[38;5;241;43m.\u001b[39;49m\u001b[43mParser\u001b[49m\u001b[43m(\u001b[49m\u001b[38;5;124;43m'\u001b[39;49m\u001b[38;5;124;43myaml-demos/demo.yaml\u001b[39;49m\u001b[38;5;124;43m'\u001b[39;49m\u001b[43m)\u001b[49m\u001b[38;5;241;43m.\u001b[39;49m\u001b[43mget_config\u001b[49m\u001b[43m(\u001b[49m\u001b[43m)\u001b[49m\n",
      "File \u001b[0;32m~/These/src/nn-template/lib/nn_template/config/cfg_parser.py:64\u001b[0m, in \u001b[0;36mCfgParser.get_config\u001b[0;34m(self, version, parse_obj)\u001b[0m\n\u001b[1;32m     62\u001b[0m CfgParser\u001b[38;5;241m.\u001b[39mresolve_refs(cfg, inplace\u001b[38;5;241m=\u001b[39m\u001b[38;5;28;01mTrue\u001b[39;00m)\n\u001b[1;32m     63\u001b[0m \u001b[38;5;28;01mif\u001b[39;00m parse_obj:\n\u001b[0;32m---> 64\u001b[0m     \u001b[43mCfgParser\u001b[49m\u001b[38;5;241;43m.\u001b[39;49m\u001b[43mparse_registered_cfg\u001b[49m\u001b[43m(\u001b[49m\u001b[43mcfg\u001b[49m\u001b[43m,\u001b[49m\u001b[43m \u001b[49m\u001b[43minplace\u001b[49m\u001b[38;5;241;43m=\u001b[39;49m\u001b[38;5;28;43;01mTrue\u001b[39;49;00m\u001b[43m)\u001b[49m\n\u001b[1;32m     65\u001b[0m \u001b[38;5;28;01mreturn\u001b[39;00m cfg\n",
      "File \u001b[0;32m~/These/src/nn-template/lib/nn_template/config/cfg_parser.py:178\u001b[0m, in \u001b[0;36mCfgParser.parse_registered_cfg\u001b[0;34m(cfg_dict, inplace)\u001b[0m\n\u001b[1;32m    176\u001b[0m \u001b[38;5;28;01mfor\u001b[39;00m path, cfg_obj_class \u001b[38;5;129;01min\u001b[39;00m _registered_cfg_object\u001b[38;5;241m.\u001b[39mitems():\n\u001b[1;32m    177\u001b[0m     \u001b[38;5;28;01mif\u001b[39;00m path \u001b[38;5;129;01min\u001b[39;00m cfg_dict:\n\u001b[0;32m--> 178\u001b[0m         cfg_dict[path] \u001b[38;5;241m=\u001b[39m \u001b[43mcfg_obj_class\u001b[49m\u001b[38;5;241;43m.\u001b[39;49m\u001b[43mfrom_cfg\u001b[49m\u001b[43m(\u001b[49m\u001b[43mcfg_dict\u001b[49m\u001b[43m[\u001b[49m\u001b[43mpath\u001b[49m\u001b[43m]\u001b[49m\u001b[43m,\u001b[49m\u001b[43m \u001b[49m\u001b[43mmark\u001b[49m\u001b[38;5;241;43m=\u001b[39;49m\u001b[43mcfg_dict\u001b[49m\u001b[38;5;241;43m.\u001b[39;49m\u001b[43mget_mark\u001b[49m\u001b[43m(\u001b[49m\u001b[43mpath\u001b[49m\u001b[43m)\u001b[49m\u001b[43m)\u001b[49m\n\u001b[1;32m    179\u001b[0m \u001b[38;5;28;01mreturn\u001b[39;00m cfg_dict\n",
      "File \u001b[0;32m~/These/src/nn-template/lib/nn_template/config/cfg_object.py:138\u001b[0m, in \u001b[0;36mObjCfg.from_cfg\u001b[0;34m(cls, cfg_dict, mark)\u001b[0m\n\u001b[1;32m    135\u001b[0m \u001b[38;5;129m@classmethod\u001b[39m\n\u001b[1;32m    136\u001b[0m \u001b[38;5;28;01mdef\u001b[39;00m \u001b[38;5;21mfrom_cfg\u001b[39m(\u001b[38;5;28mcls\u001b[39m, cfg_dict: \u001b[38;5;28mdict\u001b[39m[\u001b[38;5;28mstr\u001b[39m, \u001b[38;5;28many\u001b[39m], mark\u001b[38;5;241m=\u001b[39m\u001b[38;5;28;01mNone\u001b[39;00m):\n\u001b[1;32m    137\u001b[0m     r \u001b[38;5;241m=\u001b[39m \u001b[38;5;28mcls\u001b[39m()\n\u001b[0;32m--> 138\u001b[0m     \u001b[43mr\u001b[49m\u001b[38;5;241;43m.\u001b[39;49m\u001b[43mupdate\u001b[49m\u001b[43m(\u001b[49m\u001b[43mcfg_dict\u001b[49m\u001b[43m)\u001b[49m\n\u001b[1;32m    139\u001b[0m     \u001b[38;5;28;01mif\u001b[39;00m mark \u001b[38;5;129;01mis\u001b[39;00m \u001b[38;5;129;01mnot\u001b[39;00m \u001b[38;5;28;01mNone\u001b[39;00m:\n\u001b[1;32m    140\u001b[0m         r\u001b[38;5;241m.\u001b[39mmark \u001b[38;5;241m=\u001b[39m mark\n",
      "File \u001b[0;32m~/These/src/nn-template/lib/nn_template/config/cfg_dict.py:393\u001b[0m, in \u001b[0;36mCfgDict.update\u001b[0;34m(self, _CfgDict__m, **kwargs)\u001b[0m\n\u001b[1;32m    391\u001b[0m     \u001b[38;5;28mself\u001b[39m[k]\u001b[38;5;241m.\u001b[39mupdate(v)\n\u001b[1;32m    392\u001b[0m \u001b[38;5;28;01melse\u001b[39;00m:\n\u001b[0;32m--> 393\u001b[0m     \u001b[38;5;28mself\u001b[39m[k] \u001b[38;5;241m=\u001b[39m v\n",
      "File \u001b[0;32m~/These/src/nn-template/lib/nn_template/config/cfg_object.py:116\u001b[0m, in \u001b[0;36mObjCfg.__setitem__\u001b[0;34m(self, key, value)\u001b[0m\n\u001b[1;32m    113\u001b[0m     mark \u001b[38;5;241m=\u001b[39m \u001b[38;5;28;01mNone\u001b[39;00m\n\u001b[1;32m    115\u001b[0m \u001b[38;5;28;01mtry\u001b[39;00m:\n\u001b[0;32m--> 116\u001b[0m     attr_value \u001b[38;5;241m=\u001b[39m \u001b[43mattr\u001b[49m\u001b[38;5;241;43m.\u001b[39;49m\u001b[43mcheck_value\u001b[49m\u001b[43m(\u001b[49m\u001b[43mvalue\u001b[49m\u001b[43m,\u001b[49m\u001b[43m \u001b[49m\u001b[43mcfg_dict\u001b[49m\u001b[38;5;241;43m=\u001b[39;49m\u001b[38;5;28;43mself\u001b[39;49m\u001b[43m)\u001b[49m\n\u001b[1;32m    117\u001b[0m \u001b[38;5;28;01mexcept\u001b[39;00m (InvalidCfgAttr, ParseError) \u001b[38;5;28;01mas\u001b[39;00m e:\n\u001b[1;32m    118\u001b[0m     \u001b[38;5;28;01mraise\u001b[39;00m ParseError(\u001b[38;5;28mstr\u001b[39m(e), mark) \u001b[38;5;28;01mfrom\u001b[39;00m \u001b[38;5;28mNone\u001b[39m\n",
      "File \u001b[0;32m~/These/src/nn-template/lib/nn_template/config/cfg_object.py:207\u001b[0m, in \u001b[0;36mCfgAttr.check_value\u001b[0;34m(self, value, cfg_dict)\u001b[0m\n\u001b[1;32m    205\u001b[0m \u001b[38;5;28;01mif\u001b[39;00m \u001b[38;5;28mself\u001b[39m\u001b[38;5;241m.\u001b[39m_checker \u001b[38;5;129;01mis\u001b[39;00m \u001b[38;5;129;01mnot\u001b[39;00m \u001b[38;5;28;01mNone\u001b[39;00m:\n\u001b[1;32m    206\u001b[0m     value \u001b[38;5;241m=\u001b[39m \u001b[38;5;28mself\u001b[39m\u001b[38;5;241m.\u001b[39m_checker(value, cfg_dict)\n\u001b[0;32m--> 207\u001b[0m \u001b[38;5;28;01mreturn\u001b[39;00m \u001b[38;5;28;43mself\u001b[39;49m\u001b[38;5;241;43m.\u001b[39;49m\u001b[43m_check_value\u001b[49m\u001b[43m(\u001b[49m\u001b[43mvalue\u001b[49m\u001b[43m,\u001b[49m\u001b[43m \u001b[49m\u001b[43mcfg_dict\u001b[49m\u001b[43m)\u001b[49m\n",
      "File \u001b[0;32m~/These/src/nn-template/lib/nn_template/config/cfg_object.py:440\u001b[0m, in \u001b[0;36mMultiTypeCollectionAttr._check_value\u001b[0;34m(self, value, cfg_dict)\u001b[0m\n\u001b[1;32m    437\u001b[0m \u001b[38;5;28;01mif\u001b[39;00m \u001b[38;5;129;01mnot\u001b[39;00m \u001b[38;5;28misinstance\u001b[39m(value, \u001b[38;5;28mdict\u001b[39m):\n\u001b[1;32m    438\u001b[0m     \u001b[38;5;28;01mraise\u001b[39;00m InvalidCfgAttr(\u001b[38;5;124mf\u001b[39m\u001b[38;5;124m'\u001b[39m\u001b[38;5;124mImpossible to populate collection \u001b[39m\u001b[38;5;132;01m{\u001b[39;00m\u001b[38;5;28mself\u001b[39m\u001b[38;5;241m.\u001b[39mfullname()\u001b[38;5;132;01m}\u001b[39;00m\u001b[38;5;124m. \u001b[39m\u001b[38;5;124m'\u001b[39m\n\u001b[1;32m    439\u001b[0m                          \u001b[38;5;124mf\u001b[39m\u001b[38;5;124m'\u001b[39m\u001b[38;5;124mThe provided value is not a dictionary.\u001b[39m\u001b[38;5;124m'\u001b[39m)\n\u001b[0;32m--> 440\u001b[0m value \u001b[38;5;241m=\u001b[39m \u001b[43mCfgCollection\u001b[49m\u001b[43m(\u001b[49m\u001b[43mdata\u001b[49m\u001b[38;5;241;43m=\u001b[39;49m\u001b[43mvalue\u001b[49m\u001b[43m,\u001b[49m\u001b[43m \u001b[49m\u001b[43mobj_types\u001b[49m\u001b[38;5;241;43m=\u001b[39;49m\u001b[38;5;28;43mself\u001b[39;49m\u001b[38;5;241;43m.\u001b[39;49m\u001b[43m_obj_types\u001b[49m\u001b[43m,\u001b[49m\u001b[43m \u001b[49m\u001b[43mtype_key\u001b[49m\u001b[38;5;241;43m=\u001b[39;49m\u001b[38;5;28;43mself\u001b[39;49m\u001b[38;5;241;43m.\u001b[39;49m\u001b[43mtype_key\u001b[49m\u001b[43m)\u001b[49m\n\u001b[1;32m    441\u001b[0m \u001b[38;5;28;01mreturn\u001b[39;00m value\n",
      "File \u001b[0;32m~/These/src/nn-template/lib/nn_template/config/cfg_dict.py:491\u001b[0m, in \u001b[0;36mCfgCollection.__init__\u001b[0;34m(self, obj_types, data, default_key, type_key, parent)\u001b[0m\n\u001b[1;32m    489\u001b[0m     \u001b[38;5;28;01massert\u001b[39;00m \u001b[38;5;28mall\u001b[39m(\u001b[38;5;28misinstance\u001b[39m(_, \u001b[38;5;28mtype\u001b[39m) \u001b[38;5;28;01mfor\u001b[39;00m _ \u001b[38;5;129;01min\u001b[39;00m \u001b[38;5;28mself\u001b[39m\u001b[38;5;241m.\u001b[39mobj_types)\n\u001b[1;32m    490\u001b[0m \u001b[38;5;28;01melse\u001b[39;00m:\n\u001b[0;32m--> 491\u001b[0m     \u001b[38;5;28;01massert\u001b[39;00m \u001b[38;5;28misinstance\u001b[39m(obj_types, Mapping), \u001b[38;5;124mf\u001b[39m\u001b[38;5;124m\"\u001b[39m\u001b[38;5;132;01m{\u001b[39;00m\u001b[38;5;28mtype\u001b[39m(\u001b[38;5;28mself\u001b[39m)\u001b[38;5;241m.\u001b[39m\u001b[38;5;18m__name__\u001b[39m\u001b[38;5;132;01m}\u001b[39;00m\u001b[38;5;124m Invalid obj_types: should be dict when type_key is provided.\u001b[39m\u001b[38;5;124m\"\u001b[39m\n\u001b[1;32m    492\u001b[0m     \u001b[38;5;28;01massert\u001b[39;00m \u001b[38;5;28mall\u001b[39m(\u001b[38;5;28misinstance\u001b[39m(_, \u001b[38;5;28mstr\u001b[39m) \u001b[38;5;28;01mfor\u001b[39;00m _ \u001b[38;5;129;01min\u001b[39;00m obj_types\u001b[38;5;241m.\u001b[39mkeys())\n\u001b[1;32m    493\u001b[0m     \u001b[38;5;28;01massert\u001b[39;00m \u001b[38;5;28mall\u001b[39m(\u001b[38;5;28misinstance\u001b[39m(_, \u001b[38;5;28mtype\u001b[39m) \u001b[38;5;28;01mfor\u001b[39;00m _ \u001b[38;5;129;01min\u001b[39;00m obj_types\u001b[38;5;241m.\u001b[39mvalues())\n",
      "\u001b[0;31mAssertionError\u001b[0m: CfgCollection Invalid obj_types: should be dict when type_key is provided."
     ]
    }
   ],
   "source": [
    "cfg = Cfg.Parser('yaml-demos/demo.yaml').get_config()"
   ]
  },
  {
   "cell_type": "code",
   "execution_count": null,
   "id": "steady-plant",
   "metadata": {},
   "outputs": [],
   "source": [
    "cfg['model'].architecture"
   ]
  },
  {
   "cell_type": "code",
   "execution_count": null,
   "id": "analyzed-stock",
   "metadata": {
    "collapsed": false,
    "jupyter": {
     "outputs_hidden": false
    }
   },
   "outputs": [],
   "source": [
    "cfg['datasets.train.augment']"
   ]
  },
  {
   "cell_type": "code",
   "execution_count": null,
   "id": "e8749841-5f0f-44af-975d-e99f6c3380aa",
   "metadata": {},
   "outputs": [],
   "source": [
    "Model.architecture.fullname()"
   ]
  }
 ],
 "metadata": {
  "kernelspec": {
   "display_name": "Python 3 (ipykernel)",
   "language": "python",
   "name": "python3"
  },
  "language_info": {
   "codemirror_mode": {
    "name": "ipython",
    "version": 3
   },
   "file_extension": ".py",
   "mimetype": "text/x-python",
   "name": "python",
   "nbconvert_exporter": "python",
   "pygments_lexer": "ipython3",
   "version": "3.10.0"
  },
  "varInspector": {
   "cols": {
    "lenName": 16,
    "lenType": 16,
    "lenVar": 40
   },
   "kernels_config": {
    "python": {
     "delete_cmd_postfix": "",
     "delete_cmd_prefix": "del ",
     "library": "var_list.py",
     "varRefreshCmd": "print(var_dic_list())"
    },
    "r": {
     "delete_cmd_postfix": ") ",
     "delete_cmd_prefix": "rm(",
     "library": "var_list.r",
     "varRefreshCmd": "cat(var_dic_list()) "
    }
   },
   "types_to_exclude": [
    "module",
    "function",
    "builtin_function_or_method",
    "instance",
    "_Feature"
   ],
   "window_display": false
  }
 },
 "nbformat": 4,
 "nbformat_minor": 5
}
