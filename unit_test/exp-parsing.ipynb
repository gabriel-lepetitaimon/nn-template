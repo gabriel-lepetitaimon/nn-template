{
 "cells": [
  {
   "cell_type": "markdown",
   "id": "ultimate-shoot",
   "metadata": {},
   "source": [
    "<h1 style='text-align: center;'>\n",
    "    Experiment Cfg Parsing\n",
    "</h1>\n",
    "<h3 style='opacity: 0.8; text-align: center;'> Enhanced syntax for yaml configuration files </h3>"
   ]
  },
  {
   "cell_type": "markdown",
   "id": "appointed-jungle",
   "metadata": {},
   "source": [
    "#### import"
   ]
  },
  {
   "cell_type": "code",
   "execution_count": 1,
   "id": "decent-causing",
   "metadata": {},
   "outputs": [],
   "source": [
    "%load_ext autoreload\n",
    "%autoreload 2"
   ]
  },
  {
   "cell_type": "code",
   "execution_count": 2,
   "id": "lined-compression",
   "metadata": {},
   "outputs": [],
   "source": [
    "from sources import Cfg\n",
    "import nn_template.data_augmentation\n",
    "import nn_template.model\n",
    "import nn_template.datasets\n",
    "import nn_template.training\n",
    "import nn_template.task.segmentation2D\n",
    "from nn_template.model import SMPModelCfg\n",
    "import nn_template.hyperparameters_tuning.optuna"
   ]
  },
  {
   "cell_type": "code",
   "execution_count": null,
   "id": "f0be3f57-a2aa-475f-a138-3d44f9dc3cb3",
   "metadata": {},
   "outputs": [],
   "source": []
  },
  {
   "cell_type": "markdown",
   "id": "expensive-college",
   "metadata": {},
   "source": [
    "## Parse"
   ]
  },
  {
   "cell_type": "code",
   "execution_count": 3,
   "id": "loaded-numbers",
   "metadata": {},
   "outputs": [
    {
     "ename": "ParseError",
     "evalue": "\n  File \"/home/gaby/These/src/nn-template/unit_test/yaml-demos/demo.yaml\", line 52, in metrics\n\t\tInvalid value for attribute LightningTaskCfg.metrics.\n\t\tProvided value was: {'kappa': {'type': 'kappa'}, 'acc': {'type': 'acc'}, 'confmat': {'type': 'confmat'}, 'iou': {'type': 'iou'}}",
     "output_type": "error",
     "traceback": [
      "\u001b[0;31m---------------------------------------------------------------------------\u001b[0m",
      "\u001b[0;31mParseError\u001b[0m                                Traceback (most recent call last)",
      "Cell \u001b[0;32mIn [3], line 1\u001b[0m\n\u001b[0;32m----> 1\u001b[0m cfg \u001b[38;5;241m=\u001b[39m \u001b[43mCfg\u001b[49m\u001b[38;5;241;43m.\u001b[39;49m\u001b[43mParser\u001b[49m\u001b[43m(\u001b[49m\u001b[38;5;124;43m'\u001b[39;49m\u001b[38;5;124;43myaml-demos/demo.yaml\u001b[39;49m\u001b[38;5;124;43m'\u001b[39;49m\u001b[43m)\u001b[49m\u001b[38;5;241;43m.\u001b[39;49m\u001b[43mget_config\u001b[49m\u001b[43m(\u001b[49m\u001b[43m)\u001b[49m\n",
      "File \u001b[0;32m~/These/src/nn-template/lib/nn_template/config/cfg_parser.py:108\u001b[0m, in \u001b[0;36mCfgParser.get_config\u001b[0;34m(self, version, parse_obj)\u001b[0m\n\u001b[1;32m    106\u001b[0m     CfgParser\u001b[38;5;241m.\u001b[39mparse_registered_cfg(cfg, inplace\u001b[38;5;241m=\u001b[39m\u001b[38;5;28;01mTrue\u001b[39;00m)\n\u001b[1;32m    107\u001b[0m \u001b[38;5;28;01mexcept\u001b[39;00m ParseError \u001b[38;5;28;01mas\u001b[39;00m e:\n\u001b[0;32m--> 108\u001b[0m     \u001b[38;5;28;01mraise\u001b[39;00m ParseError(error\u001b[38;5;241m=\u001b[39me\u001b[38;5;241m.\u001b[39merror, mark\u001b[38;5;241m=\u001b[39me\u001b[38;5;241m.\u001b[39mmark, info\u001b[38;5;241m=\u001b[39me\u001b[38;5;241m.\u001b[39minfo) \u001b[38;5;28;01mfrom\u001b[39;00m \u001b[38;5;28mNone\u001b[39m\n\u001b[1;32m    109\u001b[0m \u001b[38;5;28;01mexcept\u001b[39;00m InvalidAttr \u001b[38;5;28;01mas\u001b[39;00m e:\n\u001b[1;32m    110\u001b[0m     \u001b[38;5;28;01mraise\u001b[39;00m ParseError(error\u001b[38;5;241m=\u001b[39me\u001b[38;5;241m.\u001b[39merror, mark\u001b[38;5;241m=\u001b[39me\u001b[38;5;241m.\u001b[39mmark, info\u001b[38;5;241m=\u001b[39me\u001b[38;5;241m.\u001b[39minfo) \u001b[38;5;28;01mfrom\u001b[39;00m \u001b[38;5;28mNone\u001b[39m\n",
      "\u001b[0;31mParseError\u001b[0m: \n  File \"/home/gaby/These/src/nn-template/unit_test/yaml-demos/demo.yaml\", line 52, in metrics\n\t\tInvalid value for attribute LightningTaskCfg.metrics.\n\t\tProvided value was: {'kappa': {'type': 'kappa'}, 'acc': {'type': 'acc'}, 'confmat': {'type': 'confmat'}, 'iou': {'type': 'iou'}}"
     ]
    }
   ],
   "source": [
    "cfg = Cfg.Parser('yaml-demos/demo.yaml').get_config()"
   ]
  },
  {
   "cell_type": "code",
   "execution_count": null,
   "id": "steady-plant",
   "metadata": {},
   "outputs": [],
   "source": [
    "cfg['model'].architecture"
   ]
  },
  {
   "cell_type": "code",
   "execution_count": null,
   "id": "analyzed-stock",
   "metadata": {
    "collapsed": false,
    "jupyter": {
     "outputs_hidden": false
    }
   },
   "outputs": [],
   "source": [
    "cfg['datasets.train.augment'].augmentation.data_augment"
   ]
  },
  {
   "cell_type": "code",
   "execution_count": null,
   "id": "e8749841-5f0f-44af-975d-e99f6c3380aa",
   "metadata": {},
   "outputs": [],
   "source": [
    "source = list(cfg['datasets.train'].source)[0].source\n",
    "source"
   ]
  },
  {
   "cell_type": "code",
   "execution_count": null,
   "id": "262aeec6-dcc6-442c-a667-cb8ff9e33447",
   "metadata": {},
   "outputs": [],
   "source": [
    "cfg['data-augmentation.default'].random_crop.padding"
   ]
  },
  {
   "cell_type": "code",
   "execution_count": null,
   "id": "ee7cc595-1095-425e-af0a-6a5a92e5a56a",
   "metadata": {},
   "outputs": [],
   "source": [
    "cfg['datasets.train'].dataset()[0]['x']"
   ]
  },
  {
   "cell_type": "code",
   "execution_count": null,
   "id": "26fb5d7f-b475-43f5-bb03-7e56f9ae20fc",
   "metadata": {},
   "outputs": [],
   "source": [
    "cfg['task.optimizer.lr']"
   ]
  },
  {
   "cell_type": "code",
   "execution_count": null,
   "id": "e38ec40d-969c-4009-851c-4b2ff8a6f66c",
   "metadata": {},
   "outputs": [],
   "source": [
    "cfg['optuna'].engine.apply_suggestion()"
   ]
  },
  {
   "cell_type": "code",
   "execution_count": null,
   "id": "d59b78a3-e800-4dc9-a9af-7cf76b6058d9",
   "metadata": {},
   "outputs": [],
   "source": [
    "cfg['optuna'].engine.hyper_parameters['task.optimizer.lr'].suggested_value"
   ]
  },
  {
   "cell_type": "code",
   "execution_count": null,
   "id": "dd804d80-4be3-449b-bd0c-a7cd6b942869",
   "metadata": {},
   "outputs": [],
   "source": [
    "optuna = cfg['optuna'].ask()"
   ]
  },
  {
   "cell_type": "code",
   "execution_count": null,
   "id": "fa1b6a17-ce42-4000-b89b-e3d30e34bcc4",
   "metadata": {},
   "outputs": [],
   "source": [
    "cfg['optuna'].trial"
   ]
  },
  {
   "cell_type": "code",
   "execution_count": null,
   "id": "b97e043f-5a74-4536-b735-18d60db2592a",
   "metadata": {},
   "outputs": [],
   "source": [
    "cfg['optuna'].trial.number"
   ]
  },
  {
   "cell_type": "code",
   "execution_count": null,
   "id": "3c50075f-5e34-4193-bd9f-688f049e3f13",
   "metadata": {},
   "outputs": [],
   "source": [
    "cfg.root().get('task.metrics')"
   ]
  },
  {
   "cell_type": "code",
   "execution_count": null,
   "id": "2f652782-66f3-43b0-9a3f-8ee2a3166a3a",
   "metadata": {},
   "outputs": [],
   "source": []
  }
 ],
 "metadata": {
  "kernelspec": {
   "display_name": "Python 3 (ipykernel)",
   "language": "python",
   "name": "python3"
  },
  "language_info": {
   "codemirror_mode": {
    "name": "ipython",
    "version": 3
   },
   "file_extension": ".py",
   "mimetype": "text/x-python",
   "name": "python",
   "nbconvert_exporter": "python",
   "pygments_lexer": "ipython3",
   "version": "3.10.6"
  },
  "varInspector": {
   "cols": {
    "lenName": 16,
    "lenType": 16,
    "lenVar": 40
   },
   "kernels_config": {
    "python": {
     "delete_cmd_postfix": "",
     "delete_cmd_prefix": "del ",
     "library": "var_list.py",
     "varRefreshCmd": "print(var_dic_list())"
    },
    "r": {
     "delete_cmd_postfix": ") ",
     "delete_cmd_prefix": "rm(",
     "library": "var_list.r",
     "varRefreshCmd": "cat(var_dic_list()) "
    }
   },
   "types_to_exclude": [
    "module",
    "function",
    "builtin_function_or_method",
    "instance",
    "_Feature"
   ],
   "window_display": false
  }
 },
 "nbformat": 4,
 "nbformat_minor": 5
}
