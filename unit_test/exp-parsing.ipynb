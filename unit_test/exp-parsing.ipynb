{
 "cells": [
  {
   "cell_type": "markdown",
   "id": "ultimate-shoot",
   "metadata": {},
   "source": [
    "<h1 style='text-align: center;'>\n",
    "    Experiment Cfg Parsing\n",
    "</h1>\n",
    "<h3 style='opacity: 0.8; text-align: center;'> Enhanced syntax for yaml configuration files </h3>"
   ]
  },
  {
   "cell_type": "markdown",
   "id": "appointed-jungle",
   "metadata": {},
   "source": [
    "#### import"
   ]
  },
  {
   "cell_type": "code",
   "execution_count": 1,
   "id": "decent-causing",
   "metadata": {},
   "outputs": [],
   "source": [
    "%load_ext autoreload\n",
    "%autoreload 2"
   ]
  },
  {
   "cell_type": "code",
   "execution_count": 2,
   "id": "lined-compression",
   "metadata": {},
   "outputs": [],
   "source": [
    "from sources import Cfg\n",
    "import nn_template.data_augmentation\n",
    "# import nn_template.datasets\n",
    "import nn_template.model\n",
    "from nn_template.model import Model\n",
    "import nn_template.optuna"
   ]
  },
  {
   "cell_type": "markdown",
   "id": "expensive-college",
   "metadata": {},
   "source": [
    "## Parse"
   ]
  },
  {
   "cell_type": "code",
   "execution_count": 3,
   "id": "loaded-numbers",
   "metadata": {},
   "outputs": [],
   "source": [
    "cfg = Cfg.Parser('yaml-demos/demo.yaml').get_config()"
   ]
  },
  {
   "cell_type": "code",
   "execution_count": 4,
   "id": "steady-plant",
   "metadata": {},
   "outputs": [
    {
     "data": {
      "text/plain": [
       "segmentation_models_pytorch.unet.model.Unet"
      ]
     },
     "execution_count": 4,
     "metadata": {},
     "output_type": "execute_result"
    }
   ],
   "source": [
    "cfg['model'].architecture"
   ]
  },
  {
   "cell_type": "code",
   "execution_count": 5,
   "id": "analyzed-stock",
   "metadata": {
    "collapsed": false,
    "jupyter": {
     "outputs_hidden": false
    }
   },
   "outputs": [
    {
     "data": {
      "text/plain": [
       "{'augmentation': 'default', 'factor': 2}"
      ]
     },
     "execution_count": 5,
     "metadata": {},
     "output_type": "execute_result"
    }
   ],
   "source": [
    "cfg['datasets.train.augment']"
   ]
  },
  {
   "cell_type": "code",
   "execution_count": null,
   "id": "e8749841-5f0f-44af-975d-e99f6c3380aa",
   "metadata": {},
   "outputs": [],
   "source": []
  },
  {
   "cell_type": "code",
   "execution_count": 15,
   "id": "2e51126a-8668-414e-892b-1e3ccac7a4bb",
   "metadata": {},
   "outputs": [],
   "source": [
    "trial = cfg['optuna'].ask()"
   ]
  },
  {
   "cell_type": "code",
   "execution_count": 20,
   "id": "2dcbfa97-3d41-4fbb-9f4a-f69044019625",
   "metadata": {},
   "outputs": [
    {
     "data": {
      "text/plain": [
       "{'default': {'flip': True,\n",
       "  'rotation': True,\n",
       "  'elastic': {'alpha': 0.13100502649637114, 'sigma': 20, 'alpha-affine': 50},\n",
       "  'random-crop': 512}}"
      ]
     },
     "execution_count": 20,
     "metadata": {},
     "output_type": "execute_result"
    }
   ],
   "source": [
    "cfg['data-augmentation']"
   ]
  }
 ],
 "metadata": {
  "kernelspec": {
   "display_name": "Python 3",
   "language": "python",
   "name": "python3"
  },
  "language_info": {
   "codemirror_mode": {
    "name": "ipython",
    "version": 3
   },
   "file_extension": ".py",
   "mimetype": "text/x-python",
   "name": "python",
   "nbconvert_exporter": "python",
   "pygments_lexer": "ipython3",
   "version": "3.10.0"
  },
  "varInspector": {
   "cols": {
    "lenName": 16,
    "lenType": 16,
    "lenVar": 40
   },
   "kernels_config": {
    "python": {
     "delete_cmd_postfix": "",
     "delete_cmd_prefix": "del ",
     "library": "var_list.py",
     "varRefreshCmd": "print(var_dic_list())"
    },
    "r": {
     "delete_cmd_postfix": ") ",
     "delete_cmd_prefix": "rm(",
     "library": "var_list.r",
     "varRefreshCmd": "cat(var_dic_list()) "
    }
   },
   "types_to_exclude": [
    "module",
    "function",
    "builtin_function_or_method",
    "instance",
    "_Feature"
   ],
   "window_display": false
  }
 },
 "nbformat": 4,
 "nbformat_minor": 5
}
