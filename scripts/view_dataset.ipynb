{
 "cells": [
  {
   "cell_type": "markdown",
   "id": "42f72abd-fe05-476f-a023-3a7307e70d98",
   "metadata": {},
   "source": [
    "##### import"
   ]
  },
  {
   "cell_type": "code",
   "execution_count": 1,
   "outputs": [],
   "source": [
    "import os\n",
    "from os import path as P\n",
    "import sys\n",
    "sys.path.append(P.abspath(P.join(os.getcwd(), '..', 'lib')))"
   ],
   "metadata": {
    "collapsed": false
   }
  },
  {
   "cell_type": "code",
   "execution_count": 2,
   "outputs": [],
   "source": [
    "from nn_template import Cfg\n",
    "import nn_template.data_augmentation\n",
    "import nn_template.datasets\n",
    "import nn_template.hyperparameters_tuning.optuna\n",
    "from nn_template.callbacks.log_artifacts import Export2DLabel"
   ],
   "metadata": {
    "collapsed": false
   }
  },
  {
   "cell_type": "code",
   "execution_count": 3,
   "id": "986fe650-3748-4633-9c51-1804b9124ca9",
   "metadata": {},
   "outputs": [],
   "source": [
    "import matplotlib.pyplot as plt"
   ]
  },
  {
   "cell_type": "markdown",
   "id": "f2975224-09ba-49d8-a2a8-b0ffa18b28bc",
   "metadata": {},
   "source": [
    "### Load Dataset"
   ]
  },
  {
   "cell_type": "code",
   "execution_count": 4,
   "id": "5305011e-f669-46a2-89b7-78425565844a",
   "metadata": {},
   "outputs": [
    {
     "ename": "AssertionError",
     "evalue": "Error when parsing None: __m must be a Mapping, not <class 'bool'>",
     "output_type": "error",
     "traceback": [
      "\u001B[0;31m---------------------------------------------------------------------------\u001B[0m",
      "\u001B[0;31mAssertionError\u001B[0m                            Traceback (most recent call last)",
      "Cell \u001B[0;32mIn [4], line 1\u001B[0m\n\u001B[0;32m----> 1\u001B[0m cfg \u001B[38;5;241m=\u001B[39m \u001B[43mCfg\u001B[49m\u001B[38;5;241;43m.\u001B[39;49m\u001B[43mParser\u001B[49m\u001B[43m(\u001B[49m\u001B[38;5;124;43m'\u001B[39;49m\u001B[38;5;124;43mvessels.yaml\u001B[39;49m\u001B[38;5;124;43m'\u001B[39;49m\u001B[43m)\u001B[49m\u001B[38;5;241;43m.\u001B[39;49m\u001B[43mget_config\u001B[49m\u001B[43m(\u001B[49m\u001B[43m)\u001B[49m\n",
      "File \u001B[0;32m~/These/src/nn-template/lib/nn_template/config/cfg_parser.py:109\u001B[0m, in \u001B[0;36mCfgParser.get_config\u001B[0;34m(self, version, parse_obj)\u001B[0m\n\u001B[1;32m    107\u001B[0m \u001B[38;5;28;01mif\u001B[39;00m parse_obj:\n\u001B[1;32m    108\u001B[0m     \u001B[38;5;28;01mtry\u001B[39;00m:\n\u001B[0;32m--> 109\u001B[0m         \u001B[43mCfgParser\u001B[49m\u001B[38;5;241;43m.\u001B[39;49m\u001B[43mparse_registered_cfg\u001B[49m\u001B[43m(\u001B[49m\u001B[43mcfg\u001B[49m\u001B[43m,\u001B[49m\u001B[43m \u001B[49m\u001B[43minplace\u001B[49m\u001B[38;5;241;43m=\u001B[39;49m\u001B[38;5;28;43;01mTrue\u001B[39;49;00m\u001B[43m)\u001B[49m\n\u001B[1;32m    110\u001B[0m     \u001B[38;5;28;01mexcept\u001B[39;00m (ParseError, InvalidAttr) \u001B[38;5;28;01mas\u001B[39;00m e:\n\u001B[1;32m    111\u001B[0m         \u001B[38;5;28;01mraise\u001B[39;00m ParseError(error\u001B[38;5;241m=\u001B[39me\u001B[38;5;241m.\u001B[39merror, mark\u001B[38;5;241m=\u001B[39me\u001B[38;5;241m.\u001B[39mmark, info\u001B[38;5;241m=\u001B[39me\u001B[38;5;241m.\u001B[39minfo) \u001B[38;5;28;01mfrom\u001B[39;00m (e \u001B[38;5;28;01mif\u001B[39;00m \u001B[38;5;28mself\u001B[39m\u001B[38;5;241m.\u001B[39mverbose_exception \u001B[38;5;28;01melse\u001B[39;00m \u001B[38;5;28;01mNone\u001B[39;00m)\n",
      "File \u001B[0;32m~/These/src/nn-template/lib/nn_template/config/cfg_parser.py:241\u001B[0m, in \u001B[0;36mCfgParser.parse_registered_cfg\u001B[0;34m(cfg_dict, inplace)\u001B[0m\n\u001B[1;32m    238\u001B[0m                     \u001B[38;5;28;01mraise\u001B[39;00m ParseError(\u001B[38;5;124mf\u001B[39m\u001B[38;5;124m'\u001B[39m\u001B[38;5;124mInvalid type attribute for \u001B[39m\u001B[38;5;132;01m{\u001B[39;00mpath\u001B[38;5;132;01m}\u001B[39;00m\u001B[38;5;124m'\u001B[39m, cfg_dict[path]\u001B[38;5;241m.\u001B[39mget_mark(\u001B[38;5;124m'\u001B[39m\u001B[38;5;124mtype\u001B[39m\u001B[38;5;124m'\u001B[39m),\n\u001B[1;32m    239\u001B[0m                                      \u001B[38;5;124mf\u001B[39m\u001B[38;5;124m\"\u001B[39m\u001B[38;5;124mShould be one of: \u001B[39m\u001B[38;5;132;01m{\u001B[39;00mformat2str(cfg_obj_class\u001B[38;5;241m.\u001B[39mkeys())\u001B[38;5;132;01m}\u001B[39;00m\u001B[38;5;124m.\u001B[39m\u001B[38;5;124m\"\u001B[39m)\n\u001B[1;32m    240\u001B[0m                 cfg_obj_class \u001B[38;5;241m=\u001B[39m cfg_obj_class[\u001B[38;5;28mtype\u001B[39m]\n\u001B[0;32m--> 241\u001B[0m         cfg_dict[path] \u001B[38;5;241m=\u001B[39m \u001B[43mcfg_obj_class\u001B[49m\u001B[38;5;241;43m.\u001B[39;49m\u001B[43mfrom_cfg\u001B[49m\u001B[43m(\u001B[49m\u001B[43mcfg_dict\u001B[49m\u001B[43m[\u001B[49m\u001B[43mpath\u001B[49m\u001B[43m]\u001B[49m\u001B[43m,\u001B[49m\u001B[43m \u001B[49m\u001B[43mmark\u001B[49m\u001B[38;5;241;43m=\u001B[39;49m\u001B[43mcfg_dict\u001B[49m\u001B[38;5;241;43m.\u001B[39;49m\u001B[43mget_mark\u001B[49m\u001B[43m(\u001B[49m\u001B[43mpath\u001B[49m\u001B[43m)\u001B[49m\u001B[43m,\u001B[49m\u001B[43m \u001B[49m\u001B[43mpath\u001B[49m\u001B[38;5;241;43m=\u001B[39;49m\u001B[43mpath\u001B[49m\u001B[43m)\u001B[49m\n\u001B[1;32m    243\u001B[0m \u001B[38;5;28;01mfor\u001B[39;00m path \u001B[38;5;129;01min\u001B[39;00m _registered_cfg_object\u001B[38;5;241m.\u001B[39mkeys():\n\u001B[1;32m    244\u001B[0m     \u001B[38;5;28;01mif\u001B[39;00m path \u001B[38;5;129;01min\u001B[39;00m cfg_dict:\n",
      "File \u001B[0;32m~/These/src/nn-template/lib/nn_template/config/cfg_object.py:344\u001B[0m, in \u001B[0;36mCfgCollectionType.from_cfg\u001B[0;34m(self, cfg_dict, mark, path, parent)\u001B[0m\n\u001B[1;32m    343\u001B[0m \u001B[38;5;28;01mdef\u001B[39;00m \u001B[38;5;21mfrom_cfg\u001B[39m(\u001B[38;5;28mself\u001B[39m, cfg_dict: CfgDict, mark\u001B[38;5;241m=\u001B[39m\u001B[38;5;28;01mNone\u001B[39;00m, path\u001B[38;5;241m=\u001B[39m\u001B[38;5;28;01mNone\u001B[39;00m, parent\u001B[38;5;241m=\u001B[39m\u001B[38;5;28;01mNone\u001B[39;00m):\n\u001B[0;32m--> 344\u001B[0m     r \u001B[38;5;241m=\u001B[39m \u001B[43mCfgCollection\u001B[49m\u001B[38;5;241;43m.\u001B[39;49m\u001B[43mfrom_dict\u001B[49m\u001B[43m(\u001B[49m\u001B[43mdata\u001B[49m\u001B[38;5;241;43m=\u001B[39;49m\u001B[43mcfg_dict\u001B[49m\u001B[43m,\u001B[49m\u001B[43m \u001B[49m\u001B[43mobj_types\u001B[49m\u001B[38;5;241;43m=\u001B[39;49m\u001B[38;5;28;43mself\u001B[39;49m\u001B[38;5;241;43m.\u001B[39;49m\u001B[43mobj_types\u001B[49m\u001B[43m,\u001B[49m\u001B[43m \u001B[49m\u001B[43mshortcut_key\u001B[49m\u001B[38;5;241;43m=\u001B[39;49m\u001B[38;5;28;43mself\u001B[39;49m\u001B[38;5;241;43m.\u001B[39;49m\u001B[43mshortcut_key\u001B[49m\u001B[43m,\u001B[49m\n\u001B[1;32m    345\u001B[0m \u001B[43m                                \u001B[49m\u001B[43mrecursive\u001B[49m\u001B[38;5;241;43m=\u001B[39;49m\u001B[38;5;28;43;01mTrue\u001B[39;49;00m\u001B[43m,\u001B[49m\u001B[43m \u001B[49m\u001B[43mread_marks\u001B[49m\u001B[38;5;241;43m=\u001B[39;49m\u001B[38;5;28;43;01mTrue\u001B[39;49;00m\u001B[43m,\u001B[49m\u001B[43m \u001B[49m\u001B[43mparent\u001B[49m\u001B[38;5;241;43m=\u001B[39;49m\u001B[43mparent\u001B[49m\u001B[43m)\u001B[49m\n\u001B[1;32m    346\u001B[0m     \u001B[38;5;28;01mif\u001B[39;00m mark \u001B[38;5;129;01mis\u001B[39;00m \u001B[38;5;129;01mnot\u001B[39;00m \u001B[38;5;28;01mNone\u001B[39;00m:\n\u001B[1;32m    347\u001B[0m         r\u001B[38;5;241m.\u001B[39mmark \u001B[38;5;241m=\u001B[39m mark\n",
      "File \u001B[0;32m~/These/src/nn-template/lib/nn_template/config/cfg_dict.py:145\u001B[0m, in \u001B[0;36mCfgDict.from_dict\u001B[0;34m(cls, data, recursive, recursive_name, read_marks, **kwargs)\u001B[0m\n\u001B[1;32m    143\u001B[0m             \u001B[38;5;28;01mif\u001B[39;00m \u001B[38;5;28misinstance\u001B[39m(v, CfgDict) \u001B[38;5;129;01mand\u001B[39;00m v\u001B[38;5;241m.\u001B[39mmark \u001B[38;5;129;01mis\u001B[39;00m \u001B[38;5;129;01mnot\u001B[39;00m \u001B[38;5;28;01mNone\u001B[39;00m:\n\u001B[1;32m    144\u001B[0m                 r\u001B[38;5;241m.\u001B[39mchild_mark[\u001B[38;5;28mstr\u001B[39m(k)] \u001B[38;5;241m=\u001B[39m v\u001B[38;5;241m.\u001B[39mmark\n\u001B[0;32m--> 145\u001B[0m             v \u001B[38;5;241m=\u001B[39m \u001B[38;5;28;43mcls\u001B[39;49m\u001B[38;5;241;43m.\u001B[39;49m\u001B[43mfrom_dict\u001B[49m\u001B[43m(\u001B[49m\u001B[43mv\u001B[49m\u001B[43m,\u001B[49m\u001B[43m \u001B[49m\u001B[38;5;241;43m*\u001B[39;49m\u001B[38;5;241;43m*\u001B[39;49m\u001B[43mfrom_dict_args\u001B[49m\u001B[43m)\u001B[49m\n\u001B[1;32m    146\u001B[0m     r[\u001B[38;5;28mstr\u001B[39m(k)] \u001B[38;5;241m=\u001B[39m v\n\u001B[1;32m    147\u001B[0m \u001B[38;5;28;01mreturn\u001B[39;00m r\n",
      "File \u001B[0;32m~/These/src/nn-template/lib/nn_template/config/cfg_dict.py:146\u001B[0m, in \u001B[0;36mCfgDict.from_dict\u001B[0;34m(cls, data, recursive, recursive_name, read_marks, **kwargs)\u001B[0m\n\u001B[1;32m    144\u001B[0m                     r\u001B[38;5;241m.\u001B[39mchild_mark[\u001B[38;5;28mstr\u001B[39m(k)] \u001B[38;5;241m=\u001B[39m v\u001B[38;5;241m.\u001B[39mmark\n\u001B[1;32m    145\u001B[0m                 v \u001B[38;5;241m=\u001B[39m \u001B[38;5;28mcls\u001B[39m\u001B[38;5;241m.\u001B[39mfrom_dict(v, \u001B[38;5;241m*\u001B[39m\u001B[38;5;241m*\u001B[39mfrom_dict_args)\n\u001B[0;32m--> 146\u001B[0m         \u001B[43mr\u001B[49m\u001B[43m[\u001B[49m\u001B[38;5;28;43mstr\u001B[39;49m\u001B[43m(\u001B[49m\u001B[43mk\u001B[49m\u001B[43m)\u001B[49m\u001B[43m]\u001B[49m \u001B[38;5;241m=\u001B[39m v\n\u001B[1;32m    147\u001B[0m     \u001B[38;5;28;01mreturn\u001B[39;00m r\n\u001B[1;32m    148\u001B[0m \u001B[38;5;28;01melif\u001B[39;00m \u001B[38;5;28misinstance\u001B[39m(data, \u001B[38;5;28mlist\u001B[39m):\n",
      "File \u001B[0;32m~/These/src/nn-template/lib/nn_template/config/cfg_dict.py:634\u001B[0m, in \u001B[0;36mCfgCollection.__setitem__\u001B[0;34m(self, key, value)\u001B[0m\n\u001B[1;32m    632\u001B[0m \u001B[38;5;28;01mif\u001B[39;00m value \u001B[38;5;129;01mis\u001B[39;00m EMPTY:\n\u001B[1;32m    633\u001B[0m     value \u001B[38;5;241m=\u001B[39m {\u001B[38;5;28mself\u001B[39m\u001B[38;5;241m.\u001B[39m_shortcut_key: key}\n\u001B[0;32m--> 634\u001B[0m value \u001B[38;5;241m=\u001B[39m \u001B[38;5;28;43mself\u001B[39;49m\u001B[38;5;241;43m.\u001B[39;49m\u001B[43m_to_obj_type\u001B[49m\u001B[43m(\u001B[49m\u001B[43mvalue\u001B[49m\u001B[43m,\u001B[49m\u001B[43m \u001B[49m\u001B[43mmark\u001B[49m\u001B[43m)\u001B[49m\n\u001B[1;32m    635\u001B[0m \u001B[38;5;28;01mreturn\u001B[39;00m \u001B[38;5;28msuper\u001B[39m(CfgCollection, \u001B[38;5;28mself\u001B[39m)\u001B[38;5;241m.\u001B[39m\u001B[38;5;21m__setitem__\u001B[39m(key, value)\n",
      "File \u001B[0;32m~/These/src/nn-template/lib/nn_template/config/cfg_dict.py:656\u001B[0m, in \u001B[0;36mCfgCollection._to_obj_type\u001B[0;34m(self, value, mark)\u001B[0m\n\u001B[1;32m    654\u001B[0m \u001B[38;5;28;01mdef\u001B[39;00m \u001B[38;5;21m_to_obj_type\u001B[39m(\u001B[38;5;28mself\u001B[39m, value, mark\u001B[38;5;241m=\u001B[39m\u001B[38;5;28;01mNone\u001B[39;00m):\n\u001B[1;32m    655\u001B[0m     \u001B[38;5;28;01mif\u001B[39;00m \u001B[38;5;28mself\u001B[39m\u001B[38;5;241m.\u001B[39mtype_key \u001B[38;5;129;01mis\u001B[39;00m \u001B[38;5;28;01mNone\u001B[39;00m:\n\u001B[0;32m--> 656\u001B[0m         \u001B[38;5;28;01mreturn\u001B[39;00m \u001B[38;5;28;43mself\u001B[39;49m\u001B[38;5;241;43m.\u001B[39;49m\u001B[43mto_type\u001B[49m\u001B[43m(\u001B[49m\u001B[38;5;28;43mself\u001B[39;49m\u001B[38;5;241;43m.\u001B[39;49m\u001B[43mobj_types\u001B[49m\u001B[43m,\u001B[49m\u001B[43m \u001B[49m\u001B[43mvalue\u001B[49m\u001B[43m,\u001B[49m\u001B[43m \u001B[49m\u001B[43mmark\u001B[49m\u001B[38;5;241;43m=\u001B[39;49m\u001B[43mmark\u001B[49m\u001B[43m)\u001B[49m\n\u001B[1;32m    657\u001B[0m     \u001B[38;5;28;01melse\u001B[39;00m:\n\u001B[1;32m    658\u001B[0m         \u001B[38;5;28;01mreturn\u001B[39;00m \u001B[38;5;28mself\u001B[39m\u001B[38;5;241m.\u001B[39mmatch_type(\u001B[38;5;28mself\u001B[39m\u001B[38;5;241m.\u001B[39m_obj_types, \u001B[38;5;28mself\u001B[39m\u001B[38;5;241m.\u001B[39mtype_key, value, mark\u001B[38;5;241m=\u001B[39mmark)\n",
      "File \u001B[0;32m~/These/src/nn-template/lib/nn_template/config/cfg_dict.py:682\u001B[0m, in \u001B[0;36mCfgCollection.to_type\u001B[0;34m(self, obj_types, value, mark)\u001B[0m\n\u001B[1;32m    680\u001B[0m \u001B[38;5;28;01melse\u001B[39;00m:\n\u001B[1;32m    681\u001B[0m     \u001B[38;5;28;01mtry\u001B[39;00m:\n\u001B[0;32m--> 682\u001B[0m         \u001B[38;5;28;01mreturn\u001B[39;00m \u001B[43mobj_type\u001B[49m\u001B[43m(\u001B[49m\u001B[43mvalue\u001B[49m\u001B[43m)\u001B[49m\n\u001B[1;32m    683\u001B[0m     \u001B[38;5;28;01mexcept\u001B[39;00m \u001B[38;5;167;01mTypeError\u001B[39;00m:\n\u001B[1;32m    684\u001B[0m         \u001B[38;5;28;01mcontinue\u001B[39;00m\n",
      "File \u001B[0;32m~/These/src/nn-template/lib/nn_template/config/cfg_object.py:233\u001B[0m, in \u001B[0;36mCfgObj.__init__\u001B[0;34m(self, data, parent)\u001B[0m\n\u001B[1;32m    229\u001B[0m \u001B[38;5;66;03m#if data is None:\u001B[39;00m\n\u001B[1;32m    230\u001B[0m \u001B[38;5;66;03m#    data = {}\u001B[39;00m\n\u001B[1;32m    231\u001B[0m \u001B[38;5;66;03m#data.update({name: attr.default for name, attr in self.attributes().items() if attr.default is not UNDEFINED})\u001B[39;00m\n\u001B[1;32m    232\u001B[0m \u001B[38;5;28;01mif\u001B[39;00m data:\n\u001B[0;32m--> 233\u001B[0m     \u001B[38;5;28;43mself\u001B[39;49m\u001B[38;5;241;43m.\u001B[39;49m\u001B[43mupdate\u001B[49m\u001B[43m(\u001B[49m\u001B[43mdata\u001B[49m\u001B[43m)\u001B[49m\n",
      "File \u001B[0;32m~/These/src/nn-template/lib/nn_template/config/cfg_dict.py:482\u001B[0m, in \u001B[0;36mCfgDict.update\u001B[0;34m(self, _CfgDict__m, **kwargs)\u001B[0m\n\u001B[1;32m    481\u001B[0m \u001B[38;5;28;01mdef\u001B[39;00m \u001B[38;5;21mupdate\u001B[39m(\u001B[38;5;28mself\u001B[39m, __m: Dict[\u001B[38;5;28mstr\u001B[39m, \u001B[38;5;28many\u001B[39m], \u001B[38;5;241m*\u001B[39m\u001B[38;5;241m*\u001B[39mkwargs: \u001B[38;5;28many\u001B[39m) \u001B[38;5;241m-\u001B[39m\u001B[38;5;241m>\u001B[39m \u001B[38;5;28;01mNone\u001B[39;00m:\n\u001B[0;32m--> 482\u001B[0m     \u001B[38;5;28;01massert\u001B[39;00m \u001B[38;5;28misinstance\u001B[39m(__m, Mapping), \u001B[38;5;124mf\u001B[39m\u001B[38;5;124m'\u001B[39m\u001B[38;5;124mError when parsing \u001B[39m\u001B[38;5;132;01m{\u001B[39;00m\u001B[38;5;28mself\u001B[39m\u001B[38;5;241m.\u001B[39mfullname\u001B[38;5;132;01m}\u001B[39;00m\u001B[38;5;124m: __m must be a Mapping, not \u001B[39m\u001B[38;5;132;01m{\u001B[39;00m\u001B[38;5;28mtype\u001B[39m(__m)\u001B[38;5;132;01m}\u001B[39;00m\u001B[38;5;124m'\u001B[39m\n\u001B[1;32m    483\u001B[0m     __m\u001B[38;5;241m.\u001B[39mupdate(kwargs)\n\u001B[1;32m    485\u001B[0m     \u001B[38;5;28;01mif\u001B[39;00m \u001B[38;5;28misinstance\u001B[39m(__m, CfgDict):\n",
      "\u001B[0;31mAssertionError\u001B[0m: Error when parsing None: __m must be a Mapping, not <class 'bool'>"
     ]
    }
   ],
   "source": [
    "cfg = Cfg.Parser('vessels.yaml').get_config()"
   ]
  },
  {
   "cell_type": "code",
   "execution_count": null,
   "id": "900b891e-e1bb-43cb-842e-d461a918a285",
   "metadata": {},
   "outputs": [],
   "source": [
    "train = cfg['datasets.train'].dataset()\n",
    "validate = cfg['datasets.validate'].dataset()\n",
    "test = cfg['datasets.test.DRIVE'].dataset()"
   ]
  },
  {
   "cell_type": "code",
   "execution_count": null,
   "id": "abb0729d-ae61-428f-b864-b9cf0bad4781",
   "metadata": {},
   "outputs": [],
   "source": [
    "%timeit train[1]\n",
    "data = [train[1] for i in range(3)]"
   ]
  },
  {
   "cell_type": "code",
   "execution_count": null,
   "id": "5b09f973-e16c-4d3d-a0bb-796f34333a20",
   "metadata": {},
   "outputs": [],
   "source": [
    "plt.rcParams[\"figure.figsize\"] = (25, 25)"
   ]
  },
  {
   "cell_type": "code",
   "execution_count": null,
   "id": "a78d7fcb-1da1-4ef5-a368-166bb243c309",
   "metadata": {},
   "outputs": [],
   "source": [
    "fig, axs = plt.subplots(len(data),3)\n",
    "for i, d in enumerate(data):\n",
    "    axs[i, 0].imshow(d['x'].permute((1,2,0)).flip(2))\n",
    "    axs[i, 1].imshow(d['y'], cmap='gray', vmax=1)\n",
    "    axs[i, 2].imshow(d['mask'], cmap='gray')"
   ]
  },
  {
   "cell_type": "markdown",
   "id": "1b455fa9-6f59-4caf-9a7f-a11beae94b7c",
   "metadata": {},
   "source": [
    "## Test Dataloader"
   ]
  },
  {
   "cell_type": "code",
   "execution_count": null,
   "id": "d641123a-b39d-4d7d-b916-6dbf926707dd",
   "metadata": {},
   "outputs": [],
   "source": [
    "datasets = cfg['datasets']\n",
    "train_dataloader, val_dataloader = datasets.create_train_val_dataloaders()\n",
    "test_dataloader = datasets.create_test_dataloaders()"
   ]
  },
  {
   "cell_type": "code",
   "execution_count": null,
   "id": "401b4acb-1a6d-4839-b64d-14a20d4d0351",
   "metadata": {},
   "outputs": [],
   "source": []
  },
  {
   "cell_type": "code",
   "execution_count": null,
   "id": "8cff7aa9-7f1e-47cc-9186-616b46b8db4a",
   "metadata": {},
   "outputs": [],
   "source": [
    "batch = next(iter(test_dataloader[0]))\n",
    "fig, axs = plt.subplots(len(batch['x']),3)\n",
    "for i, (x, y, mask) in enumerate(zip(*[batch[_] for _ in 'x y mask'.split()])):\n",
    "    axs[i, 0].imshow(x.permute((1,2,0)).flip(2))\n",
    "    axs[i, 1].imshow(y, cmap='gray', vmax=1)\n",
    "    axs[i, 2].imshow(mask, cmap='gray')"
   ]
  },
  {
   "cell_type": "code",
   "execution_count": null,
   "id": "2cb9e344-c077-44b3-8c1c-39650a78e3c4",
   "metadata": {},
   "outputs": [],
   "source": [
    "cmap_vessel = {(0, 0): 'black', (1, 1): 'white', (1, 0): 'orange', (0, 1): 'greenyellow', 'default': 'lightgray'}\n",
    "formatter = Export2DLabel(cmap_vessel)\n",
    "formatter.format_batch(batch)"
   ]
  },
  {
   "cell_type": "code",
   "execution_count": null,
   "id": "d5f90da8-3c79-463c-ac03-6e6dc0e8c02e",
   "metadata": {},
   "outputs": [],
   "source": []
  }
 ],
 "metadata": {
  "kernelspec": {
   "display_name": "Python 3 (ipykernel)",
   "language": "python",
   "name": "python3"
  },
  "language_info": {
   "codemirror_mode": {
    "name": "ipython",
    "version": 3
   },
   "file_extension": ".py",
   "mimetype": "text/x-python",
   "name": "python",
   "nbconvert_exporter": "python",
   "pygments_lexer": "ipython3",
   "version": "3.10.6"
  }
 },
 "nbformat": 4,
 "nbformat_minor": 5
}
